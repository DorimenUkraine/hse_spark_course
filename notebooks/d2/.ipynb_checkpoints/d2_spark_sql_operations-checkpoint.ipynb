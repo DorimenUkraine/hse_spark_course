{
 "cells": [
  {
   "cell_type": "code",
   "execution_count": 1,
   "metadata": {},
   "outputs": [],
   "source": [
    "from pyspark.sql import SparkSession\n",
    "from pyspark.sql import functions as f_"
   ]
  },
  {
   "cell_type": "code",
   "execution_count": 2,
   "metadata": {},
   "outputs": [],
   "source": [
    "spark = SparkSession.builder.getOrCreate()"
   ]
  },
  {
   "cell_type": "code",
   "execution_count": 3,
   "metadata": {},
   "outputs": [],
   "source": [
    "ratings_df = spark.read.csv(\"///var/localdata/datasets/movielens/ratings.csv\", header=True)"
   ]
  },
  {
   "cell_type": "markdown",
   "metadata": {},
   "source": [
    "### DataFrames Operations\n",
    "\n",
    "https://spark.apache.org/docs/latest/api/python/pyspark.sql.html#module-pyspark.sql"
   ]
  },
  {
   "cell_type": "code",
   "execution_count": 5,
   "metadata": {},
   "outputs": [],
   "source": [
    "display(ratings_df.select(['movieId','rating']))"
   ]
  },
  {
   "cell_type": "code",
   "execution_count": 6,
   "metadata": {},
   "outputs": [],
   "source": [
    "ratings_df.printSchema()"
   ]
  },
  {
   "cell_type": "code",
   "execution_count": 7,
   "metadata": {},
   "outputs": [],
   "source": [
    "# Изменение типа данных осуществляется с помощью типов данных\n",
    "from pyspark.sql.types import IntegerType\n",
    "\n",
    "# создаем новую колонку withColumn() и применяем к колонке новый дата тип\n",
    "ratings_df = ratings_df.withColumn(\"rating\", ratings_df['rating'].cast(IntegerType()))\n",
    "# take a look at the schema now\n",
    "ratings_df.select(['movieId','rating']).printSchema()"
   ]
  },
  {
   "cell_type": "code",
   "execution_count": 8,
   "metadata": {},
   "outputs": [],
   "source": [
    "# фильтр данных\n",
    "ratings_df.filter(ratings_df.rating.isNull()).count()"
   ]
  },
  {
   "cell_type": "code",
   "execution_count": 9,
   "metadata": {},
   "outputs": [],
   "source": [
    "# если это SQL DF, то можно применить where\n",
    "ratings_df.where(ratings_df.rating.isNull()).count()"
   ]
  },
  {
   "cell_type": "markdown",
   "metadata": {},
   "source": [
    "### Group By\n",
    "**aggregate functions (COUNT, MAX, MIN, SUM, AVG)** "
   ]
  },
  {
   "cell_type": "code",
   "execution_count": 11,
   "metadata": {},
   "outputs": [],
   "source": [
    "# Агрега по фильмам, где нужно найти средний рейтинг фильма, и сделать агрегат по среднему рейтингу\n",
    "display(ratings_df.groupBy('movieId').agg(avg('rating').alias('avg_rating'), count('rating').alias('reviews')))"
   ]
  },
  {
   "cell_type": "code",
   "execution_count": 12,
   "metadata": {},
   "outputs": [],
   "source": [
    "# Обзор данных, где фильм входит в ТОП 10, и имеет не менее 50 оценок\n",
    "ratings_sum_df = ratings_df.groupBy('movieId').agg(avg('rating').alias('avg_rating'), count('rating').alias('reviews'))\n",
    "display(ratings_sum_df.filter(ratings_sum_df.reviews > 50).sort('avg_rating', ascending=False).limit(10))"
   ]
  },
  {
   "cell_type": "markdown",
   "metadata": {},
   "source": [
    "### User Defined Functions (UDF)\n",
    "\n",
    "https://docs.databricks.com/spark/latest/spark-sql/udf-in-python.html"
   ]
  },
  {
   "cell_type": "code",
   "execution_count": null,
   "metadata": {},
   "outputs": [],
   "source": [
    "from pyspark.sql.functions import udf\n",
    "from pyspark.sql.types import StringType"
   ]
  },
  {
   "cell_type": "code",
   "execution_count": 15,
   "metadata": {},
   "outputs": [],
   "source": [
    "# Определим собственную функцию из лямбды и зарегистрируем её\n",
    "# функция определяюшая рейтинг выше/ниже 3.5\n",
    "\n",
    "watchable_udf = udf(lambda avg_rating: 'yes' if avg_rating > 3.5 else 'no', StringType())"
   ]
  },
  {
   "cell_type": "code",
   "execution_count": 16,
   "metadata": {},
   "outputs": [],
   "source": [
    "# другой вариант\n",
    "def watchable_udf(avg_rating, reviews):\n",
    "    if avg_rating > 3.5 and reviews > 50:\n",
    "        return 'yes'\n",
    "      elif avg_rating > 3.5 and reviews < 50:\n",
    "        return 'maybe'\n",
    "      else:\n",
    "        return 'no'\n",
    "    \n",
    "watchable_udf = udf(watchable_udf, StringType())"
   ]
  },
  {
   "cell_type": "code",
   "execution_count": 17,
   "metadata": {},
   "outputs": [],
   "source": [
    "# использование функции\n",
    "ratings_sum_df = ratings_sum_df.withColumn('watchable', watchable_udf(ratings_sum_df.avg_rating,ratings_sum_df.reviews))"
   ]
  },
  {
   "cell_type": "code",
   "execution_count": 18,
   "metadata": {},
   "outputs": [],
   "source": [
    "display(ratings_sum_df)"
   ]
  },
  {
   "cell_type": "markdown",
   "metadata": {},
   "source": [
    "### Joins\n",
    "\n",
    "\n",
    "* (INNER) JOIN\n",
    "* LEFT (OUTER) JOIN\n",
    "* RIGHT (OUTER) JOIN\n",
    "* FULL (OUTER) JOIN\n",
    "\n",
    "https://spark.apache.org/docs/latest/api/python/pyspark.sql.html#join "
   ]
  },
  {
   "cell_type": "code",
   "execution_count": 20,
   "metadata": {},
   "outputs": [],
   "source": [
    "movies_df = spark.read.csv(\"///var/localdata/datasets/movielens/movies.csv\", header=True)\n",
    "display(movies_df)"
   ]
  },
  {
   "cell_type": "code",
   "execution_count": 21,
   "metadata": {},
   "outputs": [],
   "source": [
    "# расширим наш дата сет\n",
    "movie_ratings_sum_df = ratings_sum_df.join(movies_df, ratings_sum_df.movieId == movies_df.movieId)"
   ]
  },
  {
   "cell_type": "code",
   "execution_count": 22,
   "metadata": {},
   "outputs": [],
   "source": [
    "display(movie_ratings_sum_df.select(['title','avg_rating','reviews','watchable']))"
   ]
  }
 ],
 "metadata": {
  "kernelspec": {
   "display_name": "Python 3",
   "language": "python",
   "name": "python3"
  },
  "language_info": {
   "codemirror_mode": {
    "name": "ipython",
    "version": 3
   },
   "file_extension": ".py",
   "mimetype": "text/x-python",
   "name": "python",
   "nbconvert_exporter": "python",
   "pygments_lexer": "ipython3",
   "version": "3.7.6"
  },
  "name": "Spark Lab 6",
  "notebookId": 1713846382052925
 },
 "nbformat": 4,
 "nbformat_minor": 1
}
