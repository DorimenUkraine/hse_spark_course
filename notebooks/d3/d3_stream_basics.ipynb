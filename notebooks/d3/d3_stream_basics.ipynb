{
 "cells": [
  {
   "cell_type": "code",
   "execution_count": 1,
   "metadata": {},
   "outputs": [],
   "source": [
    "import pyspark\n",
    "import os\n",
    "\n",
    "os.environ['SPARK_DIST_CLASSPATH']=\"\"\"/opt/spark2/conf/yarn-conf:/opt/hadoop2/share/hadoop/common/lib/*:/opt/hadoop2/share/hadoop/common/*:/opt/hadoop2/share/hadoop/hdfs:/opt/hadoop2/share/hadoop/hdfs/lib/*:/opt/hadoop2/share/hadoop/hdfs/*:/opt/hadoop2/share/hadoop/yarn/lib/*:/opt/hadoop2/share/hadoop/yarn/*:/opt/hadoop2/share/hadoop/mapreduce/lib/*:/opt/hadoop2/share/hadoop/mapreduce/*\"\"\"\n",
    "\n",
    "\n",
    "from pyspark import SparkContext, SparkConf, SQLContext\n",
    "\n",
    "from pyspark.streaming import StreamingContext\n",
    "\n",
    "from pyspark.sql import SparkSession\n",
    "\n",
    "from pyspark import SparkConf, SparkContext\n",
    "\n",
    "from pyspark.streaming import StreamingContext"
   ]
  },
  {
   "cell_type": "markdown",
   "metadata": {},
   "source": [
    "# База"
   ]
  },
  {
   "cell_type": "code",
   "execution_count": 2,
   "metadata": {},
   "outputs": [
    {
     "data": {
      "text/html": [
       "\n",
       "        <div>\n",
       "            <p><b>SparkContext</b></p>\n",
       "\n",
       "            <p><a href=\"http://cnt-cls-m1:4040\">Spark UI</a></p>\n",
       "\n",
       "            <dl>\n",
       "              <dt>Version</dt>\n",
       "                <dd><code>v2.4.6</code></dd>\n",
       "              <dt>Master</dt>\n",
       "                <dd><code>local[2]</code></dd>\n",
       "              <dt>AppName</dt>\n",
       "                <dd><code>studtask</code></dd>\n",
       "            </dl>\n",
       "        </div>\n",
       "        "
      ],
      "text/plain": [
       "<SparkContext master=local[2] appName=studtask>"
      ]
     },
     "execution_count": 2,
     "metadata": {},
     "output_type": "execute_result"
    }
   ],
   "source": [
    "# нужно не меньше 2х ядер: 1 - для получения данных, 1 - для процессинга\n",
    "conf = SparkConf().set(\"spark://cnt-cls-m1:7070\",\"local[2]\") \n",
    "sc = SparkContext(master='local[2]')\n",
    "sc"
   ]
  },
  {
   "cell_type": "code",
   "execution_count": 3,
   "metadata": {},
   "outputs": [
    {
     "data": {
      "text/plain": [
       "<pyspark.streaming.context.StreamingContext at 0x7f892ff81940>"
      ]
     },
     "execution_count": 3,
     "metadata": {},
     "output_type": "execute_result"
    }
   ],
   "source": [
    "from pyspark.streaming import StreamingContext\n",
    "\n",
    "#обект стриминга и длительность батча (сек)\n",
    "ssc = StreamingContext(sparkContext=sc,batchDuration=10) \n",
    "ssc"
   ]
  },
  {
   "cell_type": "code",
   "execution_count": 7,
   "metadata": {},
   "outputs": [],
   "source": [
    "# определяем сокет для получения данных и порт\n",
    "dstream1 = ssc.socketTextStream(\"localhost\", 9999)\n",
    "dstream1\n",
    "dstream1.pprint()"
   ]
  },
  {
   "cell_type": "code",
   "execution_count": 8,
   "metadata": {},
   "outputs": [
    {
     "name": "stdout",
     "output_type": "stream",
     "text": [
      "-------------------------------------------\n",
      "Time: 2020-09-10 10:25:50\n",
      "-------------------------------------------\n",
      "\n",
      "-------------------------------------------\n",
      "Time: 2020-09-10 10:26:00\n",
      "-------------------------------------------\n",
      "\n",
      "-------------------------------------------\n",
      "Time: 2020-09-10 10:26:10\n",
      "-------------------------------------------\n",
      "\n",
      "-------------------------------------------\n",
      "Time: 2020-09-10 10:26:20\n",
      "-------------------------------------------\n",
      "asdasda \n",
      "asdas ada sda asda sda da asdas\n",
      "\n",
      "-------------------------------------------\n",
      "Time: 2020-09-10 10:26:30\n",
      "-------------------------------------------\n",
      "\n",
      "-------------------------------------------\n",
      "Time: 2020-09-10 10:26:40\n",
      "-------------------------------------------\n",
      "\n",
      "-------------------------------------------\n",
      "Time: 2020-09-10 10:26:50\n",
      "-------------------------------------------\n",
      "\n",
      "-------------------------------------------\n",
      "Time: 2020-09-10 10:27:00\n",
      "-------------------------------------------\n",
      "\n",
      "-------------------------------------------\n",
      "Time: 2020-09-10 10:27:10\n",
      "-------------------------------------------\n",
      "\n",
      "-------------------------------------------\n",
      "Time: 2020-09-10 10:27:20\n",
      "-------------------------------------------\n",
      "\n",
      "-------------------------------------------\n",
      "Time: 2020-09-10 10:27:30\n",
      "-------------------------------------------\n",
      "get my data\n",
      "\n",
      "-------------------------------------------\n",
      "Time: 2020-09-10 10:27:40\n",
      "-------------------------------------------\n",
      "\n"
     ]
    }
   ],
   "source": [
    "ssc.start()"
   ]
  },
  {
   "cell_type": "code",
   "execution_count": 9,
   "metadata": {},
   "outputs": [],
   "source": [
    "ssc.stop(False,False)"
   ]
  },
  {
   "cell_type": "markdown",
   "metadata": {},
   "source": [
    "# Функции над стриминг процессом"
   ]
  },
  {
   "cell_type": "code",
   "execution_count": 10,
   "metadata": {},
   "outputs": [
    {
     "data": {
      "text/plain": [
       "<pyspark.streaming.context.StreamingContext at 0x7f5a64c7d6d8>"
      ]
     },
     "execution_count": 10,
     "metadata": {},
     "output_type": "execute_result"
    }
   ],
   "source": [
    "ssc = StreamingContext(sparkContext=sc,batchDuration=20)\n",
    "ssc"
   ]
  },
  {
   "cell_type": "code",
   "execution_count": 11,
   "metadata": {},
   "outputs": [
    {
     "name": "stdout",
     "output_type": "stream",
     "text": [
      "<pyspark.streaming.dstream.DStream object at 0x7f5a64c7dba8>\n"
     ]
    }
   ],
   "source": [
    "ds1 = ssc.socketTextStream(hostname = \"localhost\", port = 9999)\n",
    "print(ds1)\n"
   ]
  },
  {
   "cell_type": "code",
   "execution_count": 12,
   "metadata": {},
   "outputs": [
    {
     "name": "stdout",
     "output_type": "stream",
     "text": [
      "<pyspark.streaming.dstream.TransformedDStream object at 0x7f5a64c83518>\n",
      "None\n"
     ]
    }
   ],
   "source": [
    "# посчитаем повторяющиеся слова\n",
    "ds2 = ds1#.flatMap(lambda x:x.split(\" \")).map(lambda x:(x,1)).reduceByKey(lambda x,y:x+y)\n",
    "print(ds2)\n",
    "print(ds2.pprint())"
   ]
  },
  {
   "cell_type": "code",
   "execution_count": 13,
   "metadata": {},
   "outputs": [
    {
     "name": "stdout",
     "output_type": "stream",
     "text": [
      "-------------------------------------------\n",
      "Time: 2020-09-10 10:33:20\n",
      "-------------------------------------------\n",
      "\n",
      "-------------------------------------------\n",
      "Time: 2020-09-10 10:33:40\n",
      "-------------------------------------------\n",
      "\n",
      "-------------------------------------------\n",
      "Time: 2020-09-10 10:34:00\n",
      "-------------------------------------------\n",
      "('', 209)\n",
      "('1', 1)\n",
      "('mc', 7)\n",
      "('su', 11)\n",
      "('4', 1)\n",
      "('echo', 1)\n",
      "('ls', 4)\n",
      "('8', 1)\n",
      "('9', 1)\n",
      "('mkdir', 1)\n",
      "...\n",
      "\n",
      "-------------------------------------------\n",
      "Time: 2020-09-10 10:34:20\n",
      "-------------------------------------------\n",
      "\n",
      "-------------------------------------------\n",
      "Time: 2020-09-10 10:34:40\n",
      "-------------------------------------------\n",
      "\n",
      "-------------------------------------------\n",
      "Time: 2020-09-10 10:35:00\n",
      "-------------------------------------------\n",
      "\n",
      "-------------------------------------------\n",
      "Time: 2020-09-10 10:35:20\n",
      "-------------------------------------------\n",
      "\n",
      "-------------------------------------------\n",
      "Time: 2020-09-10 10:35:40\n",
      "-------------------------------------------\n",
      "\n",
      "-------------------------------------------\n",
      "Time: 2020-09-10 10:36:00\n",
      "-------------------------------------------\n",
      "\n",
      "-------------------------------------------\n",
      "Time: 2020-09-10 10:36:20\n",
      "-------------------------------------------\n",
      "\n"
     ]
    }
   ],
   "source": [
    "ssc.start()"
   ]
  },
  {
   "cell_type": "code",
   "execution_count": null,
   "metadata": {},
   "outputs": [],
   "source": [
    "# сохранить результат локально \n",
    "ds2.saveAsTextFiles(\"file:///home/{}/{}\".format(\"\", \"\"))"
   ]
  },
  {
   "cell_type": "code",
   "execution_count": 14,
   "metadata": {},
   "outputs": [],
   "source": [
    "# выбор типа остановка, можно сделать стоп и спарк контекста или стриминг контенкста\n",
    "ssc.stop(stopSparkContext=False,stopGraceFully=False) "
   ]
  },
  {
   "cell_type": "markdown",
   "metadata": {},
   "source": [
    "# parallelize"
   ]
  },
  {
   "cell_type": "code",
   "execution_count": 15,
   "metadata": {},
   "outputs": [
    {
     "data": {
      "text/plain": [
       "<pyspark.streaming.context.StreamingContext at 0x7f5a64c25a58>"
      ]
     },
     "execution_count": 15,
     "metadata": {},
     "output_type": "execute_result"
    }
   ],
   "source": [
    "ssc = StreamingContext(sparkContext=sc,batchDuration=20)\n",
    "ssc"
   ]
  },
  {
   "cell_type": "code",
   "execution_count": 17,
   "metadata": {},
   "outputs": [
    {
     "name": "stdout",
     "output_type": "stream",
     "text": [
      "[ParallelCollectionRDD[106] at parallelize at PythonRDD.scala:195, ParallelCollectionRDD[107] at parallelize at PythonRDD.scala:195, ParallelCollectionRDD[108] at parallelize at PythonRDD.scala:195, ParallelCollectionRDD[109] at parallelize at PythonRDD.scala:195, ParallelCollectionRDD[110] at parallelize at PythonRDD.scala:195, ParallelCollectionRDD[111] at parallelize at PythonRDD.scala:195, ParallelCollectionRDD[112] at parallelize at PythonRDD.scala:195, ParallelCollectionRDD[113] at parallelize at PythonRDD.scala:195, ParallelCollectionRDD[114] at parallelize at PythonRDD.scala:195, ParallelCollectionRDD[115] at parallelize at PythonRDD.scala:195]\n"
     ]
    }
   ],
   "source": [
    "queueOfRDDs = []\n",
    "for i in range(10):\n",
    "    queueOfRDDs.append(sc.parallelize([i]))\n",
    "print(queueOfRDDs)    "
   ]
  },
  {
   "cell_type": "code",
   "execution_count": 22,
   "metadata": {},
   "outputs": [],
   "source": [
    "# создадим Dstream из очереди из RDD\n",
    "dstream_rdd = ssc.queueStream(queueOfRDDs).persist(pyspark.StorageLevel.MEMORY_AND_DISK)\n",
    "dstream_rdd.pprint()"
   ]
  },
  {
   "cell_type": "code",
   "execution_count": 24,
   "metadata": {},
   "outputs": [],
   "source": [
    "# путь указывается до директории (файловая система - hadoop)\n",
    "#dstream_file = ssc.textFileStream(\"file:///home/{}/{}\".format(\"\", \"\"))\n",
    "#dstream_file.pprint()"
   ]
  },
  {
   "cell_type": "code",
   "execution_count": 25,
   "metadata": {},
   "outputs": [
    {
     "name": "stdout",
     "output_type": "stream",
     "text": [
      "-------------------------------------------\n",
      "Time: 2020-09-10 10:43:40\n",
      "-------------------------------------------\n",
      "0\n",
      "\n",
      "-------------------------------------------\n",
      "Time: 2020-09-10 10:43:40\n",
      "-------------------------------------------\n",
      "0\n",
      "\n",
      "-------------------------------------------\n",
      "Time: 2020-09-10 10:43:40\n",
      "-------------------------------------------\n",
      "\n",
      "-------------------------------------------\n",
      "Time: 2020-09-10 10:44:00\n",
      "-------------------------------------------\n",
      "1\n",
      "\n",
      "-------------------------------------------\n",
      "Time: 2020-09-10 10:44:00\n",
      "-------------------------------------------\n",
      "1\n",
      "\n",
      "-------------------------------------------\n",
      "Time: 2020-09-10 10:44:00\n",
      "-------------------------------------------\n",
      "\n",
      "-------------------------------------------\n",
      "Time: 2020-09-10 10:44:20\n",
      "-------------------------------------------\n",
      "2\n",
      "\n",
      "-------------------------------------------\n",
      "Time: 2020-09-10 10:44:20\n",
      "-------------------------------------------\n",
      "2\n",
      "\n",
      "-------------------------------------------\n",
      "Time: 2020-09-10 10:44:20\n",
      "-------------------------------------------\n",
      "\n",
      "-------------------------------------------\n",
      "Time: 2020-09-10 10:44:40\n",
      "-------------------------------------------\n",
      "3\n",
      "\n",
      "-------------------------------------------\n",
      "Time: 2020-09-10 10:44:40\n",
      "-------------------------------------------\n",
      "3\n",
      "\n",
      "-------------------------------------------\n",
      "Time: 2020-09-10 10:44:40\n",
      "-------------------------------------------\n",
      "\n",
      "-------------------------------------------\n",
      "Time: 2020-09-10 10:45:00\n",
      "-------------------------------------------\n",
      "4\n",
      "\n",
      "-------------------------------------------\n",
      "Time: 2020-09-10 10:45:00\n",
      "-------------------------------------------\n",
      "4\n",
      "\n",
      "-------------------------------------------\n",
      "Time: 2020-09-10 10:45:00\n",
      "-------------------------------------------\n",
      "\n",
      "-------------------------------------------\n",
      "Time: 2020-09-10 10:45:20\n",
      "-------------------------------------------\n",
      "5\n",
      "\n",
      "-------------------------------------------\n",
      "Time: 2020-09-10 10:45:20\n",
      "-------------------------------------------\n",
      "5\n",
      "\n",
      "-------------------------------------------\n",
      "Time: 2020-09-10 10:45:20\n",
      "-------------------------------------------\n",
      "\n"
     ]
    }
   ],
   "source": [
    "ssc.start()"
   ]
  },
  {
   "cell_type": "code",
   "execution_count": 26,
   "metadata": {},
   "outputs": [],
   "source": [
    "ssc.stop(stopSparkContext=False)"
   ]
  },
  {
   "cell_type": "markdown",
   "metadata": {},
   "source": [
    "# SQL | DF"
   ]
  },
  {
   "cell_type": "code",
   "execution_count": 27,
   "metadata": {},
   "outputs": [
    {
     "data": {
      "text/plain": [
       "<pyspark.streaming.context.StreamingContext at 0x7f5a64bafe10>"
      ]
     },
     "execution_count": 27,
     "metadata": {},
     "output_type": "execute_result"
    }
   ],
   "source": [
    "ssc = StreamingContext(sparkContext=sc,batchDuration=20)\n",
    "ssc"
   ]
  },
  {
   "cell_type": "code",
   "execution_count": 28,
   "metadata": {},
   "outputs": [
    {
     "data": {
      "text/plain": [
       "<pyspark.sql.context.SQLContext at 0x7f5a64baf668>"
      ]
     },
     "execution_count": 28,
     "metadata": {},
     "output_type": "execute_result"
    }
   ],
   "source": [
    "# инициализация нужного контекста\n",
    "from pyspark.sql import SQLContext\n",
    "sqlc = SQLContext(sc)\n",
    "sqlc"
   ]
  },
  {
   "cell_type": "code",
   "execution_count": 31,
   "metadata": {},
   "outputs": [
    {
     "name": "stdout",
     "output_type": "stream",
     "text": [
      "+---+-----+-----+\n",
      "| id|sales|month|\n",
      "+---+-----+-----+\n",
      "|  1| 2300|    1|\n",
      "|  2| 3000|    1|\n",
      "|  1| 1000|    2|\n",
      "|  2| 1500|    2|\n",
      "|  2| 4200|    3|\n",
      "|  3| 2000|    1|\n",
      "|  2|  500|    4|\n",
      "|  3| 2000|    2|\n",
      "+---+-----+-----+\n",
      "\n"
     ]
    }
   ],
   "source": [
    "# создаем свой Df\n",
    "d1 = (\n",
    "        sqlc\n",
    "         .createDataFrame(\n",
    "             [(1,2300,1),(2,3000,1),(1,1000,2),\n",
    "              (2,1500,2),(2,4200,3),(3,2000,1),\n",
    "              (2,500,4),(3,2000,2)],\n",
    "              [\"id\",\"sales\",\"month\"]\n",
    "         )\n",
    "     )\n",
    "d1.show()"
   ]
  },
  {
   "cell_type": "code",
   "execution_count": 32,
   "metadata": {},
   "outputs": [
    {
     "name": "stdout",
     "output_type": "stream",
     "text": [
      "+---+-----+-----+-------+\n",
      "| id|sales|month|avgsale|\n",
      "+---+-----+-----+-------+\n",
      "|  1| 2300|    1| 2300.0|\n",
      "|  1| 1000|    2| 1650.0|\n",
      "|  3| 2000|    1| 2000.0|\n",
      "|  3| 2000|    2| 2000.0|\n",
      "|  2| 3000|    1| 3000.0|\n",
      "|  2| 1500|    2| 2250.0|\n",
      "|  2| 4200|    3| 2900.0|\n",
      "|  2|  500|    4| 2300.0|\n",
      "+---+-----+-----+-------+\n",
      "\n"
     ]
    }
   ],
   "source": [
    "# добавим возможность обращаться SQL\n",
    "d1.createOrReplaceTempView(\"t1\")\n",
    "\n",
    "# сделаем расчет среднего кол-ва продаж на каждый месяц\n",
    "\n",
    "(\n",
    "    sqlc\n",
    "        .sql(\"\"\"\n",
    "             select id\n",
    "                    , sales\n",
    "                    , month\n",
    "                    , avg(sales) over(partition by id order by month) as avgsale\n",
    "             from t1\"\"\")\n",
    ").show()"
   ]
  },
  {
   "cell_type": "code",
   "execution_count": 33,
   "metadata": {},
   "outputs": [
    {
     "data": {
      "text/plain": [
       "<pyspark.streaming.context.StreamingContext at 0x7f5a64baf518>"
      ]
     },
     "execution_count": 33,
     "metadata": {},
     "output_type": "execute_result"
    }
   ],
   "source": [
    "ssc = StreamingContext(sparkContext=sc,batchDuration=20)\n",
    "ssc"
   ]
  },
  {
   "cell_type": "code",
   "execution_count": 34,
   "metadata": {},
   "outputs": [],
   "source": [
    "dstream1 = ssc.socketTextStream(\"localhost\",9999)\n",
    "dstream2 = dstream1.window(windowDuration=60)"
   ]
  },
  {
   "cell_type": "code",
   "execution_count": 35,
   "metadata": {},
   "outputs": [],
   "source": [
    "dstream3 = dstream2.flatMap(lambda x:x.split(\" \")).map(lambda x:(x,1)).reduceByKey(lambda x,y:x+y)\n",
    "dstream3.pprint()"
   ]
  },
  {
   "cell_type": "code",
   "execution_count": 36,
   "metadata": {},
   "outputs": [
    {
     "name": "stdout",
     "output_type": "stream",
     "text": [
      "-------------------------------------------\n",
      "Time: 2020-09-10 10:54:00\n",
      "-------------------------------------------\n",
      "('\\x1b[A\\x1b[A\\x1b[B\\x1b[B\\\\', 1)\n",
      "('ssc.stop(stopSparkContext=False)', 1)\n",
      "('sda', 1)\n",
      "\n",
      "-------------------------------------------\n",
      "Time: 2020-09-10 10:54:20\n",
      "-------------------------------------------\n",
      "('\\x1b[A\\x1b[A\\x1b[B\\x1b[B\\\\', 1)\n",
      "('ssc.stop(stopSparkContext=False)', 1)\n",
      "('sda', 1)\n",
      "\n",
      "-------------------------------------------\n",
      "Time: 2020-09-10 10:54:40\n",
      "-------------------------------------------\n",
      "('\\x1b[A\\x1b[A\\x1b[B\\x1b[B\\\\', 1)\n",
      "('', 33)\n",
      "('1|', 5)\n",
      "('|', 7)\n",
      "('4200|', 1)\n",
      "('3|', 3)\n",
      "('ssc.stop(stopSparkContext=False)', 1)\n",
      "('sda', 1)\n",
      "('2300|', 1)\n",
      "('2|', 7)\n",
      "...\n",
      "\n",
      "-------------------------------------------\n",
      "Time: 2020-09-10 10:55:00\n",
      "-------------------------------------------\n",
      "('', 33)\n",
      "('1|', 5)\n",
      "('|', 7)\n",
      "('4200|', 1)\n",
      "('3|', 3)\n",
      "('2300|', 1)\n",
      "('2|', 7)\n",
      "('3000|', 1)\n",
      "('1000|', 1)\n",
      "('1500|', 1)\n",
      "...\n",
      "\n",
      "-------------------------------------------\n",
      "Time: 2020-09-10 10:55:20\n",
      "-------------------------------------------\n",
      "('', 33)\n",
      "('1|', 5)\n",
      "('|', 7)\n",
      "('4200|', 1)\n",
      "('3|', 3)\n",
      "('2300|', 1)\n",
      "('2|', 7)\n",
      "('3000|', 1)\n",
      "('1000|', 1)\n",
      "('1500|', 1)\n",
      "...\n",
      "\n",
      "-------------------------------------------\n",
      "Time: 2020-09-10 10:55:40\n",
      "-------------------------------------------\n",
      "\n"
     ]
    }
   ],
   "source": [
    "ssc.start()"
   ]
  },
  {
   "cell_type": "code",
   "execution_count": 37,
   "metadata": {},
   "outputs": [],
   "source": [
    "ssc.stop(False)"
   ]
  },
  {
   "cell_type": "code",
   "execution_count": 42,
   "metadata": {},
   "outputs": [],
   "source": [
    "#SQL"
   ]
  },
  {
   "cell_type": "code",
   "execution_count": 51,
   "metadata": {},
   "outputs": [
    {
     "data": {
      "text/plain": [
       "<pyspark.streaming.context.StreamingContext at 0x7f5a1f066978>"
      ]
     },
     "execution_count": 51,
     "metadata": {},
     "output_type": "execute_result"
    }
   ],
   "source": [
    "ssc = StreamingContext(sparkContext=sc,batchDuration=15)\n",
    "ssc"
   ]
  },
  {
   "cell_type": "code",
   "execution_count": 53,
   "metadata": {},
   "outputs": [],
   "source": [
    "# создать DF из RDD \n",
    "# Нужна операция, которая будет приминяться к RDD в Dstream\n",
    "\n",
    "def f(rdd):\n",
    "    rdd2 = rdd.flatMap(lambda x:x.split(\" \")).map(lambda x:(x,1)).reduceByKey(lambda x,y:x+y)\n",
    "    df = rdd2.toDF([\"word\",\"count\"])\n",
    "    df.show()\n",
    "    #df.write.format(\"csv\").save(\"file:///home/{}/{}\")\n",
    "\n",
    "\n",
    "ds1 = ssc.socketTextStream(\"localhost\",port = 9999)\n",
    "ds2 = ds1.foreachRDD(f)\n",
    "ds2"
   ]
  },
  {
   "cell_type": "code",
   "execution_count": 54,
   "metadata": {},
   "outputs": [],
   "source": [
    "ssc.start()"
   ]
  },
  {
   "cell_type": "code",
   "execution_count": 55,
   "metadata": {},
   "outputs": [
    {
     "name": "stdout",
     "output_type": "stream",
     "text": [
      "+--------------------+-----+\n",
      "|                word|count|\n",
      "+--------------------+-----+\n",
      "|               18471|    3|\n",
      "|                    |  453|\n",
      "|                 0.0|   36|\n",
      "|                 0.2|    6|\n",
      "|             1439380|    3|\n",
      "|               66576|    3|\n",
      "|                   ?|   24|\n",
      "|                 Ssl|   24|\n",
      "|               Sep08|   24|\n",
      "|                0:11|   12|\n",
      "|    /usr/bin/python3|   21|\n",
      "|                  -m|   21|\n",
      "|  ipykernel_launcher|   21|\n",
      "|                  -f|   21|\n",
      "|/tmp/ezadru/.loca...|    3|\n",
      "|                root|   27|\n",
      "|               18573|    3|\n",
      "|             1439636|    3|\n",
      "|               65232|    3|\n",
      "|/tmp/ezadru/.loca...|    3|\n",
      "+--------------------+-----+\n",
      "only showing top 20 rows\n",
      "\n",
      "+--------------------+-----+\n",
      "|                word|count|\n",
      "+--------------------+-----+\n",
      "|                    |  234|\n",
      "|                 0.0|   20|\n",
      "|                 0.2|    2|\n",
      "|                 Ssl|   10|\n",
      "|               Sep08|   10|\n",
      "|                  -f|   10|\n",
      "|               64200|    2|\n",
      "|                0:10|    2|\n",
      "|                 960|    2|\n",
      "|c-6a1c-491d-aad2-...|    2|\n",
      "|               18573|    2|\n",
      "|                0:11|    4|\n",
      "|               18883|    2|\n",
      "|               10:27|    2|\n",
      "|               20876|    2|\n",
      "|              112812|    2|\n",
      "|              774988|    4|\n",
      "|               30449|    2|\n",
      "|             1370604|    2|\n",
      "|/tmp/ezadru/.loca...|    2|\n",
      "+--------------------+-----+\n",
      "only showing top 20 rows\n",
      "\n",
      "+--------------------+-----+\n",
      "|                word|count|\n",
      "+--------------------+-----+\n",
      "|                    |  234|\n",
      "|                 0.0|   20|\n",
      "|                 0.2|    2|\n",
      "|                 Ssl|   10|\n",
      "|               Sep08|   10|\n",
      "|                  -f|   10|\n",
      "|               64200|    2|\n",
      "|                0:10|    2|\n",
      "|                 960|    2|\n",
      "|c-6a1c-491d-aad2-...|    2|\n",
      "|               18573|    2|\n",
      "|                0:11|    4|\n",
      "|               18883|    2|\n",
      "|               10:27|    2|\n",
      "|               20876|    2|\n",
      "|              112812|    2|\n",
      "|              774988|    4|\n",
      "|               30449|    2|\n",
      "|             1370604|    2|\n",
      "|/tmp/ezadru/.loca...|    2|\n",
      "+--------------------+-----+\n",
      "only showing top 20 rows\n",
      "\n"
     ]
    }
   ],
   "source": [
    "ssc.stop(False)"
   ]
  },
  {
   "cell_type": "markdown",
   "metadata": {},
   "source": [
    "# Tweeter stream"
   ]
  },
  {
   "cell_type": "code",
   "execution_count": 4,
   "metadata": {},
   "outputs": [],
   "source": [
    "import twitter\n",
    "api_auth = twitter.Api(consumer_key='NFdepyaFSJiEcLZr72QlEeejE',\n",
    "consumer_secret='63BYnnRZopkEPw8YH28MrE28WEY3B89hgyoMdQWjPfRtqiQhfD',\n",
    "access_token_key='976856153912201228-fu5upI5jkml1QytOe4nupFSmCaT4V7k',\n",
    "access_token_secret='jyg4njgsexZ2jJM4TBFhyBzBYCA14VEoU9GgWF0T6zkGw')"
   ]
  },
  {
   "cell_type": "code",
   "execution_count": 58,
   "metadata": {},
   "outputs": [
    {
     "name": "stdout",
     "output_type": "stream",
     "text": [
      "{\"created_at\": \"Thu Mar 22 16:20:31 +0000 2018\", \"default_profile\": true, \"default_profile_image\": true, \"followers_count\": 3, \"id\": 976856153912201228, \"id_str\": \"976856153912201228\", \"name\": \"karnakar\", \"profile_background_color\": \"F5F8FA\", \"profile_image_url\": \"http://abs.twimg.com/sticky/default_profile_images/default_profile_normal.png\", \"profile_image_url_https\": \"https://abs.twimg.com/sticky/default_profile_images/default_profile_normal.png\", \"profile_link_color\": \"1DA1F2\", \"profile_sidebar_border_color\": \"C0DEED\", \"profile_sidebar_fill_color\": \"DDEEF6\", \"profile_text_color\": \"333333\", \"profile_use_background_image\": true, \"screen_name\": \"karnaTrainer\"}\n"
     ]
    }
   ],
   "source": [
    "print(api_auth.VerifyCredentials())"
   ]
  },
  {
   "cell_type": "code",
   "execution_count": 63,
   "metadata": {},
   "outputs": [
    {
     "name": "stdout",
     "output_type": "stream",
     "text": [
      "[Status(ID=1303548439217672192, ScreenName=pbhushan1, Created=Wed Sep 09 04:19:01 +0000 2020, Text='People involved from the beginning with the Ayodhya temple movement accuse the BJP of swallowing 1400 Crores collec… https://t.co/BEuKwJXWEI'), Status(ID=1303906228179841024, ScreenName=RahulGandhi, Created=Thu Sep 10 04:00:44 +0000 2020, Text='The policies of Modi Govt have caused the loss of crores of jobs and a historic fall in GDP. \\n\\nIt has crushed the f… https://t.co/qaqiO9jpG4'), Status(ID=1303573874148163587, ScreenName=FrustIndian, Created=Wed Sep 09 06:00:05 +0000 2020, Text=\"You call Modi fascist, compare India with Hitler's Germany nothing happens to you. You question Congress Shiv Sena,… https://t.co/VOTdDrpiCX\"), Status(ID=1304005375637684224, ScreenName=AwaraSazde, Created=Thu Sep 10 10:34:43 +0000 2020, Text='RT @Rakesh_Bassi7: #SpeakUpForJobs \\nmodi ji decreasing number of in public sectors since 2014.\\njust have a look in this list and see the nu…'), Status(ID=1304005374069088262, ScreenName=Shubham87140908, Created=Thu Sep 10 10:34:43 +0000 2020, Text='RT @INCIndia: The Central BJP Govt led by Modi ji has destroyed the dreams &amp; livelihoods of crores of families. They had promised 2 crore j…'), Status(ID=1304005373972504576, ScreenName=Dhirend23600629, Created=Thu Sep 10 10:34:43 +0000 2020, Text='RT @RahulGandhi: The policies of Modi Govt have caused the loss of crores of jobs and a historic fall in GDP. \\n\\nIt has crushed the future o…'), Status(ID=1304005371481133063, ScreenName=deepakSDel, Created=Thu Sep 10 10:34:42 +0000 2020, Text=\"RT @Pun_Starr: Trivia: BMC demolished illegal extensions in Shatrughan Sinha's Juhu house in Jan 2018, after he criticised PM Modi.\\n\\nMahara…\"), Status(ID=1304005371187478529, ScreenName=Ramjeet88110248, Created=Thu Sep 10 10:34:42 +0000 2020, Text='RT @Rakesh_Bassi7: #SpeakUpForJobs \\nmodi ji decreasing number of in public sectors since 2014.\\njust have a look in this list and see the nu…'), Status(ID=1304005365537755136, ScreenName=PtNandKishoreDe, Created=Thu Sep 10 10:34:41 +0000 2020, Text='RT @srinivasiyc: मोदी सरकार ने भारत के युवाओं का भविष्य कुचल दिया है: श्री @RahulGandhi जी\\n\\n#SpeakUpForJobs\\nhttps://t.co/reullisaEz'), Status(ID=1304005364002684928, ScreenName=Krishna14Neha, Created=Thu Sep 10 10:34:40 +0000 2020, Text='RT @GauravPandhi: If the youth of India will not get jobs, PM Narendra Modi, his ministers and all the BJP MPs will be out of their jobs &amp;…'), Status(ID=1304005361058213890, ScreenName=vishalmali79, Created=Thu Sep 10 10:34:39 +0000 2020, Text='RT @srivatsayb: Modi yesterday reduced PF rate to 8.15%, the lowest rate in 43 yrs!\\n\\nModi had cut PPF, Senior Citizens Savings Rate to 7.1…'), Status(ID=1304005358923337728, ScreenName=neerudogra, Created=Thu Sep 10 10:34:39 +0000 2020, Text='RT @GauravPandhi: If the youth of India will not get jobs, PM Narendra Modi, his ministers and all the BJP MPs will be out of their jobs &amp;…'), Status(ID=1304005358701088768, ScreenName=2a96d781f1a7483, Created=Thu Sep 10 10:34:39 +0000 2020, Text='RT @ritu_inc: While the truth is that Modi is a serial fake propagandist and a complete failure in his personal life, but what worries mill…'), Status(ID=1304005358097108993, ScreenName=SyedSab16211535, Created=Thu Sep 10 10:34:39 +0000 2020, Text='RT @IYC: The Modi govt not only failed to deliver their promises but also constantly lied and manipulated data and cheated on the youth of…'), Status(ID=1304005357023289344, ScreenName=PerweenSoha, Created=Thu Sep 10 10:34:39 +0000 2020, Text=\"RT @DrGauravGarg4: ReTweet if you will participate peacefully in the  protest on 17 September, \\n\\nPM Shri Narendra Modi's birthday to be obs…\")]\n"
     ]
    }
   ],
   "source": [
    "print(api_auth.GetSearch(\"modi\"))"
   ]
  },
  {
   "cell_type": "code",
   "execution_count": 15,
   "metadata": {},
   "outputs": [
    {
     "data": {
      "text/plain": [
       "<pyspark.streaming.context.StreamingContext at 0x7f89235d4e80>"
      ]
     },
     "execution_count": 15,
     "metadata": {},
     "output_type": "execute_result"
    }
   ],
   "source": [
    "ssc = StreamingContext(sparkContext=sc,batchDuration=15)\n",
    "ssc"
   ]
  },
  {
   "cell_type": "code",
   "execution_count": 87,
   "metadata": {},
   "outputs": [
    {
     "name": "stdout",
     "output_type": "stream",
     "text": [
      "{\"created_at\": \"Wed Sep 09 04:19:01 +0000 2020\", \"favorite_count\": 9745, \"hashtags\": [], \"id\": 1303548439217672192, \"id_str\": \"1303548439217672192\", \"lang\": \"en\", \"retweet_count\": 3925, \"source\": \"<a href=\\\"http://twitter.com/download/android\\\" rel=\\\"nofollow\\\">Twitter for Android</a>\", \"text\": \"People involved from the beginning with the Ayodhya temple movement accuse the BJP of swallowing 1400 Crores collec\\u2026 https://t.co/BEuKwJXWEI\", \"truncated\": true, \"urls\": [{\"expanded_url\": \"https://twitter.com/i/web/status/1303548439217672192\", \"url\": \"https://t.co/BEuKwJXWEI\"}], \"user\": {\"created_at\": \"Fri Jan 10 09:18:00 +0000 2014\", \"default_profile\": true, \"description\": \"Public Interest Lawyer and Activist; \\nDo and say what is just fair and in public interest, regardless of immediate fallout\", \"favourites_count\": 67, \"followers_count\": 1804097, \"friends_count\": 50, \"id\": 2284802828, \"id_str\": \"2284802828\", \"location\": \"New Delhi, India\", \"name\": \"Prashant Bhushan\", \"profile_background_color\": \"C0DEED\", \"profile_background_image_url\": \"http://abs.twimg.com/images/themes/theme1/bg.png\", \"profile_background_image_url_https\": \"https://abs.twimg.com/images/themes/theme1/bg.png\", \"profile_banner_url\": \"https://pbs.twimg.com/profile_banners/2284802828/1481109014\", \"profile_image_url\": \"http://pbs.twimg.com/profile_images/1262387547503833088/7lMtHm8m_normal.jpg\", \"profile_image_url_https\": \"https://pbs.twimg.com/profile_images/1262387547503833088/7lMtHm8m_normal.jpg\", \"profile_link_color\": \"1DA1F2\", \"profile_sidebar_border_color\": \"C0DEED\", \"profile_sidebar_fill_color\": \"DDEEF6\", \"profile_text_color\": \"333333\", \"profile_use_background_image\": true, \"screen_name\": \"pbhushan1\", \"statuses_count\": 12156, \"verified\": true}, \"user_mentions\": []}\n",
      "{\"created_at\": \"Thu Sep 10 04:00:44 +0000 2020\", \"favorite_count\": 29406, \"hashtags\": [], \"id\": 1303906228179841024, \"id_str\": \"1303906228179841024\", \"lang\": \"en\", \"retweet_count\": 11120, \"source\": \"<a href=\\\"https://studio.twitter.com\\\" rel=\\\"nofollow\\\">Twitter Media Studio</a>\", \"text\": \"The policies of Modi Govt have caused the loss of crores of jobs and a historic fall in GDP. \\n\\nIt has crushed the f\\u2026 https://t.co/qaqiO9jpG4\", \"truncated\": true, \"urls\": [{\"expanded_url\": \"https://twitter.com/i/web/status/1303906228179841024\", \"url\": \"https://t.co/qaqiO9jpG4\"}], \"user\": {\"created_at\": \"Sat Apr 25 06:39:15 +0000 2015\", \"default_profile\": true, \"description\": \"This is the official account of Rahul Gandhi | Member of the Indian National Congress| Member of Parliament\", \"favourites_count\": 364, \"followers_count\": 16060493, \"friends_count\": 274, \"id\": 3171712086, \"id_str\": \"3171712086\", \"listed_count\": 3105, \"location\": \"12, Tughlak Lane, New Delhi\", \"name\": \"Rahul Gandhi\", \"profile_background_color\": \"C0DEED\", \"profile_background_image_url\": \"http://abs.twimg.com/images/themes/theme1/bg.png\", \"profile_background_image_url_https\": \"https://abs.twimg.com/images/themes/theme1/bg.png\", \"profile_banner_url\": \"https://pbs.twimg.com/profile_banners/3171712086/1430826926\", \"profile_image_url\": \"http://pbs.twimg.com/profile_images/974851878860312582/O-Zn2b72_normal.jpg\", \"profile_image_url_https\": \"https://pbs.twimg.com/profile_images/974851878860312582/O-Zn2b72_normal.jpg\", \"profile_link_color\": \"1DA1F2\", \"profile_sidebar_border_color\": \"C0DEED\", \"profile_sidebar_fill_color\": \"DDEEF6\", \"profile_text_color\": \"333333\", \"profile_use_background_image\": true, \"screen_name\": \"RahulGandhi\", \"statuses_count\": 4905, \"url\": \"https://t.co/SEtVql2yKs\", \"verified\": true}, \"user_mentions\": []}\n",
      "{\"created_at\": \"Wed Sep 09 06:00:05 +0000 2020\", \"favorite_count\": 12968, \"hashtags\": [], \"id\": 1303573874148163587, \"id_str\": \"1303573874148163587\", \"lang\": \"en\", \"retweet_count\": 4039, \"source\": \"<a href=\\\"http://twitter.com/download/android\\\" rel=\\\"nofollow\\\">Twitter for Android</a>\", \"text\": \"You call Modi fascist, compare India with Hitler's Germany nothing happens to you. You question Congress Shiv Sena,\\u2026 https://t.co/VOTdDrpiCX\", \"truncated\": true, \"urls\": [{\"expanded_url\": \"https://twitter.com/i/web/status/1303573874148163587\", \"url\": \"https://t.co/VOTdDrpiCX\"}], \"user\": {\"created_at\": \"Fri Aug 31 23:14:44 +0000 2012\", \"description\": \"Right Arm, Round the World, Fast!\", \"favourites_count\": 3603, \"followers_count\": 126474, \"friends_count\": 470, \"id\": 794874013, \"id_str\": \"794874013\", \"listed_count\": 216, \"location\": \"Noida, India\", \"name\": \"The Frustrated Indian\", \"profile_background_color\": \"022330\", \"profile_background_image_url\": \"http://abs.twimg.com/images/themes/theme1/bg.png\", \"profile_background_image_url_https\": \"https://abs.twimg.com/images/themes/theme1/bg.png\", \"profile_background_tile\": true, \"profile_banner_url\": \"https://pbs.twimg.com/profile_banners/794874013/1551164453\", \"profile_image_url\": \"http://pbs.twimg.com/profile_images/1156595279660892164/dJw5EHwA_normal.jpg\", \"profile_image_url_https\": \"https://pbs.twimg.com/profile_images/1156595279660892164/dJw5EHwA_normal.jpg\", \"profile_link_color\": \"FA743E\", \"profile_sidebar_border_color\": \"000000\", \"profile_sidebar_fill_color\": \"DDEEF6\", \"profile_text_color\": \"333333\", \"profile_use_background_image\": true, \"screen_name\": \"FrustIndian\", \"statuses_count\": 33254, \"url\": \"https://t.co/o010yMERu5\", \"verified\": true}, \"user_mentions\": []}\n",
      "{\"created_at\": \"Thu Sep 10 10:43:46 +0000 2020\", \"hashtags\": [], \"id\": 1304007651928334336, \"id_str\": \"1304007651928334336\", \"lang\": \"gu\", \"source\": \"<a href=\\\"http://twitter.com/download/android\\\" rel=\\\"nofollow\\\">Twitter for Android</a>\", \"text\": \"e-GOPALA \\u0a8f\\u0aaa \\u0a86\\u0aaa\\u0aa3\\u0abe \\u0aae\\u0ab9\\u0ac7\\u0aa8\\u0aa4\\u0ac1 \\u0a96\\u0ac7\\u0aa1\\u0ac2\\u0aa4\\u0acb\\u0aa8\\u0ac0 \\u0ab8\\u0aae\\u0ac3\\u0aa6\\u0acd\\u0aa7\\u0abf \\u0aae\\u0abe\\u0a9f\\u0ac7 \\u0a85\\u0aa8\\u0ac7 \\u0aaa\\u0ab6\\u0ac1 \\u0a89\\u0aa4\\u0acd\\u0aaa\\u0abe\\u0aa6\\u0a95\\u0acd\\u0aa4\\u0abe \\u0ab5\\u0aa7\\u0abe\\u0ab0\\u0ab5\\u0abe\\u0aa8\\u0ac1\\u0a82 \\u0a93\\u0aa8\\u0ab2\\u0abe\\u0a87\\u0aa8 \\u0aae\\u0abe\\u0aa7\\u0acd\\u0aaf\\u0aae \\u0a9b\\u0ac7 : \\u0aaa\\u0acd\\u0ab0\\u0aa7\\u0abe\\u0aa8\\u0aae\\u0a82\\u0aa4\\u0acd\\u0ab0\\u0ac0 \\u0ab6\\u0acd\\u0ab0\\u0ac0\\u2026 https://t.co/UyyrxRhc4Y\", \"truncated\": true, \"urls\": [{\"expanded_url\": \"https://twitter.com/i/web/status/1304007651928334336\", \"url\": \"https://t.co/UyyrxRhc4Y\"}], \"user\": {\"created_at\": \"Wed Oct 18 10:33:21 +0000 2017\", \"default_profile\": true, \"description\": \"\\u2022  Incharge- ITSM @bjp4maninagar_ \\n\\u2022 Karyakarta of World's largest political party @bjp4India\\n\\u2022 Mission New India by 2022\\n\\u2022Future Doctor \\ud83d\\udc89\\ud83d\\udc8a\", \"favourites_count\": 206918, \"followers_count\": 4968, \"friends_count\": 540, \"geo_enabled\": true, \"id\": 920598670701219840, \"id_str\": \"920598670701219840\", \"listed_count\": 7, \"location\": \"Karnavati, India\", \"name\": \"Abhishek Pandya\", \"profile_background_color\": \"F5F8FA\", \"profile_banner_url\": \"https://pbs.twimg.com/profile_banners/920598670701219840/1590415748\", \"profile_image_url\": \"http://pbs.twimg.com/profile_images/1300067128326778882/UC81hvbk_normal.jpg\", \"profile_image_url_https\": \"https://pbs.twimg.com/profile_images/1300067128326778882/UC81hvbk_normal.jpg\", \"profile_link_color\": \"1DA1F2\", \"profile_sidebar_border_color\": \"C0DEED\", \"profile_sidebar_fill_color\": \"DDEEF6\", \"profile_text_color\": \"333333\", \"profile_use_background_image\": true, \"screen_name\": \"iabhishekpandya\", \"statuses_count\": 206959, \"url\": \"https://t.co/WJKXFB3tKV\"}, \"user_mentions\": []}\n",
      "{\"created_at\": \"Thu Sep 10 10:43:46 +0000 2020\", \"hashtags\": [], \"id\": 1304007651777421313, \"id_str\": \"1304007651777421313\", \"lang\": \"en\", \"retweet_count\": 183, \"retweeted_status\": {\"created_at\": \"Thu Sep 10 08:51:27 +0000 2020\", \"favorite_count\": 166, \"hashtags\": [], \"id\": 1303979388699127809, \"id_str\": \"1303979388699127809\", \"lang\": \"en\", \"retweet_count\": 183, \"source\": \"<a href=\\\"https://studio.twitter.com\\\" rel=\\\"nofollow\\\">Twitter Media Studio</a>\", \"text\": \"Congress leader and CLP leader Assam Shri @DsaikiaOfficial voices his support to the demands for employment made by\\u2026 https://t.co/ikewQ785zl\", \"truncated\": true, \"urls\": [{\"expanded_url\": \"https://twitter.com/i/web/status/1303979388699127809\", \"url\": \"https://t.co/ikewQ785zl\"}], \"user\": {\"created_at\": \"Mon Sep 15 07:00:23 +0000 2008\", \"description\": \"The Official Twitter Account of The Youth Wing of Indian National Congress. RTs are Not Endorsements.\", \"favourites_count\": 3811, \"followers_count\": 832095, \"friends_count\": 523, \"geo_enabled\": true, \"id\": 16293020, \"id_str\": \"16293020\", \"listed_count\": 341, \"location\": \"India\", \"name\": \"Youth Congress\", \"profile_background_color\": \"9AE4E8\", \"profile_background_image_url\": \"http://abs.twimg.com/images/themes/theme1/bg.png\", \"profile_background_image_url_https\": \"https://abs.twimg.com/images/themes/theme1/bg.png\", \"profile_banner_url\": \"https://pbs.twimg.com/profile_banners/16293020/1599640875\", \"profile_image_url\": \"http://pbs.twimg.com/profile_images/1303619063130726400/oVeCC1cp_normal.jpg\", \"profile_image_url_https\": \"https://pbs.twimg.com/profile_images/1303619063130726400/oVeCC1cp_normal.jpg\", \"profile_link_color\": \"0084B4\", \"profile_sidebar_border_color\": \"FFFFFF\", \"profile_sidebar_fill_color\": \"DDFFCC\", \"profile_text_color\": \"333333\", \"profile_use_background_image\": true, \"screen_name\": \"IYC\", \"statuses_count\": 48189, \"url\": \"https://t.co/RMYigJ8cI8\", \"verified\": true}, \"user_mentions\": [{\"id\": 2345990976, \"id_str\": \"2345990976\", \"name\": \"Debabrata Saikia\", \"screen_name\": \"DsaikiaOfficial\"}]}, \"source\": \"<a href=\\\"http://twitter.com/download/android\\\" rel=\\\"nofollow\\\">Twitter for Android</a>\", \"text\": \"RT @IYC: Congress leader and CLP leader Assam Shri @DsaikiaOfficial voices his support to the demands for employment made by the youth of t\\u2026\", \"urls\": [], \"user\": {\"created_at\": \"Sun Aug 30 19:56:28 +0000 2020\", \"default_profile\": true, \"favourites_count\": 1, \"followers_count\": 9, \"friends_count\": 141, \"id\": 1300160233281482752, \"id_str\": \"1300160233281482752\", \"name\": \"Kundan patel. Berojgar\", \"profile_background_color\": \"F5F8FA\", \"profile_image_url\": \"http://pbs.twimg.com/profile_images/1300160703056158720/RVv68_m7_normal.jpg\", \"profile_image_url_https\": \"https://pbs.twimg.com/profile_images/1300160703056158720/RVv68_m7_normal.jpg\", \"profile_link_color\": \"1DA1F2\", \"profile_sidebar_border_color\": \"C0DEED\", \"profile_sidebar_fill_color\": \"DDEEF6\", \"profile_text_color\": \"333333\", \"profile_use_background_image\": true, \"screen_name\": \"Kundan12422312\", \"statuses_count\": 1437}, \"user_mentions\": [{\"id\": 16293020, \"id_str\": \"16293020\", \"name\": \"Youth Congress\", \"screen_name\": \"IYC\"}, {\"id\": 2345990976, \"id_str\": \"2345990976\", \"name\": \"Debabrata Saikia\", \"screen_name\": \"DsaikiaOfficial\"}]}\n",
      "{\"created_at\": \"Thu Sep 10 10:43:45 +0000 2020\", \"hashtags\": [], \"id\": 1304007647562141697, \"id_str\": \"1304007647562141697\", \"lang\": \"en\", \"retweet_count\": 11120, \"retweeted_status\": {\"created_at\": \"Thu Sep 10 04:00:44 +0000 2020\", \"favorite_count\": 29406, \"hashtags\": [], \"id\": 1303906228179841024, \"id_str\": \"1303906228179841024\", \"lang\": \"en\", \"retweet_count\": 11120, \"source\": \"<a href=\\\"https://studio.twitter.com\\\" rel=\\\"nofollow\\\">Twitter Media Studio</a>\", \"text\": \"The policies of Modi Govt have caused the loss of crores of jobs and a historic fall in GDP. \\n\\nIt has crushed the f\\u2026 https://t.co/qaqiO9jpG4\", \"truncated\": true, \"urls\": [{\"expanded_url\": \"https://twitter.com/i/web/status/1303906228179841024\", \"url\": \"https://t.co/qaqiO9jpG4\"}], \"user\": {\"created_at\": \"Sat Apr 25 06:39:15 +0000 2015\", \"default_profile\": true, \"description\": \"This is the official account of Rahul Gandhi | Member of the Indian National Congress| Member of Parliament\", \"favourites_count\": 364, \"followers_count\": 16060493, \"friends_count\": 274, \"id\": 3171712086, \"id_str\": \"3171712086\", \"listed_count\": 3105, \"location\": \"12, Tughlak Lane, New Delhi\", \"name\": \"Rahul Gandhi\", \"profile_background_color\": \"C0DEED\", \"profile_background_image_url\": \"http://abs.twimg.com/images/themes/theme1/bg.png\", \"profile_background_image_url_https\": \"https://abs.twimg.com/images/themes/theme1/bg.png\", \"profile_banner_url\": \"https://pbs.twimg.com/profile_banners/3171712086/1430826926\", \"profile_image_url\": \"http://pbs.twimg.com/profile_images/974851878860312582/O-Zn2b72_normal.jpg\", \"profile_image_url_https\": \"https://pbs.twimg.com/profile_images/974851878860312582/O-Zn2b72_normal.jpg\", \"profile_link_color\": \"1DA1F2\", \"profile_sidebar_border_color\": \"C0DEED\", \"profile_sidebar_fill_color\": \"DDEEF6\", \"profile_text_color\": \"333333\", \"profile_use_background_image\": true, \"screen_name\": \"RahulGandhi\", \"statuses_count\": 4905, \"url\": \"https://t.co/SEtVql2yKs\", \"verified\": true}, \"user_mentions\": []}, \"source\": \"<a href=\\\"http://twitter.com/download/android\\\" rel=\\\"nofollow\\\">Twitter for Android</a>\", \"text\": \"RT @RahulGandhi: The policies of Modi Govt have caused the loss of crores of jobs and a historic fall in GDP. \\n\\nIt has crushed the future o\\u2026\", \"urls\": [], \"user\": {\"created_at\": \"Sat Sep 05 15:48:42 +0000 2020\", \"default_profile\": true, \"favourites_count\": 19, \"followers_count\": 2, \"friends_count\": 55, \"id\": 1302272383248527361, \"id_str\": \"1302272383248527361\", \"name\": \"Sagar\", \"profile_background_color\": \"F5F8FA\", \"profile_image_url\": \"http://pbs.twimg.com/profile_images/1302272663998529536/e2ai471P_normal.jpg\", \"profile_image_url_https\": \"https://pbs.twimg.com/profile_images/1302272663998529536/e2ai471P_normal.jpg\", \"profile_link_color\": \"1DA1F2\", \"profile_sidebar_border_color\": \"C0DEED\", \"profile_sidebar_fill_color\": \"DDEEF6\", \"profile_text_color\": \"333333\", \"profile_use_background_image\": true, \"screen_name\": \"Sagar74199931\", \"statuses_count\": 13}, \"user_mentions\": [{\"id\": 3171712086, \"id_str\": \"3171712086\", \"name\": \"Rahul Gandhi\", \"screen_name\": \"RahulGandhi\"}]}\n",
      "{\"created_at\": \"Thu Sep 10 10:43:44 +0000 2020\", \"hashtags\": [{\"text\": \"SpeakUpForJobs\"}], \"id\": 1304007646685650944, \"id_str\": \"1304007646685650944\", \"lang\": \"hi\", \"retweet_count\": 277, \"retweeted_status\": {\"created_at\": \"Thu Sep 10 07:16:59 +0000 2020\", \"favorite_count\": 820, \"hashtags\": [{\"text\": \"SpeakUpForJobs\"}], \"id\": 1303955614796623872, \"id_str\": \"1303955614796623872\", \"lang\": \"hi\", \"retweet_count\": 277, \"source\": \"<a href=\\\"http://twitter.com/download/android\\\" rel=\\\"nofollow\\\">Twitter for Android</a>\", \"text\": \"\\u092e\\u094b\\u0926\\u0940 \\u0938\\u0930\\u0915\\u093e\\u0930 \\u0928\\u0947 \\u092d\\u093e\\u0930\\u0924 \\u0915\\u0947 \\u092f\\u0941\\u0935\\u093e\\u0913\\u0902 \\u0915\\u093e \\u092d\\u0935\\u093f\\u0937\\u094d\\u092f \\u0915\\u0941\\u091a\\u0932 \\u0926\\u093f\\u092f\\u093e \\u0939\\u0948: @RahulGandhi\\n#SpeakUpForJobs\\nhttps://t.co/Fk8cj4TJAa\", \"urls\": [{\"expanded_url\": \"https://khabar.ndtv.com/news/india/rahul-gandhi-speak-up-for-youth-attacks-modi-government-over-falling-gdp-and-job-loss-2293142\", \"url\": \"https://t.co/Fk8cj4TJAa\"}], \"user\": {\"created_at\": \"Sun Jul 03 11:36:58 +0000 2011\", \"description\": \"National Convenor - @INCIndia Social Media. Former LAMP Fellow. Wanderer. Political enthusiast. Tweets personal. RT\\u00a0\\u2260 Endorsement.\", \"favourites_count\": 12981, \"followers_count\": 100206, \"friends_count\": 1122, \"id\": 328446807, \"id_str\": \"328446807\", \"listed_count\": 77, \"location\": \"New Delhi, India\", \"name\": \"Ruchira Chaturvedi\", \"profile_background_color\": \"1A1B1F\", \"profile_background_image_url\": \"http://abs.twimg.com/images/themes/theme9/bg.gif\", \"profile_background_image_url_https\": \"https://abs.twimg.com/images/themes/theme9/bg.gif\", \"profile_banner_url\": \"https://pbs.twimg.com/profile_banners/328446807/1558540900\", \"profile_image_url\": \"http://pbs.twimg.com/profile_images/1266450627057631238/fJWa2C43_normal.jpg\", \"profile_image_url_https\": \"https://pbs.twimg.com/profile_images/1266450627057631238/fJWa2C43_normal.jpg\", \"profile_link_color\": \"2FC2EF\", \"profile_sidebar_border_color\": \"181A1E\", \"profile_sidebar_fill_color\": \"252429\", \"profile_text_color\": \"666666\", \"profile_use_background_image\": true, \"screen_name\": \"RuchiraC\", \"statuses_count\": 19533, \"url\": \"https://t.co/tU2MuipxAY\", \"verified\": true}, \"user_mentions\": [{\"id\": 3171712086, \"id_str\": \"3171712086\", \"name\": \"Rahul Gandhi\", \"screen_name\": \"RahulGandhi\"}]}, \"source\": \"<a href=\\\"http://twitter.com/download/android\\\" rel=\\\"nofollow\\\">Twitter for Android</a>\", \"text\": \"RT @RuchiraC: \\u092e\\u094b\\u0926\\u0940 \\u0938\\u0930\\u0915\\u093e\\u0930 \\u0928\\u0947 \\u092d\\u093e\\u0930\\u0924 \\u0915\\u0947 \\u092f\\u0941\\u0935\\u093e\\u0913\\u0902 \\u0915\\u093e \\u092d\\u0935\\u093f\\u0937\\u094d\\u092f \\u0915\\u0941\\u091a\\u0932 \\u0926\\u093f\\u092f\\u093e \\u0939\\u0948: @RahulGandhi\\n#SpeakUpForJobs\\nhttps://t.co/Fk8cj4TJAa\", \"urls\": [{\"expanded_url\": \"https://khabar.ndtv.com/news/india/rahul-gandhi-speak-up-for-youth-attacks-modi-government-over-falling-gdp-and-job-loss-2293142\", \"url\": \"https://t.co/Fk8cj4TJAa\"}], \"user\": {\"created_at\": \"Sun Jan 26 15:51:08 +0000 2020\", \"default_profile\": true, \"default_profile_image\": true, \"favourites_count\": 45430, \"followers_count\": 218, \"friends_count\": 120, \"id\": 1221460362303696898, \"id_str\": \"1221460362303696898\", \"name\": \"Murtuza Ali\", \"profile_background_color\": \"F5F8FA\", \"profile_image_url\": \"http://abs.twimg.com/sticky/default_profile_images/default_profile_normal.png\", \"profile_image_url_https\": \"https://abs.twimg.com/sticky/default_profile_images/default_profile_normal.png\", \"profile_link_color\": \"1DA1F2\", \"profile_sidebar_border_color\": \"C0DEED\", \"profile_sidebar_fill_color\": \"DDEEF6\", \"profile_text_color\": \"333333\", \"profile_use_background_image\": true, \"screen_name\": \"Murtuza47008252\", \"statuses_count\": 27801}, \"user_mentions\": [{\"id\": 328446807, \"id_str\": \"328446807\", \"name\": \"Ruchira Chaturvedi\", \"screen_name\": \"RuchiraC\"}, {\"id\": 3171712086, \"id_str\": \"3171712086\", \"name\": \"Rahul Gandhi\", \"screen_name\": \"RahulGandhi\"}]}\n",
      "{\"created_at\": \"Thu Sep 10 10:43:44 +0000 2020\", \"hashtags\": [], \"id\": 1304007646446407682, \"id_str\": \"1304007646446407682\", \"lang\": \"en\", \"retweet_count\": 3, \"retweeted_status\": {\"created_at\": \"Thu Sep 10 10:43:29 +0000 2020\", \"favorite_count\": 11, \"hashtags\": [], \"id\": 1304007581883445248, \"id_str\": \"1304007581883445248\", \"lang\": \"en\", \"retweet_count\": 3, \"source\": \"<a href=\\\"http://twitter.com/download/iphone\\\" rel=\\\"nofollow\\\">Twitter for iPhone</a>\", \"text\": \"They said Modi a dictator, mass murderer, rioter, Hitler, khooni darinda and many other choicest of abuses. Never i\\u2026 https://t.co/1WM4nqX3I6\", \"truncated\": true, \"urls\": [{\"expanded_url\": \"https://twitter.com/i/web/status/1304007581883445248\", \"url\": \"https://t.co/1WM4nqX3I6\"}], \"user\": {\"created_at\": \"Fri Jan 04 15:29:10 +0000 2013\", \"default_profile\": true, \"description\": \"It's just a job. Grass grows, birds fly, water flows. I troll| HMP Vice President|\", \"favourites_count\": 64681, \"followers_count\": 70155, \"friends_count\": 641, \"geo_enabled\": true, \"id\": 1060713474, \"id_str\": \"1060713474\", \"listed_count\": 167, \"location\": \"\\u0939\\u0930\\u093f\\u092f\\u093e\\u0923\\u093e\", \"name\": \"Smoking Skills\", \"profile_background_color\": \"C0DEED\", \"profile_background_image_url\": \"http://abs.twimg.com/images/themes/theme1/bg.png\", \"profile_background_image_url_https\": \"https://abs.twimg.com/images/themes/theme1/bg.png\", \"profile_banner_url\": \"https://pbs.twimg.com/profile_banners/1060713474/1583756398\", \"profile_image_url\": \"http://pbs.twimg.com/profile_images/1302593123130826753/b3natOrQ_normal.jpg\", \"profile_image_url_https\": \"https://pbs.twimg.com/profile_images/1302593123130826753/b3natOrQ_normal.jpg\", \"profile_link_color\": \"1DA1F2\", \"profile_sidebar_border_color\": \"C0DEED\", \"profile_sidebar_fill_color\": \"DDEEF6\", \"profile_text_color\": \"333333\", \"profile_use_background_image\": true, \"screen_name\": \"SmokingSkills_\", \"statuses_count\": 61352}, \"user_mentions\": []}, \"source\": \"<a href=\\\"http://twitter.com/download/iphone\\\" rel=\\\"nofollow\\\">Twitter for iPhone</a>\", \"text\": \"RT @SmokingSkills_: They said Modi a dictator, mass murderer, rioter, Hitler, khooni darinda and many other choicest of abuses. Never in th\\u2026\", \"urls\": [], \"user\": {\"created_at\": \"Sat Jun 02 16:47:27 +0000 2012\", \"description\": \"No twitter bio. If you figure me out I want an explanation.\", \"favourites_count\": 14652, \"followers_count\": 147, \"friends_count\": 39, \"geo_enabled\": true, \"id\": 597564319, \"id_str\": \"597564319\", \"listed_count\": 1, \"location\": \"India\", \"name\": \"Ruchika B. Tiwari\", \"profile_background_color\": \"FFF04D\", \"profile_background_image_url\": \"http://abs.twimg.com/images/themes/theme19/bg.gif\", \"profile_background_image_url_https\": \"https://abs.twimg.com/images/themes/theme19/bg.gif\", \"profile_banner_url\": \"https://pbs.twimg.com/profile_banners/597564319/1595656042\", \"profile_image_url\": \"http://pbs.twimg.com/profile_images/1304004423685795842/_za5ywhZ_normal.jpg\", \"profile_image_url_https\": \"https://pbs.twimg.com/profile_images/1304004423685795842/_za5ywhZ_normal.jpg\", \"profile_link_color\": \"0099CC\", \"profile_sidebar_border_color\": \"FFF8AD\", \"profile_sidebar_fill_color\": \"F6FFD1\", \"profile_text_color\": \"333333\", \"profile_use_background_image\": true, \"screen_name\": \"bhagat_ruchi\", \"statuses_count\": 32877}, \"user_mentions\": [{\"id\": 1060713474, \"id_str\": \"1060713474\", \"name\": \"Smoking Skills\", \"screen_name\": \"SmokingSkills_\"}]}\n",
      "{\"created_at\": \"Thu Sep 10 10:43:43 +0000 2020\", \"hashtags\": [], \"id\": 1304007642726064128, \"id_str\": \"1304007642726064128\", \"lang\": \"en\", \"retweet_count\": 25, \"retweeted_status\": {\"created_at\": \"Thu Sep 10 10:21:23 +0000 2020\", \"favorite_count\": 34, \"hashtags\": [], \"id\": 1304002018462240769, \"id_str\": \"1304002018462240769\", \"lang\": \"en\", \"retweet_count\": 25, \"source\": \"<a href=\\\"http://twitter.com/download/android\\\" rel=\\\"nofollow\\\">Twitter for Android</a>\", \"text\": \"Youth across India will celebrate Narendra Modi's birthday on 17 September as \\\"Unemployment Day\\\". \\n\\nIt would be an\\u2026 https://t.co/d7ecbXdMFd\", \"truncated\": true, \"urls\": [{\"expanded_url\": \"https://twitter.com/i/web/status/1304002018462240769\", \"url\": \"https://t.co/d7ecbXdMFd\"}], \"user\": {\"created_at\": \"Mon Apr 06 18:14:16 +0000 2009\", \"description\": \"#StayHomeStaySafe\\n\\n\\u0939\\u093f\\u0928\\u094d\\u0926\\u0942 \\u0939\\u0942\\u0901, \\u0938\\u0902\\u0918\\u0940 \\u0928\\u0939\\u0940\\u0902!\\n\\nRetweets, follows aren\\u2019t endorsements.\", \"favourites_count\": 128952, \"followers_count\": 29635, \"friends_count\": 986, \"id\": 29257288, \"id_str\": \"29257288\", \"listed_count\": 162, \"location\": \"\\u091c\\u092f \\u0939\\u093f\\u0928\\u094d\\u0926 \\ud83c\\uddee\\ud83c\\uddf3\", \"name\": \"Rofl Republic\", \"profile_background_color\": \"C3E617\", \"profile_background_image_url\": \"http://abs.twimg.com/images/themes/theme5/bg.gif\", \"profile_background_image_url_https\": \"https://abs.twimg.com/images/themes/theme5/bg.gif\", \"profile_background_tile\": true, \"profile_banner_url\": \"https://pbs.twimg.com/profile_banners/29257288/1503690262\", \"profile_image_url\": \"http://pbs.twimg.com/profile_images/1170604326340816899/-p1qQWfD_normal.jpg\", \"profile_image_url_https\": \"https://pbs.twimg.com/profile_images/1170604326340816899/-p1qQWfD_normal.jpg\", \"profile_link_color\": \"981CEB\", \"profile_sidebar_border_color\": \"000000\", \"profile_sidebar_fill_color\": \"191F22\", \"profile_text_color\": \"4BB7DF\", \"profile_use_background_image\": true, \"screen_name\": \"i_theindian\", \"statuses_count\": 198881}, \"user_mentions\": []}, \"source\": \"<a href=\\\"https://mobile.twitter.com\\\" rel=\\\"nofollow\\\">Twitter Web App</a>\", \"text\": \"RT @i_theindian: Youth across India will celebrate Narendra Modi's birthday on 17 September as \\\"Unemployment Day\\\". \\n\\nIt would be an apt tri\\u2026\", \"urls\": [], \"user\": {\"created_at\": \"Tue Mar 22 06:18:19 +0000 2011\", \"default_profile\": true, \"description\": \"Berozgar from University Of Jammu.\", \"favourites_count\": 6880, \"followers_count\": 128, \"friends_count\": 293, \"id\": 270217261, \"id_str\": \"270217261\", \"listed_count\": 1, \"location\": \"india\", \"name\": \"AKshay RaIna\", \"profile_background_color\": \"C0DEED\", \"profile_background_image_url\": \"http://abs.twimg.com/images/themes/theme1/bg.png\", \"profile_background_image_url_https\": \"https://abs.twimg.com/images/themes/theme1/bg.png\", \"profile_image_url\": \"http://pbs.twimg.com/profile_images/1299754268618944515/gI6fgslr_normal.jpg\", \"profile_image_url_https\": \"https://pbs.twimg.com/profile_images/1299754268618944515/gI6fgslr_normal.jpg\", \"profile_link_color\": \"1DA1F2\", \"profile_sidebar_border_color\": \"C0DEED\", \"profile_sidebar_fill_color\": \"DDEEF6\", \"profile_text_color\": \"333333\", \"profile_use_background_image\": true, \"screen_name\": \"akshayraina29\", \"statuses_count\": 3522, \"url\": \"https://t.co/990q7OH5T0\"}, \"user_mentions\": [{\"id\": 29257288, \"id_str\": \"29257288\", \"name\": \"Rofl Republic\", \"screen_name\": \"i_theindian\"}]}\n",
      "{\"created_at\": \"Thu Sep 10 10:43:42 +0000 2020\", \"hashtags\": [], \"id\": 1304007635956461568, \"id_str\": \"1304007635956461568\", \"lang\": \"en\", \"media\": [{\"display_url\": \"pic.twitter.com/kcsUjdUfW2\", \"expanded_url\": \"https://twitter.com/modi_2_/status/1304007635956461568/photo/1\", \"id\": 1304007633947389952, \"media_url\": \"http://pbs.twimg.com/media/EhjECL3U8AAgok_.jpg\", \"media_url_https\": \"https://pbs.twimg.com/media/EhjECL3U8AAgok_.jpg\", \"sizes\": {\"large\": {\"h\": 100, \"resize\": \"fit\", \"w\": 100}, \"medium\": {\"h\": 100, \"resize\": \"fit\", \"w\": 100}, \"small\": {\"h\": 100, \"resize\": \"fit\", \"w\": 100}, \"thumb\": {\"h\": 100, \"resize\": \"crop\", \"w\": 100}}, \"type\": \"photo\", \"url\": \"https://t.co/kcsUjdUfW2\"}], \"source\": \"<a href=\\\"https://www.modi2.com/\\\" rel=\\\"nofollow\\\">modi2news</a>\", \"text\": \"MODI 2,\\nFake: Soldier dies due to cancer, not in Galwan clash https://t.co/uOrUgnVncu\\nhttps://t.co/V4YBTy7mjK https://t.co/kcsUjdUfW2\", \"urls\": [{\"expanded_url\": \"https://www.modi2.com/news-amd-reports/fake-soldier-dies-due-to-cancer-not-in-galwan-clash-15/\", \"url\": \"https://t.co/uOrUgnVncu\"}, {\"expanded_url\": \"https://static.toiimg.com/thumb/msid-77631082,amp;width-1070,amp;height-580,amp;imgsize-39496,amp;resizemode-75,amp;overl\", \"url\": \"https://t.co/V4YBTy7mjK\"}], \"user\": {\"created_at\": \"Sun Jun 02 19:18:35 +0000 2019\", \"description\": \"Latest news from all over the world\\n\\n#indiannews #newsforindia #modi2 #india #indianpm #pm #narendramodi #namo #indianprimeminister #modi2.0\", \"favourites_count\": 770, \"followers_count\": 37, \"friends_count\": 20, \"id\": 1135264465174388736, \"id_str\": \"1135264465174388736\", \"name\": \"modi 2\", \"profile_background_color\": \"000000\", \"profile_background_image_url\": \"http://abs.twimg.com/images/themes/theme1/bg.png\", \"profile_background_image_url_https\": \"https://abs.twimg.com/images/themes/theme1/bg.png\", \"profile_banner_url\": \"https://pbs.twimg.com/profile_banners/1135264465174388736/1559506356\", \"profile_image_url\": \"http://pbs.twimg.com/profile_images/1144473613308817409/_l82-WQ6_normal.jpg\", \"profile_image_url_https\": \"https://pbs.twimg.com/profile_images/1144473613308817409/_l82-WQ6_normal.jpg\", \"profile_link_color\": \"FF691F\", \"profile_sidebar_border_color\": \"000000\", \"profile_sidebar_fill_color\": \"000000\", \"profile_text_color\": \"000000\", \"screen_name\": \"modi_2_\", \"statuses_count\": 44447, \"url\": \"https://t.co/fKPK3ooQra\"}, \"user_mentions\": []}\n",
      "{\"created_at\": \"Thu Sep 10 10:43:41 +0000 2020\", \"hashtags\": [], \"id\": 1304007633502830593, \"id_str\": \"1304007633502830593\", \"lang\": \"en\", \"retweet_count\": 126, \"retweeted_status\": {\"created_at\": \"Thu Sep 10 09:05:58 +0000 2020\", \"favorite_count\": 1034, \"hashtags\": [], \"id\": 1303983041329598464, \"id_str\": \"1303983041329598464\", \"lang\": \"en\", \"retweet_count\": 126, \"source\": \"<a href=\\\"http://twitter.com/download/android\\\" rel=\\\"nofollow\\\">Twitter for Android</a>\", \"text\": \"JUST IN: Prime Minister of India @narendramodi had a 30 minute call with Japanese PM Shinzo Abe today. Last call be\\u2026 https://t.co/QKorqwhJVX\", \"truncated\": true, \"urls\": [{\"expanded_url\": \"https://twitter.com/i/web/status/1303983041329598464\", \"url\": \"https://t.co/QKorqwhJVX\"}], \"user\": {\"created_at\": \"Wed Jun 03 18:49:42 +0000 2009\", \"default_profile\": true, \"description\": \"Independent Journalist. Internal Security, Conflict, Foreign Policy. News addict. Pakistan watcher. From Kashmir. For work mail: kauladityaraj@gmail.com\", \"favourites_count\": 78715, \"followers_count\": 278567, \"friends_count\": 7299, \"geo_enabled\": true, \"id\": 44425241, \"id_str\": \"44425241\", \"listed_count\": 1091, \"location\": \"New Delhi/Srinagar, India\", \"name\": \"Aditya Raj Kaul\", \"profile_background_color\": \"C0DEED\", \"profile_background_image_url\": \"http://abs.twimg.com/images/themes/theme1/bg.png\", \"profile_background_image_url_https\": \"https://abs.twimg.com/images/themes/theme1/bg.png\", \"profile_banner_url\": \"https://pbs.twimg.com/profile_banners/44425241/1576502915\", \"profile_image_url\": \"http://pbs.twimg.com/profile_images/1302251506339463173/HucPVT7d_normal.jpg\", \"profile_image_url_https\": \"https://pbs.twimg.com/profile_images/1302251506339463173/HucPVT7d_normal.jpg\", \"profile_link_color\": \"1DA1F2\", \"profile_sidebar_border_color\": \"C0DEED\", \"profile_sidebar_fill_color\": \"DDEEF6\", \"profile_text_color\": \"333333\", \"profile_use_background_image\": true, \"screen_name\": \"AdityaRajKaul\", \"statuses_count\": 78453, \"url\": \"https://t.co/gxxU4i1s8B\", \"verified\": true}, \"user_mentions\": [{\"id\": 18839785, \"id_str\": \"18839785\", \"name\": \"Narendra Modi\", \"screen_name\": \"narendramodi\"}]}, \"source\": \"<a href=\\\"http://twitter.com/download/android\\\" rel=\\\"nofollow\\\">Twitter for Android</a>\", \"text\": \"RT @AdityaRajKaul: JUST IN: Prime Minister of India @narendramodi had a 30 minute call with Japanese PM Shinzo Abe today. Last call between\\u2026\", \"urls\": [], \"user\": {\"created_at\": \"Tue Mar 26 20:06:13 +0000 2013\", \"default_profile\": true, \"default_profile_image\": true, \"description\": \"delhi\", \"favourites_count\": 30168, \"followers_count\": 162, \"friends_count\": 1483, \"geo_enabled\": true, \"id\": 1305456990, \"id_str\": \"1305456990\", \"listed_count\": 3, \"name\": \"DR ASHOK GUPTA\", \"profile_background_color\": \"C0DEED\", \"profile_background_image_url\": \"http://abs.twimg.com/images/themes/theme1/bg.png\", \"profile_background_image_url_https\": \"https://abs.twimg.com/images/themes/theme1/bg.png\", \"profile_image_url\": \"http://abs.twimg.com/sticky/default_profile_images/default_profile_normal.png\", \"profile_image_url_https\": \"https://abs.twimg.com/sticky/default_profile_images/default_profile_normal.png\", \"profile_link_color\": \"1DA1F2\", \"profile_sidebar_border_color\": \"C0DEED\", \"profile_sidebar_fill_color\": \"DDEEF6\", \"profile_text_color\": \"333333\", \"profile_use_background_image\": true, \"screen_name\": \"drashokgupta12\", \"statuses_count\": 11961}, \"user_mentions\": [{\"id\": 44425241, \"id_str\": \"44425241\", \"name\": \"Aditya Raj Kaul\", \"screen_name\": \"AdityaRajKaul\"}, {\"id\": 18839785, \"id_str\": \"18839785\", \"name\": \"Narendra Modi\", \"screen_name\": \"narendramodi\"}]}\n",
      "{\"created_at\": \"Thu Sep 10 10:43:41 +0000 2020\", \"hashtags\": [], \"id\": 1304007632915628033, \"id_str\": \"1304007632915628033\", \"lang\": \"en\", \"retweet_count\": 45, \"retweeted_status\": {\"created_at\": \"Thu Sep 10 10:39:46 +0000 2020\", \"favorite_count\": 116, \"hashtags\": [], \"id\": 1304006647912644609, \"id_str\": \"1304006647912644609\", \"lang\": \"en\", \"retweet_count\": 45, \"source\": \"<a href=\\\"http://twitter.com/download/iphone\\\" rel=\\\"nofollow\\\">Twitter for iPhone</a>\", \"text\": \"Exams during Corona pandemic is MasterStroke of Modi Ji, they want to make India number one in terms of total cases \\ud83c\\udf1a\", \"urls\": [], \"user\": {\"created_at\": \"Tue Oct 20 11:12:08 +0000 2009\", \"description\": \"Socio-Political Activist\\u0964National Convenor @DalitArmy_ |RTs & Likes Are NOT Endorsements\\u0964 Views Personal\\u0964Connecting with Secular People\", \"favourites_count\": 671, \"followers_count\": 113494, \"friends_count\": 57043, \"geo_enabled\": true, \"id\": 83821511, \"id_str\": \"83821511\", \"listed_count\": 34, \"location\": \"London\\u0964\\u092d\\u093e\\u0930\\u0924\", \"name\": \"Yash Meghwal\", \"profile_background_color\": \"000000\", \"profile_background_image_url\": \"http://abs.twimg.com/images/themes/theme1/bg.png\", \"profile_background_image_url_https\": \"https://abs.twimg.com/images/themes/theme1/bg.png\", \"profile_image_url\": \"http://pbs.twimg.com/profile_images/1247941495295840259/0LHV_EoP_normal.jpg\", \"profile_image_url_https\": \"https://pbs.twimg.com/profile_images/1247941495295840259/0LHV_EoP_normal.jpg\", \"profile_link_color\": \"1B95E0\", \"profile_sidebar_border_color\": \"000000\", \"profile_sidebar_fill_color\": \"000000\", \"profile_text_color\": \"000000\", \"screen_name\": \"YashMeghwal\", \"statuses_count\": 2740, \"url\": \"https://t.co/o286sPq5Lh\", \"verified\": true}, \"user_mentions\": []}, \"source\": \"<a href=\\\"http://twitter.com/download/android\\\" rel=\\\"nofollow\\\">Twitter for Android</a>\", \"text\": \"RT @YashMeghwal: Exams during Corona pandemic is MasterStroke of Modi Ji, they want to make India number one in terms of total cases \\ud83c\\udf1a\", \"urls\": [], \"user\": {\"created_at\": \"Wed Sep 09 18:46:29 +0000 2020\", \"default_profile\": true, \"favourites_count\": 96, \"followers_count\": 1, \"friends_count\": 18, \"id\": 1303766689188732928, \"id_str\": \"1303766689188732928\", \"name\": \"Ak\", \"profile_background_color\": \"F5F8FA\", \"profile_banner_url\": \"https://pbs.twimg.com/profile_banners/1303766689188732928/1599727186\", \"profile_image_url\": \"http://pbs.twimg.com/profile_images/1303975616073482246/F1bscRbf_normal.jpg\", \"profile_image_url_https\": \"https://pbs.twimg.com/profile_images/1303975616073482246/F1bscRbf_normal.jpg\", \"profile_link_color\": \"1DA1F2\", \"profile_sidebar_border_color\": \"C0DEED\", \"profile_sidebar_fill_color\": \"DDEEF6\", \"profile_text_color\": \"333333\", \"profile_use_background_image\": true, \"screen_name\": \"Ak24072624\", \"statuses_count\": 74}, \"user_mentions\": [{\"id\": 83821511, \"id_str\": \"83821511\", \"name\": \"Yash Meghwal\", \"screen_name\": \"YashMeghwal\"}]}\n",
      "{\"created_at\": \"Thu Sep 10 10:43:41 +0000 2020\", \"hashtags\": [], \"id\": 1304007632320000001, \"id_str\": \"1304007632320000001\", \"lang\": \"en\", \"retweet_count\": 363, \"retweeted_status\": {\"created_at\": \"Thu Sep 10 08:50:00 +0000 2020\", \"favorite_count\": 488, \"hashtags\": [], \"id\": 1303979021953200129, \"id_str\": \"1303979021953200129\", \"lang\": \"en\", \"retweet_count\": 363, \"source\": \"<a href=\\\"https://about.twitter.com/products/tweetdeck\\\" rel=\\\"nofollow\\\">TweetDeck</a>\", \"text\": \"The Modi Govt only takes care of richer people, millionaires, corporate sector but they are not bothered about empl\\u2026 https://t.co/z0wrCYtjlI\", \"truncated\": true, \"urls\": [{\"expanded_url\": \"https://twitter.com/i/web/status/1303979021953200129\", \"url\": \"https://t.co/z0wrCYtjlI\"}], \"user\": {\"created_at\": \"Wed Feb 06 05:45:31 +0000 2013\", \"description\": \"The Official Twitter Account of India's Most Vibrant Political Movement - The Indian National Congress\", \"favourites_count\": 1296, \"followers_count\": 7206709, \"friends_count\": 2417, \"id\": 1153045459, \"id_str\": \"1153045459\", \"listed_count\": 2063, \"location\": \"New Delhi, India\", \"name\": \"Congress\", \"profile_background_color\": \"C0DEED\", \"profile_background_image_url\": \"http://abs.twimg.com/images/themes/theme1/bg.png\", \"profile_background_image_url_https\": \"https://abs.twimg.com/images/themes/theme1/bg.png\", \"profile_banner_url\": \"https://pbs.twimg.com/profile_banners/1153045459/1566297741\", \"profile_image_url\": \"http://pbs.twimg.com/profile_images/1130693971628269568/6y_B8j-H_normal.jpg\", \"profile_image_url_https\": \"https://pbs.twimg.com/profile_images/1130693971628269568/6y_B8j-H_normal.jpg\", \"profile_link_color\": \"0084B4\", \"profile_sidebar_border_color\": \"FFFFFF\", \"profile_sidebar_fill_color\": \"DDEEF6\", \"profile_text_color\": \"333333\", \"profile_use_background_image\": true, \"screen_name\": \"INCIndia\", \"statuses_count\": 74026, \"url\": \"https://t.co/51TS85KdYI\", \"verified\": true}, \"user_mentions\": []}, \"source\": \"<a href=\\\"http://twitter.com/download/android\\\" rel=\\\"nofollow\\\">Twitter for Android</a>\", \"text\": \"RT @INCIndia: The Modi Govt only takes care of richer people, millionaires, corporate sector but they are not bothered about employment cre\\u2026\", \"urls\": [], \"user\": {\"created_at\": \"Sun Aug 30 19:56:28 +0000 2020\", \"default_profile\": true, \"favourites_count\": 1, \"followers_count\": 9, \"friends_count\": 141, \"id\": 1300160233281482752, \"id_str\": \"1300160233281482752\", \"name\": \"Kundan patel. Berojgar\", \"profile_background_color\": \"F5F8FA\", \"profile_image_url\": \"http://pbs.twimg.com/profile_images/1300160703056158720/RVv68_m7_normal.jpg\", \"profile_image_url_https\": \"https://pbs.twimg.com/profile_images/1300160703056158720/RVv68_m7_normal.jpg\", \"profile_link_color\": \"1DA1F2\", \"profile_sidebar_border_color\": \"C0DEED\", \"profile_sidebar_fill_color\": \"DDEEF6\", \"profile_text_color\": \"333333\", \"profile_use_background_image\": true, \"screen_name\": \"Kundan12422312\", \"statuses_count\": 1437}, \"user_mentions\": [{\"id\": 1153045459, \"id_str\": \"1153045459\", \"name\": \"Congress\", \"screen_name\": \"INCIndia\"}]}\n",
      "{\"created_at\": \"Thu Sep 10 10:43:41 +0000 2020\", \"hashtags\": [], \"id\": 1304007631300784128, \"id_str\": \"1304007631300784128\", \"lang\": \"en\", \"source\": \"<a href=\\\"http://twitter.com/download/android\\\" rel=\\\"nofollow\\\">Twitter for Android</a>\", \"text\": \"As soon as there is a election this guy starts his fake package. ..\\n\\nPM Narendra Modi to inaugurate 30 projects wor\\u2026 https://t.co/qKjPhNvrTE\", \"truncated\": true, \"urls\": [{\"expanded_url\": \"https://twitter.com/i/web/status/1304007631300784128\", \"url\": \"https://t.co/qKjPhNvrTE\"}], \"user\": {\"created_at\": \"Fri Nov 06 09:31:35 +0000 2009\", \"default_profile\": true, \"description\": \"\\u0cac\\u0cc6\\u0c82\\u0c97\\u0cb3\\u0cc2\\u0cb0\\u0cc1  , Mysorean, Kannada and books...apolitical..but paper simha,Renu , ananthu , nalin, Jaggi and many bjp leaders blocked me just asking right question..\", \"favourites_count\": 6260, \"followers_count\": 255, \"friends_count\": 553, \"geo_enabled\": true, \"id\": 87904890, \"id_str\": \"87904890\", \"listed_count\": 3, \"location\": \"soon emigrating to Pulkistan\", \"name\": \"'intellectual' like me!!!!\", \"profile_background_color\": \"C0DEED\", \"profile_background_image_url\": \"http://abs.twimg.com/images/themes/theme1/bg.png\", \"profile_background_image_url_https\": \"https://abs.twimg.com/images/themes/theme1/bg.png\", \"profile_banner_url\": \"https://pbs.twimg.com/profile_banners/87904890/1585790741\", \"profile_image_url\": \"http://pbs.twimg.com/profile_images/592710483498663938/ZrHhwlQv_normal.jpg\", \"profile_image_url_https\": \"https://pbs.twimg.com/profile_images/592710483498663938/ZrHhwlQv_normal.jpg\", \"profile_link_color\": \"1DA1F2\", \"profile_sidebar_border_color\": \"C0DEED\", \"profile_sidebar_fill_color\": \"DDEEF6\", \"profile_text_color\": \"333333\", \"profile_use_background_image\": true, \"screen_name\": \"SathiSarva\", \"statuses_count\": 31099}, \"user_mentions\": []}\n",
      "{\"created_at\": \"Thu Sep 10 10:43:40 +0000 2020\", \"hashtags\": [{\"text\": \"KanganaRanaut\"}], \"id\": 1304007628553551872, \"id_str\": \"1304007628553551872\", \"lang\": \"en\", \"retweet_count\": 424, \"retweeted_status\": {\"created_at\": \"Thu Sep 10 08:21:41 +0000 2020\", \"favorite_count\": 1757, \"hashtags\": [{\"text\": \"KanganaRanaut\"}], \"id\": 1303971894807363587, \"id_str\": \"1303971894807363587\", \"lang\": \"en\", \"retweet_count\": 424, \"source\": \"<a href=\\\"https://mobile.twitter.com\\\" rel=\\\"nofollow\\\">Twitter Web App</a>\", \"text\": \"#KanganaRanaut is a BjP agent and being used by Modi and Shah. @bainjal https://t.co/fwrJiNX1wD via @ndtv\", \"urls\": [{\"expanded_url\": \"https://www.ndtv.com/opinion/what-happened-at-thackeray-pawar-meeting-on-kangana-2293239\", \"url\": \"https://t.co/fwrJiNX1wD\"}], \"user\": {\"created_at\": \"Mon Aug 31 09:42:29 +0000 2009\", \"description\": \"Professor of Peace and Conflict Research, Uppsala University, Sweden. @UU_Peace Views are My Own.\", \"favourites_count\": 30469, \"followers_count\": 289378, \"friends_count\": 1829, \"id\": 70355674, \"id_str\": \"70355674\", \"listed_count\": 467, \"location\": \"Uppsala, Sweden\", \"name\": \"Ashok Swain\", \"profile_background_color\": \"000000\", \"profile_background_image_url\": \"http://abs.twimg.com/images/themes/theme1/bg.png\", \"profile_background_image_url_https\": \"https://abs.twimg.com/images/themes/theme1/bg.png\", \"profile_banner_url\": \"https://pbs.twimg.com/profile_banners/70355674/1525348824\", \"profile_image_url\": \"http://pbs.twimg.com/profile_images/1111360132783489024/gXWDvVZW_normal.png\", \"profile_image_url_https\": \"https://pbs.twimg.com/profile_images/1111360132783489024/gXWDvVZW_normal.png\", \"profile_link_color\": \"91D2FA\", \"profile_sidebar_border_color\": \"000000\", \"profile_sidebar_fill_color\": \"000000\", \"profile_text_color\": \"000000\", \"screen_name\": \"ashoswai\", \"statuses_count\": 50581, \"url\": \"https://t.co/GIPEZH1S5Y\", \"verified\": true}, \"user_mentions\": [{\"id\": 89732309, \"id_str\": \"89732309\", \"name\": \"Swati Chaturvedi\", \"screen_name\": \"bainjal\"}, {\"id\": 37034483, \"id_str\": \"37034483\", \"name\": \"NDTV\", \"screen_name\": \"ndtv\"}]}, \"source\": \"<a href=\\\"http://twitter.com/download/iphone\\\" rel=\\\"nofollow\\\">Twitter for iPhone</a>\", \"text\": \"RT @ashoswai: #KanganaRanaut is a BjP agent and being used by Modi and Shah. @bainjal https://t.co/fwrJiNX1wD via @ndtv\", \"urls\": [{\"expanded_url\": \"https://www.ndtv.com/opinion/what-happened-at-thackeray-pawar-meeting-on-kangana-2293239\", \"url\": \"https://t.co/fwrJiNX1wD\"}], \"user\": {\"created_at\": \"Mon Mar 26 06:18:49 +0000 2018\", \"default_profile\": true, \"description\": \"Be true to yourself never be a hypocrite INCian by birth\", \"favourites_count\": 44909, \"followers_count\": 497, \"friends_count\": 491, \"id\": 978154286050721792, \"id_str\": \"978154286050721792\", \"listed_count\": 1, \"name\": \"Ramesh jain inc\", \"profile_background_color\": \"F5F8FA\", \"profile_image_url\": \"http://pbs.twimg.com/profile_images/1277475664132665346/I4pA3OW4_normal.jpg\", \"profile_image_url_https\": \"https://pbs.twimg.com/profile_images/1277475664132665346/I4pA3OW4_normal.jpg\", \"profile_link_color\": \"1DA1F2\", \"profile_sidebar_border_color\": \"C0DEED\", \"profile_sidebar_fill_color\": \"DDEEF6\", \"profile_text_color\": \"333333\", \"profile_use_background_image\": true, \"screen_name\": \"Rameshj97877975\", \"statuses_count\": 37292}, \"user_mentions\": [{\"id\": 70355674, \"id_str\": \"70355674\", \"name\": \"Ashok Swain\", \"screen_name\": \"ashoswai\"}, {\"id\": 89732309, \"id_str\": \"89732309\", \"name\": \"Swati Chaturvedi\", \"screen_name\": \"bainjal\"}, {\"id\": 37034483, \"id_str\": \"37034483\", \"name\": \"NDTV\", \"screen_name\": \"ndtv\"}]}\n"
     ]
    },
    {
     "name": "stdout",
     "output_type": "stream",
     "text": [
      "{\"created_at\": \"Wed Sep 09 04:19:01 +0000 2020\", \"favorite_count\": 9745, \"hashtags\": [], \"id\": 1303548439217672192, \"id_str\": \"1303548439217672192\", \"lang\": \"en\", \"retweet_count\": 3925, \"source\": \"<a href=\\\"http://twitter.com/download/android\\\" rel=\\\"nofollow\\\">Twitter for Android</a>\", \"text\": \"People involved from the beginning with the Ayodhya temple movement accuse the BJP of swallowing 1400 Crores collec\\u2026 https://t.co/BEuKwJXWEI\", \"truncated\": true, \"urls\": [{\"expanded_url\": \"https://twitter.com/i/web/status/1303548439217672192\", \"url\": \"https://t.co/BEuKwJXWEI\"}], \"user\": {\"created_at\": \"Fri Jan 10 09:18:00 +0000 2014\", \"default_profile\": true, \"description\": \"Public Interest Lawyer and Activist; \\nDo and say what is just fair and in public interest, regardless of immediate fallout\", \"favourites_count\": 67, \"followers_count\": 1804097, \"friends_count\": 50, \"id\": 2284802828, \"id_str\": \"2284802828\", \"location\": \"New Delhi, India\", \"name\": \"Prashant Bhushan\", \"profile_background_color\": \"C0DEED\", \"profile_background_image_url\": \"http://abs.twimg.com/images/themes/theme1/bg.png\", \"profile_background_image_url_https\": \"https://abs.twimg.com/images/themes/theme1/bg.png\", \"profile_banner_url\": \"https://pbs.twimg.com/profile_banners/2284802828/1481109014\", \"profile_image_url\": \"http://pbs.twimg.com/profile_images/1262387547503833088/7lMtHm8m_normal.jpg\", \"profile_image_url_https\": \"https://pbs.twimg.com/profile_images/1262387547503833088/7lMtHm8m_normal.jpg\", \"profile_link_color\": \"1DA1F2\", \"profile_sidebar_border_color\": \"C0DEED\", \"profile_sidebar_fill_color\": \"DDEEF6\", \"profile_text_color\": \"333333\", \"profile_use_background_image\": true, \"screen_name\": \"pbhushan1\", \"statuses_count\": 12156, \"verified\": true}, \"user_mentions\": []}\n",
      "{\"created_at\": \"Thu Sep 10 04:00:44 +0000 2020\", \"favorite_count\": 29415, \"hashtags\": [], \"id\": 1303906228179841024, \"id_str\": \"1303906228179841024\", \"lang\": \"en\", \"retweet_count\": 11121, \"source\": \"<a href=\\\"https://studio.twitter.com\\\" rel=\\\"nofollow\\\">Twitter Media Studio</a>\", \"text\": \"The policies of Modi Govt have caused the loss of crores of jobs and a historic fall in GDP. \\n\\nIt has crushed the f\\u2026 https://t.co/qaqiO9jpG4\", \"truncated\": true, \"urls\": [{\"expanded_url\": \"https://twitter.com/i/web/status/1303906228179841024\", \"url\": \"https://t.co/qaqiO9jpG4\"}], \"user\": {\"created_at\": \"Sat Apr 25 06:39:15 +0000 2015\", \"default_profile\": true, \"description\": \"This is the official account of Rahul Gandhi | Member of the Indian National Congress| Member of Parliament\", \"favourites_count\": 364, \"followers_count\": 16060505, \"friends_count\": 274, \"id\": 3171712086, \"id_str\": \"3171712086\", \"listed_count\": 3105, \"location\": \"12, Tughlak Lane, New Delhi\", \"name\": \"Rahul Gandhi\", \"profile_background_color\": \"C0DEED\", \"profile_background_image_url\": \"http://abs.twimg.com/images/themes/theme1/bg.png\", \"profile_background_image_url_https\": \"https://abs.twimg.com/images/themes/theme1/bg.png\", \"profile_banner_url\": \"https://pbs.twimg.com/profile_banners/3171712086/1430826926\", \"profile_image_url\": \"http://pbs.twimg.com/profile_images/974851878860312582/O-Zn2b72_normal.jpg\", \"profile_image_url_https\": \"https://pbs.twimg.com/profile_images/974851878860312582/O-Zn2b72_normal.jpg\", \"profile_link_color\": \"1DA1F2\", \"profile_sidebar_border_color\": \"C0DEED\", \"profile_sidebar_fill_color\": \"DDEEF6\", \"profile_text_color\": \"333333\", \"profile_use_background_image\": true, \"screen_name\": \"RahulGandhi\", \"statuses_count\": 4905, \"url\": \"https://t.co/SEtVql2yKs\", \"verified\": true}, \"user_mentions\": []}\n",
      "{\"created_at\": \"Wed Sep 09 06:00:05 +0000 2020\", \"favorite_count\": 12968, \"hashtags\": [], \"id\": 1303573874148163587, \"id_str\": \"1303573874148163587\", \"lang\": \"en\", \"retweet_count\": 4039, \"source\": \"<a href=\\\"http://twitter.com/download/android\\\" rel=\\\"nofollow\\\">Twitter for Android</a>\", \"text\": \"You call Modi fascist, compare India with Hitler's Germany nothing happens to you. You question Congress Shiv Sena,\\u2026 https://t.co/VOTdDrpiCX\", \"truncated\": true, \"urls\": [{\"expanded_url\": \"https://twitter.com/i/web/status/1303573874148163587\", \"url\": \"https://t.co/VOTdDrpiCX\"}], \"user\": {\"created_at\": \"Fri Aug 31 23:14:44 +0000 2012\", \"description\": \"Right Arm, Round the World, Fast!\", \"favourites_count\": 3603, \"followers_count\": 126474, \"friends_count\": 470, \"id\": 794874013, \"id_str\": \"794874013\", \"listed_count\": 216, \"location\": \"Noida, India\", \"name\": \"The Frustrated Indian\", \"profile_background_color\": \"022330\", \"profile_background_image_url\": \"http://abs.twimg.com/images/themes/theme1/bg.png\", \"profile_background_image_url_https\": \"https://abs.twimg.com/images/themes/theme1/bg.png\", \"profile_background_tile\": true, \"profile_banner_url\": \"https://pbs.twimg.com/profile_banners/794874013/1551164453\", \"profile_image_url\": \"http://pbs.twimg.com/profile_images/1156595279660892164/dJw5EHwA_normal.jpg\", \"profile_image_url_https\": \"https://pbs.twimg.com/profile_images/1156595279660892164/dJw5EHwA_normal.jpg\", \"profile_link_color\": \"FA743E\", \"profile_sidebar_border_color\": \"000000\", \"profile_sidebar_fill_color\": \"DDEEF6\", \"profile_text_color\": \"333333\", \"profile_use_background_image\": true, \"screen_name\": \"FrustIndian\", \"statuses_count\": 33254, \"url\": \"https://t.co/o010yMERu5\", \"verified\": true}, \"user_mentions\": []}\n",
      "{\"created_at\": \"Thu Sep 10 10:44:16 +0000 2020\", \"hashtags\": [], \"id\": 1304007778726338562, \"id_str\": \"1304007778726338562\", \"lang\": \"en\", \"retweet_count\": 142, \"retweeted_status\": {\"created_at\": \"Thu Sep 10 10:10:00 +0000 2020\", \"favorite_count\": 239, \"hashtags\": [], \"id\": 1303999154436284417, \"id_str\": \"1303999154436284417\", \"lang\": \"en\", \"retweet_count\": 142, \"source\": \"<a href=\\\"https://studio.twitter.com\\\" rel=\\\"nofollow\\\">Twitter Media Studio</a>\", \"text\": \"The Central BJP Govt led by Modi ji has destroyed the dreams &amp; livelihoods of crores of families. They had promised\\u2026 https://t.co/7IFhBwI2JV\", \"truncated\": true, \"urls\": [{\"expanded_url\": \"https://twitter.com/i/web/status/1303999154436284417\", \"url\": \"https://t.co/7IFhBwI2JV\"}], \"user\": {\"created_at\": \"Wed Feb 06 05:45:31 +0000 2013\", \"description\": \"The Official Twitter Account of India's Most Vibrant Political Movement - The Indian National Congress\", \"favourites_count\": 1296, \"followers_count\": 7206711, \"friends_count\": 2417, \"id\": 1153045459, \"id_str\": \"1153045459\", \"listed_count\": 2063, \"location\": \"New Delhi, India\", \"name\": \"Congress\", \"profile_background_color\": \"C0DEED\", \"profile_background_image_url\": \"http://abs.twimg.com/images/themes/theme1/bg.png\", \"profile_background_image_url_https\": \"https://abs.twimg.com/images/themes/theme1/bg.png\", \"profile_banner_url\": \"https://pbs.twimg.com/profile_banners/1153045459/1566297741\", \"profile_image_url\": \"http://pbs.twimg.com/profile_images/1130693971628269568/6y_B8j-H_normal.jpg\", \"profile_image_url_https\": \"https://pbs.twimg.com/profile_images/1130693971628269568/6y_B8j-H_normal.jpg\", \"profile_link_color\": \"0084B4\", \"profile_sidebar_border_color\": \"FFFFFF\", \"profile_sidebar_fill_color\": \"DDEEF6\", \"profile_text_color\": \"333333\", \"profile_use_background_image\": true, \"screen_name\": \"INCIndia\", \"statuses_count\": 74026, \"url\": \"https://t.co/51TS85KdYI\", \"verified\": true}, \"user_mentions\": []}, \"source\": \"<a href=\\\"http://twitter.com/download/android\\\" rel=\\\"nofollow\\\">Twitter for Android</a>\", \"text\": \"RT @INCIndia: The Central BJP Govt led by Modi ji has destroyed the dreams &amp; livelihoods of crores of families. They had promised 2 crore j\\u2026\", \"urls\": [], \"user\": {\"created_at\": \"Wed Apr 22 20:39:39 +0000 2020\", \"default_profile\": true, \"description\": \"pursuing MBBS from nalanda medical college(PATNA)\", \"favourites_count\": 7, \"followers_count\": 13, \"id\": 1253060871590477830, \"id_str\": \"1253060871590477830\", \"location\": \"Patna, India\", \"name\": \"Prashant\", \"profile_background_color\": \"F5F8FA\", \"profile_image_url\": \"http://pbs.twimg.com/profile_images/1253061449980743687/MBfEpIGm_normal.jpg\", \"profile_image_url_https\": \"https://pbs.twimg.com/profile_images/1253061449980743687/MBfEpIGm_normal.jpg\", \"profile_link_color\": \"1DA1F2\", \"profile_sidebar_border_color\": \"C0DEED\", \"profile_sidebar_fill_color\": \"DDEEF6\", \"profile_text_color\": \"333333\", \"profile_use_background_image\": true, \"screen_name\": \"Prashant_307\", \"statuses_count\": 2108}, \"user_mentions\": [{\"id\": 1153045459, \"id_str\": \"1153045459\", \"name\": \"Congress\", \"screen_name\": \"INCIndia\"}]}\n",
      "{\"created_at\": \"Thu Sep 10 10:44:16 +0000 2020\", \"hashtags\": [], \"id\": 1304007777329717248, \"id_str\": \"1304007777329717248\", \"lang\": \"en\", \"retweet_count\": 7, \"retweeted_status\": {\"created_at\": \"Thu Sep 10 10:43:29 +0000 2020\", \"favorite_count\": 24, \"hashtags\": [], \"id\": 1304007581883445248, \"id_str\": \"1304007581883445248\", \"lang\": \"en\", \"retweet_count\": 7, \"source\": \"<a href=\\\"http://twitter.com/download/iphone\\\" rel=\\\"nofollow\\\">Twitter for iPhone</a>\", \"text\": \"They said Modi a dictator, mass murderer, rioter, Hitler, khooni darinda and many other choicest of abuses. Never i\\u2026 https://t.co/1WM4nqX3I6\", \"truncated\": true, \"urls\": [{\"expanded_url\": \"https://twitter.com/i/web/status/1304007581883445248\", \"url\": \"https://t.co/1WM4nqX3I6\"}], \"user\": {\"created_at\": \"Fri Jan 04 15:29:10 +0000 2013\", \"default_profile\": true, \"description\": \"It's just a job. Grass grows, birds fly, water flows. I troll| HMP Vice President|\", \"favourites_count\": 64681, \"followers_count\": 70155, \"friends_count\": 641, \"geo_enabled\": true, \"id\": 1060713474, \"id_str\": \"1060713474\", \"listed_count\": 167, \"location\": \"\\u0939\\u0930\\u093f\\u092f\\u093e\\u0923\\u093e\", \"name\": \"Smoking Skills\", \"profile_background_color\": \"C0DEED\", \"profile_background_image_url\": \"http://abs.twimg.com/images/themes/theme1/bg.png\", \"profile_background_image_url_https\": \"https://abs.twimg.com/images/themes/theme1/bg.png\", \"profile_banner_url\": \"https://pbs.twimg.com/profile_banners/1060713474/1583756398\", \"profile_image_url\": \"http://pbs.twimg.com/profile_images/1302593123130826753/b3natOrQ_normal.jpg\", \"profile_image_url_https\": \"https://pbs.twimg.com/profile_images/1302593123130826753/b3natOrQ_normal.jpg\", \"profile_link_color\": \"1DA1F2\", \"profile_sidebar_border_color\": \"C0DEED\", \"profile_sidebar_fill_color\": \"DDEEF6\", \"profile_text_color\": \"333333\", \"profile_use_background_image\": true, \"screen_name\": \"SmokingSkills_\", \"statuses_count\": 61352}, \"user_mentions\": []}, \"source\": \"<a href=\\\"http://twitter.com/download/android\\\" rel=\\\"nofollow\\\">Twitter for Android</a>\", \"text\": \"RT @SmokingSkills_: They said Modi a dictator, mass murderer, rioter, Hitler, khooni darinda and many other choicest of abuses. Never in th\\u2026\", \"urls\": [], \"user\": {\"created_at\": \"Thu Jan 09 16:41:40 +0000 2020\", \"default_profile\": true, \"description\": \"\\u0939\\u092e\\u093e\\u092e \\u092e\\u0947\\u0902 \\u0938\\u092c \\u0928\\u0902\\u0917\\u0947 \\u0939\\u0948 ! \\u0936\\u0930\\u093e\\u092b\\u0924 \\u0915\\u0940 \\u0926\\u0941\\u0928\\u093f\\u092f\\u093e \\u0915\\u093e \\u0915\\u093f\\u0938\\u094d\\u0938\\u093e \\u0939\\u0940 \\u0916\\u0924\\u094d\\u092e, \\u0905\\u092c \\u091c\\u0948\\u0938\\u0940 \\u0926\\u0941\\u0928\\u093f\\u092f\\u093e \\u0935\\u0948\\u0938\\u0947 \\u0939\\u092e\\u0964 @Gattaparty\", \"favourites_count\": 17279, \"followers_count\": 776, \"friends_count\": 126, \"id\": 1215312631919022080, \"id_str\": \"1215312631919022080\", \"listed_count\": 1, \"location\": \"Hindustan\", \"name\": \"\\ufe0e \\ufe0e \\ufe0e \\ufe0e \\ufe0e \\ufe0e \\ufe0e \\ufe0e \\ufe0e \\ufe0e \\ufe0e \\ufe0e \\ufe0e \\ufe0e \\ufe0e \\ufe0e \\ufe0e \\ufe0e \\ufe0e \\ufe0e \\ufe0e \\ufe0e \\ufe0e \\ufe0e \\ufe0e\", \"profile_background_color\": \"F5F8FA\", \"profile_banner_url\": \"https://pbs.twimg.com/profile_banners/1215312631919022080/1596687174\", \"profile_image_url\": \"http://pbs.twimg.com/profile_images/1302618195874869250/ChU-lS7n_normal.jpg\", \"profile_image_url_https\": \"https://pbs.twimg.com/profile_images/1302618195874869250/ChU-lS7n_normal.jpg\", \"profile_link_color\": \"1DA1F2\", \"profile_sidebar_border_color\": \"C0DEED\", \"profile_sidebar_fill_color\": \"DDEEF6\", \"profile_text_color\": \"333333\", \"profile_use_background_image\": true, \"screen_name\": \"Bebaak_Ladka\", \"statuses_count\": 15527, \"url\": \"https://t.co/lblvzzmQjl\"}, \"user_mentions\": [{\"id\": 1060713474, \"id_str\": \"1060713474\", \"name\": \"Smoking Skills\", \"screen_name\": \"SmokingSkills_\"}]}\n",
      "{\"created_at\": \"Thu Sep 10 10:44:15 +0000 2020\", \"hashtags\": [], \"id\": 1304007775727489026, \"id_str\": \"1304007775727489026\", \"lang\": \"en\", \"retweet_count\": 405, \"retweeted_status\": {\"created_at\": \"Thu Sep 10 05:20:18 +0000 2020\", \"favorite_count\": 436, \"hashtags\": [], \"id\": 1303926249442570241, \"id_str\": \"1303926249442570241\", \"lang\": \"en\", \"retweet_count\": 405, \"source\": \"<a href=\\\"http://twitter.com/download/android\\\" rel=\\\"nofollow\\\">Twitter for Android</a>\", \"text\": \"Under Modi, unemployment rate is the highest than it\\u2019s ever been in 45 years.\\n2. 2 out of every 5 young India are u\\u2026 https://t.co/276MqPpWVF\", \"truncated\": true, \"urls\": [{\"expanded_url\": \"https://twitter.com/i/web/status/1303926249442570241\", \"url\": \"https://t.co/276MqPpWVF\"}], \"user\": {\"created_at\": \"Mon Sep 15 07:00:23 +0000 2008\", \"description\": \"The Official Twitter Account of The Youth Wing of Indian National Congress. RTs are Not Endorsements.\", \"favourites_count\": 3811, \"followers_count\": 832095, \"friends_count\": 523, \"geo_enabled\": true, \"id\": 16293020, \"id_str\": \"16293020\", \"listed_count\": 341, \"location\": \"India\", \"name\": \"Youth Congress\", \"profile_background_color\": \"9AE4E8\", \"profile_background_image_url\": \"http://abs.twimg.com/images/themes/theme1/bg.png\", \"profile_background_image_url_https\": \"https://abs.twimg.com/images/themes/theme1/bg.png\", \"profile_banner_url\": \"https://pbs.twimg.com/profile_banners/16293020/1599640875\", \"profile_image_url\": \"http://pbs.twimg.com/profile_images/1303619063130726400/oVeCC1cp_normal.jpg\", \"profile_image_url_https\": \"https://pbs.twimg.com/profile_images/1303619063130726400/oVeCC1cp_normal.jpg\", \"profile_link_color\": \"0084B4\", \"profile_sidebar_border_color\": \"FFFFFF\", \"profile_sidebar_fill_color\": \"DDFFCC\", \"profile_text_color\": \"333333\", \"profile_use_background_image\": true, \"screen_name\": \"IYC\", \"statuses_count\": 48189, \"url\": \"https://t.co/RMYigJ8cI8\", \"verified\": true}, \"user_mentions\": []}, \"source\": \"<a href=\\\"http://twitter.com/download/android\\\" rel=\\\"nofollow\\\">Twitter for Android</a>\", \"text\": \"RT @IYC: Under Modi, unemployment rate is the highest than it\\u2019s ever been in 45 years.\\n2. 2 out of every 5 young India are unemployed with\\u2026\", \"urls\": [], \"user\": {\"created_at\": \"Sun Apr 29 19:17:17 +0000 2018\", \"default_profile\": true, \"description\": \"\\u092f\\u0942\\u0925 \\u0915\\u093e\\u0902\\u0917\\u094d\\u0930\\u0947\\u0938\", \"favourites_count\": 50855, \"followers_count\": 449, \"friends_count\": 57, \"id\": 990671378427891712, \"id_str\": \"990671378427891712\", \"listed_count\": 1, \"location\": \"\\u0930\\u091c\\u094b\\u0926, \\u092d\\u093e\\u0930\\u0924\", \"name\": \"Gopal Salitra\", \"profile_background_color\": \"F5F8FA\", \"profile_banner_url\": \"https://pbs.twimg.com/profile_banners/990671378427891712/1525029625\", \"profile_image_url\": \"http://pbs.twimg.com/profile_images/1191648729264058368/uA9oL-Wn_normal.jpg\", \"profile_image_url_https\": \"https://pbs.twimg.com/profile_images/1191648729264058368/uA9oL-Wn_normal.jpg\", \"profile_link_color\": \"1DA1F2\", \"profile_sidebar_border_color\": \"C0DEED\", \"profile_sidebar_fill_color\": \"DDEEF6\", \"profile_text_color\": \"333333\", \"profile_use_background_image\": true, \"screen_name\": \"GSalitra\", \"statuses_count\": 159324}, \"user_mentions\": [{\"id\": 16293020, \"id_str\": \"16293020\", \"name\": \"Youth Congress\", \"screen_name\": \"IYC\"}]}\n",
      "{\"created_at\": \"Thu Sep 10 10:44:15 +0000 2020\", \"hashtags\": [{\"text\": \"\\u0906\\u0936\\u0940\\u0937_\\u0936\\u0930\\u094d\\u092e\\u093e\"}], \"id\": 1304007774376873986, \"id_str\": \"1304007774376873986\", \"lang\": \"hi\", \"retweet_count\": 52, \"retweeted_status\": {\"created_at\": \"Wed Sep 09 08:41:21 +0000 2020\", \"favorite_count\": 47, \"hashtags\": [{\"text\": \"\\u0906\\u0936\\u0940\\u0937_\\u0936\\u0930\\u094d\\u092e\\u093e\"}], \"id\": 1303614456748937216, \"id_str\": \"1303614456748937216\", \"lang\": \"hi\", \"retweet_count\": 52, \"source\": \"<a href=\\\"http://twitter.com/download/android\\\" rel=\\\"nofollow\\\">Twitter for Android</a>\", \"text\": \"#\\u0906\\u0936\\u0940\\u0937_\\u0936\\u0930\\u094d\\u092e\\u093e \\u091c\\u0940 \\u0906\\u092a\\u0928\\u0947 \\u0906\\u092a\\u0915\\u0947 \\u0935\\u093e\\u0926\\u0947 \\u0915\\u0947 \\u092e\\u0941\\u0924\\u093e\\u092c\\u093f\\u0915 \\u0906\\u092a\\u0928\\u0947 \\u0918\\u094b\\u0937\\u0923\\u093e \\u0928\\u0939\\u0940\\u0902\\u0964\\n\\u0915\\u093f\\u0928\\u094d\\u0924\\u0941 7 \\u0926\\u093f\\u0928 \\u092e\\u0947\\u0902 \\u0928\\u093f\\u092f\\u0941\\u0915\\u094d\\u0924 \\u0926\\u0947\\u0924\\u0947 \\u0939\\u0948 \\u092f\\u093e \\u0928\\u0939\\u0940\\u0902 \\u092f\\u0947 \\u0926\\u0947\\u0916\\u0928\\u0947 \\u0935\\u093e\\u0932\\u0940 \\u092c\\u093e\\u2026 https://t.co/XhtEHOc5HO\", \"truncated\": true, \"urls\": [{\"expanded_url\": \"https://twitter.com/i/web/status/1303614456748937216\", \"url\": \"https://t.co/XhtEHOc5HO\"}], \"user\": {\"created_at\": \"Sun Mar 08 12:07:09 +0000 2020\", \"default_profile\": true, \"favourites_count\": 10284, \"followers_count\": 222, \"friends_count\": 177, \"id\": 1236624332245221376, \"id_str\": \"1236624332245221376\", \"listed_count\": 1, \"name\": \"Prithviraj Bhandari\", \"profile_background_color\": \"F5F8FA\", \"profile_image_url\": \"http://pbs.twimg.com/profile_images/1243742612860727297/hGZYnwCP_normal.jpg\", \"profile_image_url_https\": \"https://pbs.twimg.com/profile_images/1243742612860727297/hGZYnwCP_normal.jpg\", \"profile_link_color\": \"1DA1F2\", \"profile_sidebar_border_color\": \"C0DEED\", \"profile_sidebar_fill_color\": \"DDEEF6\", \"profile_text_color\": \"333333\", \"profile_use_background_image\": true, \"screen_name\": \"PrithvirajBhan7\", \"statuses_count\": 10054}, \"user_mentions\": []}, \"source\": \"<a href=\\\"http://twitter.com/download/android\\\" rel=\\\"nofollow\\\">Twitter for Android</a>\", \"text\": \"RT @PrithvirajBhan7: #\\u0906\\u0936\\u0940\\u0937_\\u0936\\u0930\\u094d\\u092e\\u093e \\u091c\\u0940 \\u0906\\u092a\\u0928\\u0947 \\u0906\\u092a\\u0915\\u0947 \\u0935\\u093e\\u0926\\u0947 \\u0915\\u0947 \\u092e\\u0941\\u0924\\u093e\\u092c\\u093f\\u0915 \\u0906\\u092a\\u0928\\u0947 \\u0918\\u094b\\u0937\\u0923\\u093e \\u0928\\u0939\\u0940\\u0902\\u0964\\n\\u0915\\u093f\\u0928\\u094d\\u0924\\u0941 7 \\u0926\\u093f\\u0928 \\u092e\\u0947\\u0902 \\u0928\\u093f\\u092f\\u0941\\u0915\\u094d\\u0924 \\u0926\\u0947\\u0924\\u0947 \\u0939\\u0948 \\u092f\\u093e \\u0928\\u0939\\u0940\\u0902 \\u092f\\u0947 \\u0926\\u0947\\u0916\\u0928\\u0947 \\u0935\\u093e\\u0932\\u0940 \\u092c\\u093e\\u0924\\u2026\", \"urls\": [], \"user\": {\"created_at\": \"Fri May 08 16:37:58 +0000 2020\", \"default_profile\": true, \"description\": \"ji bharkar jeena hai\", \"favourites_count\": 399, \"followers_count\": 43, \"friends_count\": 55, \"id\": 1258798202968510465, \"id_str\": \"1258798202968510465\", \"name\": \"\\u092c\\u0947\\u0930\\u094b\\u091c\\u0917\\u093e\\u0930 Rahul Bairagi\", \"profile_background_color\": \"F5F8FA\", \"profile_image_url\": \"http://pbs.twimg.com/profile_images/1301209240824995842/RiXGcrO8_normal.jpg\", \"profile_image_url_https\": \"https://pbs.twimg.com/profile_images/1301209240824995842/RiXGcrO8_normal.jpg\", \"profile_link_color\": \"1DA1F2\", \"profile_sidebar_border_color\": \"C0DEED\", \"profile_sidebar_fill_color\": \"DDEEF6\", \"profile_text_color\": \"333333\", \"profile_use_background_image\": true, \"screen_name\": \"RahulBa21623715\", \"statuses_count\": 1692}, \"user_mentions\": [{\"id\": 1236624332245221376, \"id_str\": \"1236624332245221376\", \"name\": \"Prithviraj Bhandari\", \"screen_name\": \"PrithvirajBhan7\"}]}\n",
      "{\"created_at\": \"Thu Sep 10 10:44:14 +0000 2020\", \"hashtags\": [{\"text\": \"9\\u092c\\u091c\\u09479\\u092e\\u093f\\u0928\\u091f\"}], \"id\": 1304007771814158336, \"id_str\": \"1304007771814158336\", \"lang\": \"en\", \"retweet_count\": 2, \"retweeted_status\": {\"created_at\": \"Wed Sep 09 15:59:01 +0000 2020\", \"favorite_count\": 1, \"hashtags\": [{\"text\": \"9\\u092c\\u091c\\u09479\\u092e\\u093f\\u0928\\u091f\"}], \"id\": 1303724598756651008, \"id_str\": \"1303724598756651008\", \"lang\": \"en\", \"retweet_count\": 2, \"source\": \"<a href=\\\"http://twitter.com/download/android\\\" rel=\\\"nofollow\\\">Twitter for Android</a>\", \"text\": \"Modi hates students. #9\\u092c\\u091c\\u09479\\u092e\\u093f\\u0928\\u091f\", \"urls\": [], \"user\": {\"created_at\": \"Sun Dec 29 17:08:44 +0000 2019\", \"default_profile\": true, \"description\": \"JNUite\", \"favourites_count\": 7283, \"followers_count\": 391, \"friends_count\": 513, \"id\": 1211333130247782400, \"id_str\": \"1211333130247782400\", \"location\": \"New Delhi, India\", \"name\": \"Rajeev Kumar\", \"profile_background_color\": \"F5F8FA\", \"profile_banner_url\": \"https://pbs.twimg.com/profile_banners/1211333130247782400/1577871023\", \"profile_image_url\": \"http://pbs.twimg.com/profile_images/1245198611626913795/YIsoVW-x_normal.jpg\", \"profile_image_url_https\": \"https://pbs.twimg.com/profile_images/1245198611626913795/YIsoVW-x_normal.jpg\", \"profile_link_color\": \"1DA1F2\", \"profile_sidebar_border_color\": \"C0DEED\", \"profile_sidebar_fill_color\": \"DDEEF6\", \"profile_text_color\": \"333333\", \"profile_use_background_image\": true, \"screen_name\": \"rajeevrk1160\", \"statuses_count\": 10282}, \"user_mentions\": []}, \"source\": \"<a href=\\\"http://twitter.com/download/android\\\" rel=\\\"nofollow\\\">Twitter for Android</a>\", \"text\": \"RT @rajeevrk1160: Modi hates students. #9\\u092c\\u091c\\u09479\\u092e\\u093f\\u0928\\u091f\", \"urls\": [], \"user\": {\"created_at\": \"Sun Jan 05 18:15:43 +0000 2020\", \"default_profile\": true, \"favourites_count\": 9, \"followers_count\": 10, \"friends_count\": 44, \"id\": 1213886690109976578, \"id_str\": \"1213886690109976578\", \"name\": \"Rajesh Kumar Sahani\", \"profile_background_color\": \"F5F8FA\", \"profile_image_url\": \"http://pbs.twimg.com/profile_images/1249942477554892801/N2GwJTxf_normal.jpg\", \"profile_image_url_https\": \"https://pbs.twimg.com/profile_images/1249942477554892801/N2GwJTxf_normal.jpg\", \"profile_link_color\": \"1DA1F2\", \"profile_sidebar_border_color\": \"C0DEED\", \"profile_sidebar_fill_color\": \"DDEEF6\", \"profile_text_color\": \"333333\", \"profile_use_background_image\": true, \"screen_name\": \"RajeshK47656564\", \"statuses_count\": 195}, \"user_mentions\": [{\"id\": 1211333130247782400, \"id_str\": \"1211333130247782400\", \"name\": \"Rajeev Kumar\", \"screen_name\": \"rajeevrk1160\"}]}\n",
      "{\"created_at\": \"Thu Sep 10 10:44:13 +0000 2020\", \"hashtags\": [], \"id\": 1304007768265777152, \"id_str\": \"1304007768265777152\", \"lang\": \"en\", \"retweet_count\": 142, \"retweeted_status\": {\"created_at\": \"Thu Sep 10 10:10:00 +0000 2020\", \"favorite_count\": 239, \"hashtags\": [], \"id\": 1303999154436284417, \"id_str\": \"1303999154436284417\", \"lang\": \"en\", \"retweet_count\": 142, \"source\": \"<a href=\\\"https://studio.twitter.com\\\" rel=\\\"nofollow\\\">Twitter Media Studio</a>\", \"text\": \"The Central BJP Govt led by Modi ji has destroyed the dreams &amp; livelihoods of crores of families. They had promised\\u2026 https://t.co/7IFhBwI2JV\", \"truncated\": true, \"urls\": [{\"expanded_url\": \"https://twitter.com/i/web/status/1303999154436284417\", \"url\": \"https://t.co/7IFhBwI2JV\"}], \"user\": {\"created_at\": \"Wed Feb 06 05:45:31 +0000 2013\", \"description\": \"The Official Twitter Account of India's Most Vibrant Political Movement - The Indian National Congress\", \"favourites_count\": 1296, \"followers_count\": 7206711, \"friends_count\": 2417, \"id\": 1153045459, \"id_str\": \"1153045459\", \"listed_count\": 2063, \"location\": \"New Delhi, India\", \"name\": \"Congress\", \"profile_background_color\": \"C0DEED\", \"profile_background_image_url\": \"http://abs.twimg.com/images/themes/theme1/bg.png\", \"profile_background_image_url_https\": \"https://abs.twimg.com/images/themes/theme1/bg.png\", \"profile_banner_url\": \"https://pbs.twimg.com/profile_banners/1153045459/1566297741\", \"profile_image_url\": \"http://pbs.twimg.com/profile_images/1130693971628269568/6y_B8j-H_normal.jpg\", \"profile_image_url_https\": \"https://pbs.twimg.com/profile_images/1130693971628269568/6y_B8j-H_normal.jpg\", \"profile_link_color\": \"0084B4\", \"profile_sidebar_border_color\": \"FFFFFF\", \"profile_sidebar_fill_color\": \"DDEEF6\", \"profile_text_color\": \"333333\", \"profile_use_background_image\": true, \"screen_name\": \"INCIndia\", \"statuses_count\": 74026, \"url\": \"https://t.co/51TS85KdYI\", \"verified\": true}, \"user_mentions\": []}, \"source\": \"<a href=\\\"http://twitter.com/download/android\\\" rel=\\\"nofollow\\\">Twitter for Android</a>\", \"text\": \"RT @INCIndia: The Central BJP Govt led by Modi ji has destroyed the dreams &amp; livelihoods of crores of families. They had promised 2 crore j\\u2026\", \"urls\": [], \"user\": {\"created_at\": \"Mon Aug 31 16:28:46 +0000 2020\", \"default_profile\": true, \"default_profile_image\": true, \"favourites_count\": 21, \"followers_count\": 3, \"friends_count\": 1, \"id\": 1300470437005066243, \"id_str\": \"1300470437005066243\", \"name\": \"Amit\", \"profile_background_color\": \"F5F8FA\", \"profile_image_url\": \"http://abs.twimg.com/sticky/default_profile_images/default_profile_normal.png\", \"profile_image_url_https\": \"https://abs.twimg.com/sticky/default_profile_images/default_profile_normal.png\", \"profile_link_color\": \"1DA1F2\", \"profile_sidebar_border_color\": \"C0DEED\", \"profile_sidebar_fill_color\": \"DDEEF6\", \"profile_text_color\": \"333333\", \"profile_use_background_image\": true, \"screen_name\": \"Amit82245544\", \"statuses_count\": 102}, \"user_mentions\": [{\"id\": 1153045459, \"id_str\": \"1153045459\", \"name\": \"Congress\", \"screen_name\": \"INCIndia\"}]}\n",
      "{\"created_at\": \"Thu Sep 10 10:44:13 +0000 2020\", \"hashtags\": [], \"id\": 1304007768261627910, \"id_str\": \"1304007768261627910\", \"lang\": \"en\", \"source\": \"<a href=\\\"https://www.modi2.com/\\\" rel=\\\"nofollow\\\">modi2news</a>\", \"text\": \"MODI 2,\\nIndia-China standoff: Indian security officials seek four to six dedicated satellites along LAC to keep an\\u2026 https://t.co/vRz5nDgzhl\", \"truncated\": true, \"urls\": [{\"expanded_url\": \"https://twitter.com/i/web/status/1304007768261627910\", \"url\": \"https://t.co/vRz5nDgzhl\"}], \"user\": {\"created_at\": \"Sun Jun 02 19:18:35 +0000 2019\", \"description\": \"Latest news from all over the world\\n\\n#indiannews #newsforindia #modi2 #india #indianpm #pm #narendramodi #namo #indianprimeminister #modi2.0\", \"favourites_count\": 770, \"followers_count\": 37, \"friends_count\": 20, \"id\": 1135264465174388736, \"id_str\": \"1135264465174388736\", \"name\": \"modi 2\", \"profile_background_color\": \"000000\", \"profile_background_image_url\": \"http://abs.twimg.com/images/themes/theme1/bg.png\", \"profile_background_image_url_https\": \"https://abs.twimg.com/images/themes/theme1/bg.png\", \"profile_banner_url\": \"https://pbs.twimg.com/profile_banners/1135264465174388736/1559506356\", \"profile_image_url\": \"http://pbs.twimg.com/profile_images/1144473613308817409/_l82-WQ6_normal.jpg\", \"profile_image_url_https\": \"https://pbs.twimg.com/profile_images/1144473613308817409/_l82-WQ6_normal.jpg\", \"profile_link_color\": \"FF691F\", \"profile_sidebar_border_color\": \"000000\", \"profile_sidebar_fill_color\": \"000000\", \"profile_text_color\": \"000000\", \"screen_name\": \"modi_2_\", \"statuses_count\": 44448, \"url\": \"https://t.co/fKPK3ooQra\"}, \"user_mentions\": []}\n",
      "{\"created_at\": \"Thu Sep 10 10:44:13 +0000 2020\", \"hashtags\": [], \"id\": 1304007766269288451, \"id_str\": \"1304007766269288451\", \"lang\": \"hi\", \"retweet_count\": 7, \"retweeted_status\": {\"created_at\": \"Thu Sep 10 10:26:00 +0000 2020\", \"favorite_count\": 18, \"hashtags\": [], \"id\": 1304003180867383296, \"id_str\": \"1304003180867383296\", \"lang\": \"hi\", \"retweet_count\": 7, \"source\": \"<a href=\\\"https://about.twitter.com/products/tweetdeck\\\" rel=\\\"nofollow\\\">TweetDeck</a>\", \"text\": \"\\u092e\\u0939\\u093f\\u0932\\u093e \\u0928\\u0947 PM Modi \\u0938\\u0947 \\u0915\\u0939\\u093e \\u2018Graduation \\u0915\\u0930\\u0915\\u0947 \\u0930\\u094b\\u091c\\u093c\\u0917\\u093e\\u0930 \\u0928\\u0939\\u0940\\u0902 \\u092e\\u093f\\u0932\\u093e \\u0924\\u094b \\u092a\\u0936\\u0941\\u092a\\u093e\\u0932\\u0928 \\u0915\\u0930 \\u0930\\u0939\\u0947 \\u0939\\u0948\\u0902\\u2019\\n\\n\\u092a\\u0942\\u0930\\u093e \\u0935\\u0940\\u0921\\u093f\\u092f\\u094b \\u092f\\u0939\\u093e\\u0902 \\u0926\\u0947\\u0916\\u0947\\u0902:\\u2026 https://t.co/MatXRErz2r\", \"truncated\": true, \"urls\": [{\"expanded_url\": \"https://twitter.com/i/web/status/1304003180867383296\", \"url\": \"https://t.co/MatXRErz2r\"}], \"user\": {\"created_at\": \"Sun Jun 30 11:01:35 +0000 2013\", \"description\": \"\\u0959\\u092c\\u0930 \\u0906\\u092a\\u0915\\u0947 \\u0917\\u093e\\u0901\\u0935 \\u0915\\u0940... | Email: office@mainmedia.in | https://t.co/T4UOQIPCRq\", \"favourites_count\": 5, \"followers_count\": 5482, \"id\": 1557813266, \"id_str\": \"1557813266\", \"listed_count\": 5, \"location\": \"Patna, India\", \"name\": \"Main Media\", \"profile_background_color\": \"000000\", \"profile_background_image_url\": \"http://abs.twimg.com/images/themes/theme1/bg.png\", \"profile_background_image_url_https\": \"https://abs.twimg.com/images/themes/theme1/bg.png\", \"profile_banner_url\": \"https://pbs.twimg.com/profile_banners/1557813266/1599209383\", \"profile_image_url\": \"http://pbs.twimg.com/profile_images/1292666295310102528/VkBnTSV7_normal.jpg\", \"profile_image_url_https\": \"https://pbs.twimg.com/profile_images/1292666295310102528/VkBnTSV7_normal.jpg\", \"profile_link_color\": \"E81C4F\", \"profile_sidebar_border_color\": \"000000\", \"profile_sidebar_fill_color\": \"000000\", \"profile_text_color\": \"000000\", \"screen_name\": \"MainMediaHun\", \"statuses_count\": 1396, \"url\": \"https://t.co/FrGci21lxI\"}, \"user_mentions\": []}, \"source\": \"<a href=\\\"http://twitter.com/download/android\\\" rel=\\\"nofollow\\\">Twitter for Android</a>\", \"text\": \"RT @MainMediaHun: \\u092e\\u0939\\u093f\\u0932\\u093e \\u0928\\u0947 PM Modi \\u0938\\u0947 \\u0915\\u0939\\u093e \\u2018Graduation \\u0915\\u0930\\u0915\\u0947 \\u0930\\u094b\\u091c\\u093c\\u0917\\u093e\\u0930 \\u0928\\u0939\\u0940\\u0902 \\u092e\\u093f\\u0932\\u093e \\u0924\\u094b \\u092a\\u0936\\u0941\\u092a\\u093e\\u0932\\u0928 \\u0915\\u0930 \\u0930\\u0939\\u0947 \\u0939\\u0948\\u0902\\u2019\\n\\n\\u092a\\u0942\\u0930\\u093e \\u0935\\u0940\\u0921\\u093f\\u092f\\u094b \\u092f\\u0939\\u093e\\u0902 \\u0926\\u0947\\u0916\\u0947\\u0902: https://t.co/k\\u2026\", \"urls\": [], \"user\": {\"created_at\": \"Mon Sep 09 14:09:13 +0000 2013\", \"default_profile\": true, \"description\": \"Only for nationalism and development of India.Humanity1st .Nation first.Public first.\\nI love my India.\\ud83c\\uddee\\ud83c\\uddf3\\ud83d\\udc46\\nAlways with true!\\n\\ud83d\\udcaf% follow back!\", \"favourites_count\": 26895, \"followers_count\": 1019, \"friends_count\": 4950, \"geo_enabled\": true, \"id\": 1846442497, \"id_str\": \"1846442497\", \"listed_count\": 1, \"location\": \"New Delhi, India\", \"name\": \"Er. Vikram Kumar (HINDUSTANI....\", \"profile_background_color\": \"C0DEED\", \"profile_background_image_url\": \"http://abs.twimg.com/images/themes/theme1/bg.png\", \"profile_background_image_url_https\": \"https://abs.twimg.com/images/themes/theme1/bg.png\", \"profile_banner_url\": \"https://pbs.twimg.com/profile_banners/1846442497/1595556574\", \"profile_image_url\": \"http://pbs.twimg.com/profile_images/1269456461723324416/c4h6bJIT_normal.jpg\", \"profile_image_url_https\": \"https://pbs.twimg.com/profile_images/1269456461723324416/c4h6bJIT_normal.jpg\", \"profile_link_color\": \"1DA1F2\", \"profile_sidebar_border_color\": \"C0DEED\", \"profile_sidebar_fill_color\": \"DDEEF6\", \"profile_text_color\": \"333333\", \"profile_use_background_image\": true, \"screen_name\": \"vikramk61310878\", \"statuses_count\": 28676}, \"user_mentions\": [{\"id\": 1557813266, \"id_str\": \"1557813266\", \"name\": \"Main Media\", \"screen_name\": \"MainMediaHun\"}]}\n",
      "{\"created_at\": \"Thu Sep 10 10:44:13 +0000 2020\", \"hashtags\": [], \"id\": 1304007765971537920, \"id_str\": \"1304007765971537920\", \"lang\": \"en\", \"retweet_count\": 91, \"retweeted_status\": {\"created_at\": \"Thu Sep 10 09:09:24 +0000 2020\", \"favorite_count\": 313, \"hashtags\": [], \"id\": 1303983905289023488, \"id_str\": \"1303983905289023488\", \"lang\": \"en\", \"retweet_count\": 91, \"source\": \"<a href=\\\"http://twitter.com/download/android\\\" rel=\\\"nofollow\\\">Twitter for Android</a>\", \"text\": \"Abhay Thipsay:\\n\\n- former judge in Bombay HC\\n- joined congress in 2018 \\n- defense witness for Nirav Modi\\n\\nMarkandey\\u2026 https://t.co/lbylZRx6xv\", \"truncated\": true, \"urls\": [{\"expanded_url\": \"https://twitter.com/i/web/status/1303983905289023488\", \"url\": \"https://t.co/lbylZRx6xv\"}], \"user\": {\"created_at\": \"Tue Jan 09 11:48:25 +0000 2018\", \"description\": \"Youtuber\\u4e28162k+ Subscriber\\u4e28making sense of socio-political issues and sharing my perspective through videos\\u4e28 \\ud83d\\udce9 anopenletter001@gmail.com\", \"favourites_count\": 15045, \"followers_count\": 25912, \"friends_count\": 135, \"id\": 950695755244695552, \"id_str\": \"950695755244695552\", \"listed_count\": 33, \"location\": \"\\u092d\\u093e\\u0930\\u0924\", \"name\": \"An Open Letter \\ud83d\\ude37\", \"profile_background_color\": \"000000\", \"profile_background_image_url\": \"http://abs.twimg.com/images/themes/theme1/bg.png\", \"profile_background_image_url_https\": \"https://abs.twimg.com/images/themes/theme1/bg.png\", \"profile_banner_url\": \"https://pbs.twimg.com/profile_banners/950695755244695552/1598362654\", \"profile_image_url\": \"http://pbs.twimg.com/profile_images/1237606127212228610/rxmAJnkz_normal.jpg\", \"profile_image_url_https\": \"https://pbs.twimg.com/profile_images/1237606127212228610/rxmAJnkz_normal.jpg\", \"profile_link_color\": \"1B95E0\", \"profile_sidebar_border_color\": \"000000\", \"profile_sidebar_fill_color\": \"000000\", \"profile_text_color\": \"000000\", \"screen_name\": \"AnOpenLetter001\", \"statuses_count\": 14659, \"url\": \"https://t.co/0bvXz2wOdT\"}, \"user_mentions\": []}, \"source\": \"<a href=\\\"https://mobile.twitter.com\\\" rel=\\\"nofollow\\\">Twitter Web App</a>\", \"text\": \"RT @AnOpenLetter001: Abhay Thipsay:\\n\\n- former judge in Bombay HC\\n- joined congress in 2018 \\n- defense witness for Nirav Modi\\n\\nMarkandey Kat\\u2026\", \"urls\": [], \"user\": {\"created_at\": \"Sun Dec 25 07:28:34 +0000 2011\", \"description\": \"Indic Nationalist\\n\\ud83d\\udd49\\ufe0f  \\u092f\\u0924\\u094b \\u0927\\u0930\\u094d\\u092e\\u0938\\u094d\\u0924\\u0924\\u094b \\u091c\\u092f\\u0903 \\ud83d\\udea9 \\nProud Sanatani Hindu\\nMINIMALIST\\nCHESS \\u092a\\u094d\\u0930\\u0947\\u092e\\u0940 \\u0905\\u0935\\u0927\\u0940\\n#RTs are my personal views\", \"favourites_count\": 18844, \"followers_count\": 123, \"friends_count\": 670, \"geo_enabled\": true, \"id\": 446052688, \"id_str\": \"446052688\", \"listed_count\": 1, \"location\": \"MayaNagari\", \"name\": \"Urban Monk\", \"profile_background_color\": \"FA743E\", \"profile_background_image_url\": \"http://abs.twimg.com/images/themes/theme12/bg.gif\", \"profile_background_image_url_https\": \"https://abs.twimg.com/images/themes/theme12/bg.gif\", \"profile_banner_url\": \"https://pbs.twimg.com/profile_banners/446052688/1589217362\", \"profile_image_url\": \"http://pbs.twimg.com/profile_images/1259895035597926403/_P9R2zji_normal.jpg\", \"profile_image_url_https\": \"https://pbs.twimg.com/profile_images/1259895035597926403/_P9R2zji_normal.jpg\", \"profile_link_color\": \"FA743E\", \"profile_sidebar_border_color\": \"000000\", \"profile_sidebar_fill_color\": \"000000\", \"profile_text_color\": \"000000\", \"screen_name\": \"_Urban_monk\", \"statuses_count\": 15043}, \"user_mentions\": [{\"id\": 950695755244695552, \"id_str\": \"950695755244695552\", \"name\": \"An Open Letter \\ud83d\\ude37\", \"screen_name\": \"AnOpenLetter001\"}]}\n",
      "{\"created_at\": \"Thu Sep 10 10:44:12 +0000 2020\", \"hashtags\": [], \"id\": 1304007763555622915, \"id_str\": \"1304007763555622915\", \"lang\": \"hi\", \"retweet_count\": 288, \"retweeted_status\": {\"created_at\": \"Thu Sep 10 08:49:57 +0000 2020\", \"favorite_count\": 1461, \"hashtags\": [], \"id\": 1303979010653790208, \"id_str\": \"1303979010653790208\", \"lang\": \"hi\", \"retweet_count\": 288, \"source\": \"<a href=\\\"https://mobile.twitter.com\\\" rel=\\\"nofollow\\\">Twitter Web App</a>\", \"text\": \"\\u0930\\u093e\\u0939\\u0941\\u0932 \\u0917\\u093e\\u0902\\u0927\\u0940 \\u0928\\u0947 PM \\u092e\\u094b\\u0926\\u0940 \\u092a\\u0930 \\u0938\\u093e\\u0927\\u093e \\u0928\\u093f\\u0936\\u093e\\u0928\\u093e, \\u0915\\u0939\\u093e - '\\u092e\\u094b\\u0926\\u0940 \\u0938\\u093f\\u0930\\u094d\\u092b \\u0905\\u092a\\u0928\\u0947 \\u091a\\u0902\\u0926 '\\u092e\\u093f\\u0924\\u094d\\u0930\\u094b\\u0902' \\u0915\\u0940 \\u092c\\u093e\\u0924 \\u0938\\u0941\\u0928\\u0924\\u0947 \\u0939\\u0948\\u0902 \\u0914\\u0930 \\u0909\\u0928\\u0915\\u093e \\u0935\\u093f\\u0915\\u093e\\u0938 \\u0915\\u0930\\u0924\\u0947 \\u0939\\u0948\\u0902\\u2026 https://t.co/8Uuwx0IruP\", \"truncated\": true, \"urls\": [{\"expanded_url\": \"https://twitter.com/i/web/status/1303979010653790208\", \"url\": \"https://t.co/8Uuwx0IruP\"}], \"user\": {\"created_at\": \"Tue Jun 21 09:01:12 +0000 2011\", \"default_profile\": true, \"description\": \"https://t.co/aX9w5A5A1o - \\u0938\\u092c\\u0938\\u0947 \\u092d\\u0930\\u094b\\u0938\\u0947\\u092e\\u0902\\u0926 \\u0928\\u094d\\u092f\\u0942\\u091c\\u093c \\u091a\\u0948\\u0928\\u0932 NDTV \\u0907\\u0902\\u0921\\u093f\\u092f\\u093e \\u0915\\u093e \\u0911\\u0928\\u0932\\u093e\\u0907\\u0928 \\u0938\\u0902\\u0938\\u094d\\u0915\\u0930\\u0923 |\\n\\nInstagram: https://t.co/9nH0wGN8Mt\", \"favourites_count\": 40, \"followers_count\": 1740292, \"friends_count\": 21, \"geo_enabled\": true, \"id\": 321271735, \"id_str\": \"321271735\", \"listed_count\": 882, \"location\": \"New Delhi\", \"name\": \"NDTV India\", \"profile_background_color\": \"C0DEED\", \"profile_background_image_url\": \"http://abs.twimg.com/images/themes/theme1/bg.png\", \"profile_background_image_url_https\": \"https://abs.twimg.com/images/themes/theme1/bg.png\", \"profile_banner_url\": \"https://pbs.twimg.com/profile_banners/321271735/1585638574\", \"profile_image_url\": \"http://pbs.twimg.com/profile_images/529199103909978113/FEB01le2_normal.png\", \"profile_image_url_https\": \"https://pbs.twimg.com/profile_images/529199103909978113/FEB01le2_normal.png\", \"profile_link_color\": \"1DA1F2\", \"profile_sidebar_border_color\": \"C0DEED\", \"profile_sidebar_fill_color\": \"DDEEF6\", \"profile_text_color\": \"333333\", \"profile_use_background_image\": true, \"screen_name\": \"ndtvindia\", \"statuses_count\": 142832, \"url\": \"https://t.co/8XbfDjkUf8\", \"verified\": true}, \"user_mentions\": []}, \"source\": \"<a href=\\\"http://twitter.com/download/android\\\" rel=\\\"nofollow\\\">Twitter for Android</a>\", \"text\": \"RT @ndtvindia: \\u0930\\u093e\\u0939\\u0941\\u0932 \\u0917\\u093e\\u0902\\u0927\\u0940 \\u0928\\u0947 PM \\u092e\\u094b\\u0926\\u0940 \\u092a\\u0930 \\u0938\\u093e\\u0927\\u093e \\u0928\\u093f\\u0936\\u093e\\u0928\\u093e, \\u0915\\u0939\\u093e - '\\u092e\\u094b\\u0926\\u0940 \\u0938\\u093f\\u0930\\u094d\\u092b \\u0905\\u092a\\u0928\\u0947 \\u091a\\u0902\\u0926 '\\u092e\\u093f\\u0924\\u094d\\u0930\\u094b\\u0902' \\u0915\\u0940 \\u092c\\u093e\\u0924 \\u0938\\u0941\\u0928\\u0924\\u0947 \\u0939\\u0948\\u0902 \\u0914\\u0930 \\u0909\\u0928\\u0915\\u093e \\u0935\\u093f\\u0915\\u093e\\u0938 \\u0915\\u0930\\u0924\\u0947 \\u0939\\u0948\\u0902' | #Rahu\\u2026\", \"urls\": [], \"user\": {\"created_at\": \"Wed Feb 13 18:36:41 +0000 2019\", \"default_profile\": true, \"description\": \"R. D.     congress army\", \"favourites_count\": 29980, \"followers_count\": 337, \"friends_count\": 370, \"id\": 1095753645524729856, \"id_str\": \"1095753645524729856\", \"name\": \"no bhakt\", \"profile_background_color\": \"F5F8FA\", \"profile_banner_url\": \"https://pbs.twimg.com/profile_banners/1095753645524729856/1580191331\", \"profile_image_url\": \"http://pbs.twimg.com/profile_images/1199565946748194817/EfoQvMAv_normal.jpg\", \"profile_image_url_https\": \"https://pbs.twimg.com/profile_images/1199565946748194817/EfoQvMAv_normal.jpg\", \"profile_link_color\": \"1DA1F2\", \"profile_sidebar_border_color\": \"C0DEED\", \"profile_sidebar_fill_color\": \"DDEEF6\", \"profile_text_color\": \"333333\", \"profile_use_background_image\": true, \"screen_name\": \"RD06465348\", \"statuses_count\": 28810}, \"user_mentions\": [{\"id\": 321271735, \"id_str\": \"321271735\", \"name\": \"NDTV India\", \"screen_name\": \"ndtvindia\"}]}\n",
      "{\"created_at\": \"Thu Sep 10 10:44:12 +0000 2020\", \"favorite_count\": 1, \"hashtags\": [], \"id\": 1304007761143853056, \"id_str\": \"1304007761143853056\", \"in_reply_to_screen_name\": \"kajalraghwani90\", \"in_reply_to_user_id\": 1688034644, \"lang\": \"en\", \"source\": \"<a href=\\\"https://mobile.twitter.com\\\" rel=\\\"nofollow\\\">Twitter Web App</a>\", \"text\": \"@kajalraghwani90 supports @KanganaTeam ; urges PM @narendramodi for justice\\n\\nhttps://t.co/RIxjuh69om\", \"urls\": [{\"expanded_url\": \"https://timesofindia.indiatimes.com/entertainment/bhojpuri/movies/news/kajal-raghwani-supports-kangana-ranaut-urges-pm-narendra-modi-for-justice/articleshow/78037746.cms\", \"url\": \"https://t.co/RIxjuh69om\"}], \"user\": {\"created_at\": \"Wed Jul 22 09:44:07 +0000 2020\", \"default_profile\": true, \"description\": \"Latest news, videos, photos, reviews from the world of Bhojpuri cinema\", \"favourites_count\": 240, \"followers_count\": 28, \"friends_count\": 21, \"id\": 1285873178955280384, \"id_str\": \"1285873178955280384\", \"name\": \"TOI ETimes Bhojpuri\", \"profile_background_color\": \"F5F8FA\", \"profile_banner_url\": \"https://pbs.twimg.com/profile_banners/1285873178955280384/1595415685\", \"profile_image_url\": \"http://pbs.twimg.com/profile_images/1285873367073959936/qdBjAdlk_normal.jpg\", \"profile_image_url_https\": \"https://pbs.twimg.com/profile_images/1285873367073959936/qdBjAdlk_normal.jpg\", \"profile_link_color\": \"1DA1F2\", \"profile_sidebar_border_color\": \"C0DEED\", \"profile_sidebar_fill_color\": \"DDEEF6\", \"profile_text_color\": \"333333\", \"profile_use_background_image\": true, \"screen_name\": \"ETimesBhojpuri\", \"statuses_count\": 208}, \"user_mentions\": [{\"id\": 1688034644, \"id_str\": \"1688034644\", \"name\": \"kajal raghwani\", \"screen_name\": \"kajalraghwani90\"}, {\"id\": 3946905252, \"id_str\": \"3946905252\", \"name\": \"Kangana Ranaut\", \"screen_name\": \"KanganaTeam\"}, {\"id\": 18839785, \"id_str\": \"18839785\", \"name\": \"Narendra Modi\", \"screen_name\": \"narendramodi\"}]}\n",
      "{\"created_at\": \"Thu Sep 10 10:44:11 +0000 2020\", \"hashtags\": [], \"id\": 1304007758950277120, \"id_str\": \"1304007758950277120\", \"lang\": \"en\", \"retweet_count\": 322, \"retweeted_status\": {\"created_at\": \"Wed Sep 09 15:30:00 +0000 2020\", \"favorite_count\": 1263, \"hashtags\": [], \"id\": 1303717297329254408, \"id_str\": \"1303717297329254408\", \"lang\": \"en\", \"retweet_count\": 322, \"source\": \"<a href=\\\"https://mobile.twitter.com\\\" rel=\\\"nofollow\\\">Twitter Web App</a>\", \"text\": \"Modi government ensuring that no one sleeps hungry.\\n\\n179.83 lakh metric tonnes of free foodgrains have been distrib\\u2026 https://t.co/w4ZRhXNrkE\", \"truncated\": true, \"urls\": [{\"expanded_url\": \"https://twitter.com/i/web/status/1303717297329254408\", \"url\": \"https://t.co/w4ZRhXNrkE\"}], \"user\": {\"created_at\": \"Tue Oct 26 02:19:07 +0000 2010\", \"description\": \"Official Twitter account of the Bharatiya Janata Party (BJP), world's largest political party. \\u092d\\u093e\\u0930\\u0924\\u0940\\u092f \\u091c\\u0928\\u0924\\u093e \\u092a\\u093e\\u0930\\u094d\\u091f\\u0940 (\\u092d\\u093e\\u091c\\u092a\\u093e)\\n\\nhttps://t.co/d1IYtw5taF\", \"followers_count\": 14616787, \"friends_count\": 3, \"geo_enabled\": true, \"id\": 207809313, \"id_str\": \"207809313\", \"listed_count\": 2899, \"location\": \"6-A, Deen Dayal Upadhyay Marg,\", \"name\": \"BJP\", \"profile_background_color\": \"C0DEED\", \"profile_background_image_url\": \"http://abs.twimg.com/images/themes/theme1/bg.png\", \"profile_background_image_url_https\": \"https://abs.twimg.com/images/themes/theme1/bg.png\", \"profile_banner_url\": \"https://pbs.twimg.com/profile_banners/207809313/1597921023\", \"profile_image_url\": \"http://pbs.twimg.com/profile_images/812531108092874753/frVON4bm_normal.jpg\", \"profile_image_url_https\": \"https://pbs.twimg.com/profile_images/812531108092874753/frVON4bm_normal.jpg\", \"profile_link_color\": \"0084B4\", \"profile_sidebar_border_color\": \"FFFFFF\", \"profile_sidebar_fill_color\": \"DDEEF6\", \"profile_text_color\": \"333333\", \"screen_name\": \"BJP4India\", \"statuses_count\": 205258, \"url\": \"https://t.co/cjXqo5byqb\", \"verified\": true}, \"user_mentions\": []}, \"source\": \"<a href=\\\"https://mobile.twitter.com\\\" rel=\\\"nofollow\\\">Twitter Web App</a>\", \"text\": \"RT @BJP4India: Modi government ensuring that no one sleeps hungry.\\n\\n179.83 lakh metric tonnes of free foodgrains have been distributed to t\\u2026\", \"urls\": [], \"user\": {\"created_at\": \"Fri Sep 06 05:59:54 +0000 2019\", \"default_profile\": true, \"description\": \"\\u0915\\u094d\\u0937\\u0947\\u0924\\u094d\\u0930\\u0940\\u092f \\u0909\\u092a\\u093e\\u0927\\u094d\\u092f\\u0915\\u094d\\u0937, \\u092d\\u093e\\u0930\\u0924\\u0940\\u092f \\u091c\\u0928\\u0924\\u093e \\u092a\\u093e\\u0930\\u094d\\u091f\\u0940 \\u0915\\u093f\\u0938\\u093e\\u0928 \\u092e\\u094b\\u0930\\u094d\\u091a\\u093e, \\u0915\\u093e\\u0936\\u0940 \\u092a\\u094d\\u0930\\u093e\\u0928\\u094d\\u0924\", \"favourites_count\": 2868, \"followers_count\": 1874, \"friends_count\": 1222, \"id\": 1169852658858876928, \"id_str\": \"1169852658858876928\", \"location\": \"Pratapgarh, India\", \"name\": \"Abhay Pratap singh 'pappan'\", \"profile_background_color\": \"F5F8FA\", \"profile_banner_url\": \"https://pbs.twimg.com/profile_banners/1169852658858876928/1574418768\", \"profile_image_url\": \"http://pbs.twimg.com/profile_images/1169852977160437761/wapyTrSR_normal.png\", \"profile_image_url_https\": \"https://pbs.twimg.com/profile_images/1169852977160437761/wapyTrSR_normal.png\", \"profile_link_color\": \"1DA1F2\", \"profile_sidebar_border_color\": \"C0DEED\", \"profile_sidebar_fill_color\": \"DDEEF6\", \"profile_text_color\": \"333333\", \"profile_use_background_image\": true, \"screen_name\": \"AbhayPappan\", \"statuses_count\": 3825, \"url\": \"https://t.co/QVdZsup2z5\"}, \"user_mentions\": [{\"id\": 207809313, \"id_str\": \"207809313\", \"name\": \"BJP\", \"screen_name\": \"BJP4India\"}]}\n"
     ]
    },
    {
     "name": "stdout",
     "output_type": "stream",
     "text": [
      "{\"created_at\": \"Wed Sep 09 04:19:01 +0000 2020\", \"favorite_count\": 9746, \"hashtags\": [], \"id\": 1303548439217672192, \"id_str\": \"1303548439217672192\", \"lang\": \"en\", \"retweet_count\": 3925, \"source\": \"<a href=\\\"http://twitter.com/download/android\\\" rel=\\\"nofollow\\\">Twitter for Android</a>\", \"text\": \"People involved from the beginning with the Ayodhya temple movement accuse the BJP of swallowing 1400 Crores collec\\u2026 https://t.co/BEuKwJXWEI\", \"truncated\": true, \"urls\": [{\"expanded_url\": \"https://twitter.com/i/web/status/1303548439217672192\", \"url\": \"https://t.co/BEuKwJXWEI\"}], \"user\": {\"created_at\": \"Fri Jan 10 09:18:00 +0000 2014\", \"default_profile\": true, \"description\": \"Public Interest Lawyer and Activist; \\nDo and say what is just fair and in public interest, regardless of immediate fallout\", \"favourites_count\": 67, \"followers_count\": 1804098, \"friends_count\": 50, \"id\": 2284802828, \"id_str\": \"2284802828\", \"location\": \"New Delhi, India\", \"name\": \"Prashant Bhushan\", \"profile_background_color\": \"C0DEED\", \"profile_background_image_url\": \"http://abs.twimg.com/images/themes/theme1/bg.png\", \"profile_background_image_url_https\": \"https://abs.twimg.com/images/themes/theme1/bg.png\", \"profile_banner_url\": \"https://pbs.twimg.com/profile_banners/2284802828/1481109014\", \"profile_image_url\": \"http://pbs.twimg.com/profile_images/1262387547503833088/7lMtHm8m_normal.jpg\", \"profile_image_url_https\": \"https://pbs.twimg.com/profile_images/1262387547503833088/7lMtHm8m_normal.jpg\", \"profile_link_color\": \"1DA1F2\", \"profile_sidebar_border_color\": \"C0DEED\", \"profile_sidebar_fill_color\": \"DDEEF6\", \"profile_text_color\": \"333333\", \"profile_use_background_image\": true, \"screen_name\": \"pbhushan1\", \"statuses_count\": 12156, \"verified\": true}, \"user_mentions\": []}\n",
      "{\"created_at\": \"Thu Sep 10 04:00:44 +0000 2020\", \"favorite_count\": 29421, \"hashtags\": [], \"id\": 1303906228179841024, \"id_str\": \"1303906228179841024\", \"lang\": \"en\", \"retweet_count\": 11123, \"source\": \"<a href=\\\"https://studio.twitter.com\\\" rel=\\\"nofollow\\\">Twitter Media Studio</a>\", \"text\": \"The policies of Modi Govt have caused the loss of crores of jobs and a historic fall in GDP. \\n\\nIt has crushed the f\\u2026 https://t.co/qaqiO9jpG4\", \"truncated\": true, \"urls\": [{\"expanded_url\": \"https://twitter.com/i/web/status/1303906228179841024\", \"url\": \"https://t.co/qaqiO9jpG4\"}], \"user\": {\"created_at\": \"Sat Apr 25 06:39:15 +0000 2015\", \"default_profile\": true, \"description\": \"This is the official account of Rahul Gandhi | Member of the Indian National Congress| Member of Parliament\", \"favourites_count\": 364, \"followers_count\": 16060514, \"friends_count\": 274, \"id\": 3171712086, \"id_str\": \"3171712086\", \"listed_count\": 3105, \"location\": \"12, Tughlak Lane, New Delhi\", \"name\": \"Rahul Gandhi\", \"profile_background_color\": \"C0DEED\", \"profile_background_image_url\": \"http://abs.twimg.com/images/themes/theme1/bg.png\", \"profile_background_image_url_https\": \"https://abs.twimg.com/images/themes/theme1/bg.png\", \"profile_banner_url\": \"https://pbs.twimg.com/profile_banners/3171712086/1430826926\", \"profile_image_url\": \"http://pbs.twimg.com/profile_images/974851878860312582/O-Zn2b72_normal.jpg\", \"profile_image_url_https\": \"https://pbs.twimg.com/profile_images/974851878860312582/O-Zn2b72_normal.jpg\", \"profile_link_color\": \"1DA1F2\", \"profile_sidebar_border_color\": \"C0DEED\", \"profile_sidebar_fill_color\": \"DDEEF6\", \"profile_text_color\": \"333333\", \"profile_use_background_image\": true, \"screen_name\": \"RahulGandhi\", \"statuses_count\": 4905, \"url\": \"https://t.co/SEtVql2yKs\", \"verified\": true}, \"user_mentions\": []}\n",
      "{\"created_at\": \"Wed Sep 09 06:00:05 +0000 2020\", \"favorite_count\": 12968, \"hashtags\": [], \"id\": 1303573874148163587, \"id_str\": \"1303573874148163587\", \"lang\": \"en\", \"retweet_count\": 4039, \"source\": \"<a href=\\\"http://twitter.com/download/android\\\" rel=\\\"nofollow\\\">Twitter for Android</a>\", \"text\": \"You call Modi fascist, compare India with Hitler's Germany nothing happens to you. You question Congress Shiv Sena,\\u2026 https://t.co/VOTdDrpiCX\", \"truncated\": true, \"urls\": [{\"expanded_url\": \"https://twitter.com/i/web/status/1303573874148163587\", \"url\": \"https://t.co/VOTdDrpiCX\"}], \"user\": {\"created_at\": \"Fri Aug 31 23:14:44 +0000 2012\", \"description\": \"Right Arm, Round the World, Fast!\", \"favourites_count\": 3603, \"followers_count\": 126474, \"friends_count\": 470, \"id\": 794874013, \"id_str\": \"794874013\", \"listed_count\": 216, \"location\": \"Noida, India\", \"name\": \"The Frustrated Indian\", \"profile_background_color\": \"022330\", \"profile_background_image_url\": \"http://abs.twimg.com/images/themes/theme1/bg.png\", \"profile_background_image_url_https\": \"https://abs.twimg.com/images/themes/theme1/bg.png\", \"profile_background_tile\": true, \"profile_banner_url\": \"https://pbs.twimg.com/profile_banners/794874013/1551164453\", \"profile_image_url\": \"http://pbs.twimg.com/profile_images/1156595279660892164/dJw5EHwA_normal.jpg\", \"profile_image_url_https\": \"https://pbs.twimg.com/profile_images/1156595279660892164/dJw5EHwA_normal.jpg\", \"profile_link_color\": \"FA743E\", \"profile_sidebar_border_color\": \"000000\", \"profile_sidebar_fill_color\": \"DDEEF6\", \"profile_text_color\": \"333333\", \"profile_use_background_image\": true, \"screen_name\": \"FrustIndian\", \"statuses_count\": 33254, \"url\": \"https://t.co/o010yMERu5\", \"verified\": true}, \"user_mentions\": []}\n",
      "{\"created_at\": \"Thu Sep 10 10:44:37 +0000 2020\", \"hashtags\": [], \"id\": 1304007865464762369, \"id_str\": \"1304007865464762369\", \"lang\": \"en\", \"retweet_count\": 204, \"retweeted_status\": {\"created_at\": \"Wed Sep 09 18:16:27 +0000 2020\", \"favorite_count\": 1013, \"hashtags\": [], \"id\": 1303759186900201474, \"id_str\": \"1303759186900201474\", \"lang\": \"en\", \"retweet_count\": 204, \"source\": \"<a href=\\\"http://twitter.com/download/android\\\" rel=\\\"nofollow\\\">Twitter for Android</a>\", \"text\": \"Why are Indian media giving DEATH NEWS of Mr.S Singh Rajput, A Bollywood actor, Continuously for so long time ? Is\\u2026 https://t.co/hK3YERmS6N\", \"truncated\": true, \"urls\": [{\"expanded_url\": \"https://twitter.com/i/web/status/1303759186900201474\", \"url\": \"https://t.co/hK3YERmS6N\"}], \"user\": {\"created_at\": \"Fri Mar 20 15:01:01 +0000 2020\", \"default_profile\": true, \"description\": \"Political & Defence Analyst | Strategic Affair | Main Focus on South Asia | 20 Year Journey in Journalism | Work for Regional Peace | Human Rights |\", \"favourites_count\": 26, \"followers_count\": 21985, \"friends_count\": 6, \"id\": 1241016790483980295, \"id_str\": \"1241016790483980295\", \"listed_count\": 10, \"location\": \"Russia\", \"name\": \"Michail Boris \\ud83c\\uddf7\\ud83c\\uddfa\", \"profile_background_color\": \"F5F8FA\", \"profile_banner_url\": \"https://pbs.twimg.com/profile_banners/1241016790483980295/1596363125\", \"profile_image_url\": \"http://pbs.twimg.com/profile_images/1287086259589058560/6vTyPmjq_normal.jpg\", \"profile_image_url_https\": \"https://pbs.twimg.com/profile_images/1287086259589058560/6vTyPmjq_normal.jpg\", \"profile_link_color\": \"1DA1F2\", \"profile_sidebar_border_color\": \"C0DEED\", \"profile_sidebar_fill_color\": \"DDEEF6\", \"profile_text_color\": \"333333\", \"profile_use_background_image\": true, \"screen_name\": \"MichailBoris\", \"statuses_count\": 85}, \"user_mentions\": []}, \"source\": \"<a href=\\\"http://twitter.com/download/android\\\" rel=\\\"nofollow\\\">Twitter for Android</a>\", \"text\": \"RT @MichailBoris: Why are Indian media giving DEATH NEWS of Mr.S Singh Rajput, A Bollywood actor, Continuously for so long time ? Is this s\\u2026\", \"urls\": [], \"user\": {\"created_at\": \"Sun Apr 05 18:22:49 +0000 2015\", \"default_profile\": true, \"favourites_count\": 22499, \"followers_count\": 319, \"friends_count\": 403, \"geo_enabled\": true, \"id\": 3137971677, \"id_str\": \"3137971677\", \"location\": \"High Wycombe, England\", \"name\": \"Qazafi Nazir\", \"profile_background_color\": \"C0DEED\", \"profile_background_image_url\": \"http://abs.twimg.com/images/themes/theme1/bg.png\", \"profile_background_image_url_https\": \"https://abs.twimg.com/images/themes/theme1/bg.png\", \"profile_image_url\": \"http://pbs.twimg.com/profile_images/1019133156002291713/ZB_GTG29_normal.jpg\", \"profile_image_url_https\": \"https://pbs.twimg.com/profile_images/1019133156002291713/ZB_GTG29_normal.jpg\", \"profile_link_color\": \"1DA1F2\", \"profile_sidebar_border_color\": \"C0DEED\", \"profile_sidebar_fill_color\": \"DDEEF6\", \"profile_text_color\": \"333333\", \"profile_use_background_image\": true, \"screen_name\": \"NazirQazafi\", \"statuses_count\": 22140}, \"user_mentions\": [{\"id\": 1241016790483980295, \"id_str\": \"1241016790483980295\", \"name\": \"Michail Boris \\ud83c\\uddf7\\ud83c\\uddfa\", \"screen_name\": \"MichailBoris\"}]}\n",
      "{\"created_at\": \"Thu Sep 10 10:44:36 +0000 2020\", \"hashtags\": [{\"text\": \"RozgarDo\"}], \"id\": 1304007864650874883, \"id_str\": \"1304007864650874883\", \"lang\": \"en\", \"retweet_count\": 107, \"retweeted_status\": {\"created_at\": \"Thu Sep 10 09:46:18 +0000 2020\", \"favorite_count\": 91, \"hashtags\": [{\"text\": \"RozgarDo\"}], \"id\": 1303993192191152128, \"id_str\": \"1303993192191152128\", \"lang\": \"en\", \"retweet_count\": 107, \"source\": \"<a href=\\\"https://mobile.twitter.com\\\" rel=\\\"nofollow\\\">Twitter Web App</a>\", \"text\": \"National Initiative #RozgarDo campaign by @IYC President @srinivasiyc ,I raise my voice for unemployed youth of my\\u2026 https://t.co/WipwLPnKqv\", \"truncated\": true, \"urls\": [{\"expanded_url\": \"https://twitter.com/i/web/status/1303993192191152128\", \"url\": \"https://t.co/WipwLPnKqv\"}], \"user\": {\"created_at\": \"Thu Mar 05 19:34:43 +0000 2015\", \"description\": \"Official Twitter account of Assam PYC |\\nIYC Sec I/C @smrutirlenka @AjayChhikara9, @preetomKarmakar  APYC President - @KamrulAPYC , IYC SM I/C NE @drsumitdubey\", \"favourites_count\": 5200, \"followers_count\": 10224, \"friends_count\": 255, \"id\": 3063404004, \"id_str\": \"3063404004\", \"listed_count\": 29, \"location\": \"Assam\", \"name\": \"Assam Youth Congress\", \"profile_background_color\": \"000000\", \"profile_background_image_url\": \"http://abs.twimg.com/images/themes/theme1/bg.png\", \"profile_background_image_url_https\": \"https://abs.twimg.com/images/themes/theme1/bg.png\", \"profile_banner_url\": \"https://pbs.twimg.com/profile_banners/3063404004/1596909462\", \"profile_image_url\": \"http://pbs.twimg.com/profile_images/1292158233751072768/XGqOCr1Q_normal.jpg\", \"profile_image_url_https\": \"https://pbs.twimg.com/profile_images/1292158233751072768/XGqOCr1Q_normal.jpg\", \"profile_link_color\": \"89C9FA\", \"profile_sidebar_border_color\": \"000000\", \"profile_sidebar_fill_color\": \"000000\", \"profile_text_color\": \"000000\", \"screen_name\": \"IYCAssam\", \"statuses_count\": 18125, \"url\": \"https://t.co/VkuBA2cGAx\", \"verified\": true}, \"user_mentions\": [{\"id\": 16293020, \"id_str\": \"16293020\", \"name\": \"Youth Congress\", \"screen_name\": \"IYC\"}, {\"id\": 576533046, \"id_str\": \"576533046\", \"name\": \"Srinivas B V\", \"screen_name\": \"srinivasiyc\"}]}, \"source\": \"<a href=\\\"https://mobile.twitter.com\\\" rel=\\\"nofollow\\\">Twitter Web App</a>\", \"text\": \"RT @IYCAssam: National Initiative #RozgarDo campaign by @IYC President @srinivasiyc ,I raise my voice for unemployed youth of my nation &amp; a\\u2026\", \"urls\": [], \"user\": {\"created_at\": \"Fri Dec 15 17:40:47 +0000 2017\", \"default_profile\": true, \"favourites_count\": 4, \"followers_count\": 11, \"friends_count\": 23, \"id\": 941724732080103424, \"id_str\": \"941724732080103424\", \"location\": \"Deoghar, India\", \"name\": \"Kumar Samdarshi\", \"profile_background_color\": \"F5F8FA\", \"profile_image_url\": \"http://pbs.twimg.com/profile_images/1255043470281936900/HSsoCtzq_normal.jpg\", \"profile_image_url_https\": \"https://pbs.twimg.com/profile_images/1255043470281936900/HSsoCtzq_normal.jpg\", \"profile_link_color\": \"1DA1F2\", \"profile_sidebar_border_color\": \"C0DEED\", \"profile_sidebar_fill_color\": \"DDEEF6\", \"profile_text_color\": \"333333\", \"profile_use_background_image\": true, \"screen_name\": \"KumarSamdarshi3\", \"statuses_count\": 903}, \"user_mentions\": [{\"id\": 3063404004, \"id_str\": \"3063404004\", \"name\": \"Assam Youth Congress\", \"screen_name\": \"IYCAssam\"}, {\"id\": 16293020, \"id_str\": \"16293020\", \"name\": \"Youth Congress\", \"screen_name\": \"IYC\"}, {\"id\": 576533046, \"id_str\": \"576533046\", \"name\": \"Srinivas B V\", \"screen_name\": \"srinivasiyc\"}]}\n",
      "{\"created_at\": \"Thu Sep 10 10:44:35 +0000 2020\", \"hashtags\": [], \"id\": 1304007860842426368, \"id_str\": \"1304007860842426368\", \"lang\": \"en\", \"retweet_count\": 13, \"retweeted_status\": {\"created_at\": \"Thu Sep 10 10:43:29 +0000 2020\", \"favorite_count\": 39, \"hashtags\": [], \"id\": 1304007581883445248, \"id_str\": \"1304007581883445248\", \"lang\": \"en\", \"retweet_count\": 13, \"source\": \"<a href=\\\"http://twitter.com/download/iphone\\\" rel=\\\"nofollow\\\">Twitter for iPhone</a>\", \"text\": \"They said Modi a dictator, mass murderer, rioter, Hitler, khooni darinda and many other choicest of abuses. Never i\\u2026 https://t.co/1WM4nqX3I6\", \"truncated\": true, \"urls\": [{\"expanded_url\": \"https://twitter.com/i/web/status/1304007581883445248\", \"url\": \"https://t.co/1WM4nqX3I6\"}], \"user\": {\"created_at\": \"Fri Jan 04 15:29:10 +0000 2013\", \"default_profile\": true, \"description\": \"It's just a job. Grass grows, birds fly, water flows. I troll| HMP Vice President|\", \"favourites_count\": 64681, \"followers_count\": 70155, \"friends_count\": 641, \"geo_enabled\": true, \"id\": 1060713474, \"id_str\": \"1060713474\", \"listed_count\": 167, \"location\": \"\\u0939\\u0930\\u093f\\u092f\\u093e\\u0923\\u093e\", \"name\": \"Smoking Skills\", \"profile_background_color\": \"C0DEED\", \"profile_background_image_url\": \"http://abs.twimg.com/images/themes/theme1/bg.png\", \"profile_background_image_url_https\": \"https://abs.twimg.com/images/themes/theme1/bg.png\", \"profile_banner_url\": \"https://pbs.twimg.com/profile_banners/1060713474/1583756398\", \"profile_image_url\": \"http://pbs.twimg.com/profile_images/1302593123130826753/b3natOrQ_normal.jpg\", \"profile_image_url_https\": \"https://pbs.twimg.com/profile_images/1302593123130826753/b3natOrQ_normal.jpg\", \"profile_link_color\": \"1DA1F2\", \"profile_sidebar_border_color\": \"C0DEED\", \"profile_sidebar_fill_color\": \"DDEEF6\", \"profile_text_color\": \"333333\", \"profile_use_background_image\": true, \"screen_name\": \"SmokingSkills_\", \"statuses_count\": 61352}, \"user_mentions\": []}, \"source\": \"<a href=\\\"http://twitter.com/download/android\\\" rel=\\\"nofollow\\\">Twitter for Android</a>\", \"text\": \"RT @SmokingSkills_: They said Modi a dictator, mass murderer, rioter, Hitler, khooni darinda and many other choicest of abuses. Never in th\\u2026\", \"urls\": [], \"user\": {\"created_at\": \"Sun Jul 12 09:42:30 +0000 2020\", \"default_profile\": true, \"description\": \"RW\\u27a1\\ufe0f Modi Bhakt \\ud83d\\udd49\\ufe0f SanatanDharma\\ud83d\\udd1d India First\\ud83c\\uddee\\ud83c\\uddf3 \\nHates Liberal/secular/feminist/Radical islamist/Leftist/MughalGandhi/Nehru/PKMB\\n\\nfollowed by @dahrinoor2\\ud83d\\udd4a\", \"favourites_count\": 23856, \"followers_count\": 72, \"friends_count\": 320, \"id\": 1282248911478910976, \"id_str\": \"1282248911478910976\", \"name\": \"Vaibhav Agrawal\", \"profile_background_color\": \"F5F8FA\", \"profile_banner_url\": \"https://pbs.twimg.com/profile_banners/1282248911478910976/1596360012\", \"profile_image_url\": \"http://pbs.twimg.com/profile_images/1294306884883685376/ze5oxt62_normal.jpg\", \"profile_image_url_https\": \"https://pbs.twimg.com/profile_images/1294306884883685376/ze5oxt62_normal.jpg\", \"profile_link_color\": \"1DA1F2\", \"profile_sidebar_border_color\": \"C0DEED\", \"profile_sidebar_fill_color\": \"DDEEF6\", \"profile_text_color\": \"333333\", \"profile_use_background_image\": true, \"screen_name\": \"vaibhav1045\", \"statuses_count\": 8417}, \"user_mentions\": [{\"id\": 1060713474, \"id_str\": \"1060713474\", \"name\": \"Smoking Skills\", \"screen_name\": \"SmokingSkills_\"}]}\n",
      "{\"created_at\": \"Thu Sep 10 10:44:35 +0000 2020\", \"hashtags\": [], \"id\": 1304007860305575936, \"id_str\": \"1304007860305575936\", \"lang\": \"hi\", \"quoted_status_id\": 1303765756430041088, \"quoted_status_id_str\": \"1303765756430041088\", \"retweet_count\": 28, \"retweeted_status\": {\"created_at\": \"Thu Sep 10 07:54:27 +0000 2020\", \"favorite_count\": 143, \"hashtags\": [], \"id\": 1303965044183453702, \"id_str\": \"1303965044183453702\", \"lang\": \"hi\", \"quoted_status\": {\"created_at\": \"Wed Sep 09 18:42:33 +0000 2020\", \"favorite_count\": 22244, \"hashtags\": [{\"text\": \"\\u092e\\u0939\\u093e\\u0930\\u093e\\u0937\\u094d\\u091f\\u094d\\u0930_\\u0915\\u093e_CM_\\u0936\\u0947\\u0930_\\u0939\\u0948\"}], \"id\": 1303765756430041088, \"id_str\": \"1303765756430041088\", \"lang\": \"und\", \"media\": [{\"display_url\": \"pic.twitter.com/qoh1P6navK\", \"expanded_url\": \"https://twitter.com/Iamrahulkanal/status/1303765756430041088/photo/1\", \"id\": 1303765736100450305, \"media_url\": \"http://pbs.twimg.com/media/EhfoB4KX0AEQ8xF.jpg\", \"media_url_https\": \"https://pbs.twimg.com/media/EhfoB4KX0AEQ8xF.jpg\", \"sizes\": {\"large\": {\"h\": 1546, \"resize\": \"fit\", \"w\": 1242}, \"medium\": {\"h\": 1200, \"resize\": \"fit\", \"w\": 964}, \"small\": {\"h\": 680, \"resize\": \"fit\", \"w\": 546}, \"thumb\": {\"h\": 150, \"resize\": \"crop\", \"w\": 150}}, \"type\": \"photo\", \"url\": \"https://t.co/qoh1P6navK\"}], \"retweet_count\": 3542, \"source\": \"<a href=\\\"http://twitter.com/download/iphone\\\" rel=\\\"nofollow\\\">Twitter for iPhone</a>\", \"text\": \"#\\u092e\\u0939\\u093e\\u0930\\u093e\\u0937\\u094d\\u091f\\u094d\\u0930_\\u0915\\u093e_CM_\\u0936\\u0947\\u0930_\\u0939\\u0948  \\ud83d\\ude4f\\ud83c\\udffb https://t.co/qoh1P6navK\", \"urls\": [], \"user\": {\"created_at\": \"Sat May 07 01:20:39 +0000 2011\", \"description\": \"Core - committee Member Yuva Sena ,Member of the Education committee at the M.C.G.M,BMC President - I\\u2764\\ufe0fMumbai Foundation. RT's are not endorsements...\", \"favourites_count\": 41328, \"followers_count\": 62670, \"friends_count\": 467, \"geo_enabled\": true, \"id\": 294371167, \"id_str\": \"294371167\", \"listed_count\": 27, \"location\": \"MUMBAI\", \"name\": \"Rahul.N.Kanal\", \"profile_background_color\": \"000000\", \"profile_background_image_url\": \"http://abs.twimg.com/images/themes/theme1/bg.png\", \"profile_background_image_url_https\": \"https://abs.twimg.com/images/themes/theme1/bg.png\", \"profile_banner_url\": \"https://pbs.twimg.com/profile_banners/294371167/1599686097\", \"profile_image_url\": \"http://pbs.twimg.com/profile_images/1277955423060942850/B-ttbbuI_normal.jpg\", \"profile_image_url_https\": \"https://pbs.twimg.com/profile_images/1277955423060942850/B-ttbbuI_normal.jpg\", \"profile_link_color\": \"FF691F\", \"profile_sidebar_border_color\": \"000000\", \"profile_sidebar_fill_color\": \"000000\", \"profile_text_color\": \"000000\", \"screen_name\": \"Iamrahulkanal\", \"statuses_count\": 29755, \"verified\": true}, \"user_mentions\": []}, \"quoted_status_id\": 1303765756430041088, \"quoted_status_id_str\": \"1303765756430041088\", \"retweet_count\": 28, \"source\": \"<a href=\\\"http://twitter.com/download/android\\\" rel=\\\"nofollow\\\">Twitter for Android</a>\", \"text\": \"\\u0936\\u0947\\u0930\\u0942 \\u0939\\u0948 \\u0936\\u0947\\u0930\\u0942 https://t.co/uEo0dOa598\", \"urls\": [{\"expanded_url\": \"https://twitter.com/Iamrahulkanal/status/1303765756430041088\", \"url\": \"https://t.co/uEo0dOa598\"}], \"user\": {\"created_at\": \"Wed Apr 25 19:41:10 +0000 2018\", \"default_profile\": true, \"description\": \"\\ud83d\\ude4f(\\u0930\\u093e\\u0937\\u094d\\u091f\\u094d\\u0930 \\u092a\\u094d\\u0930\\u0925\\u092e-\\u0935\\u0928\\u094d\\u0926\\u0947\\u092e\\u093e\\u0924\\u0930\\u092e\\u094d-\\u091c\\u092f \\u0939\\u093f\\u0928\\u094d\\u0926)\\ud83d\\ude4f\\u092a\\u094d\\u0930\\u0923\\u093e\\u092e  \\u0939\\u092e\\u093e\\u0930\\u0940 \\u0938\\u0947\\u0928\\u093e \\u0914\\u0930 \\u0935\\u0940\\u0930 \\u0938\\u0948\\u0928\\u093f\\u0915\\u094b \\u0915\\u094b \\u091c\\u094b \\u0939\\u092e\\u0947\\u0902 \\u091c\\u093e\\u0928\\u0924\\u0947 \\u0924\\u0915 \\u0928\\u0939\\u0940\\u0902 \\u0939\\u0948\\u0902 \\u0932\\u0947\\u0915\\u093f\\u0928 \\u0939\\u0930 \\u0926\\u093f\\u0928  \\u0939\\u092e\\u093e\\u0930\\u0940 \\u0939\\u093f\\u092b\\u093e\\u091c\\u0924 \\u0915\\u0930\\u0924\\u0947 \\u0939\\u0948 \\ud83d\\ude4f\\ud83d\\ude4f\", \"favourites_count\": 153095, \"followers_count\": 14421, \"friends_count\": 14453, \"id\": 989227837906399233, \"id_str\": \"989227837906399233\", \"listed_count\": 1, \"location\": \" \\u0939\\u093f\\u0928\\u094d\\u0926\\u0941\\u0938\\u094d\\u0924\\u093e\\u0928 \", \"name\": \"\\ud83d\\ude4f\\u0930\\u093e\\u091c \\u0924\\u093f\\u0935\\u093e\\u0930\\u0940 \\ud83d\\ude4f\", \"profile_background_color\": \"F5F8FA\", \"profile_banner_url\": \"https://pbs.twimg.com/profile_banners/989227837906399233/1527359880\", \"profile_image_url\": \"http://pbs.twimg.com/profile_images/1291372378455384069/0ej225R3_normal.jpg\", \"profile_image_url_https\": \"https://pbs.twimg.com/profile_images/1291372378455384069/0ej225R3_normal.jpg\", \"profile_link_color\": \"1DA1F2\", \"profile_sidebar_border_color\": \"C0DEED\", \"profile_sidebar_fill_color\": \"DDEEF6\", \"profile_text_color\": \"333333\", \"profile_use_background_image\": true, \"screen_name\": \"RajTiwa56444261\", \"statuses_count\": 272425}, \"user_mentions\": []}, \"source\": \"<a href=\\\"http://twitter.com/download/android\\\" rel=\\\"nofollow\\\">Twitter for Android</a>\", \"text\": \"RT @RajTiwa56444261: \\u0936\\u0947\\u0930\\u0942 \\u0939\\u0948 \\u0936\\u0947\\u0930\\u0942\", \"urls\": [], \"user\": {\"created_at\": \"Sun Jun 21 18:54:21 +0000 2020\", \"default_profile\": true, \"description\": \"\\u092a\\u093f\\u091b\\u0932\\u093e \\u0905\\u0915\\u093e\\u0909\\u0902\\u091f \\u0926\\u0947\\u0936\\u0926\\u094d\\u0930\\u094b\\u0939\\u0940 \\u0913\\u0930 \\u091a\\u092e\\u091a\\u094b\\u0902 \\u0928\\u0947 \\u0938\\u0938\\u094d\\u092a\\u0947\\u0902\\u0921 \\u0915\\u0930\\u0935\\u093e \\u0926\\u093f\\u092f\\u093e\\n\\u091c\\u093e\\u0924\\u093f\\u0935\\u093e\\u0926\\u0940 \\u0926\\u0942\\u0930 \\u0930\\u0939\\u0947 mc\", \"favourites_count\": 397, \"followers_count\": 85, \"friends_count\": 256, \"id\": 1274777537818710022, \"id_str\": \"1274777537818710022\", \"name\": \"\\u0926\\u0947\\u0935 \\ud83d\\udc51TPN\", \"profile_background_color\": \"F5F8FA\", \"profile_image_url\": \"http://pbs.twimg.com/profile_images/1290111674792386560/G3RV_FU8_normal.jpg\", \"profile_image_url_https\": \"https://pbs.twimg.com/profile_images/1290111674792386560/G3RV_FU8_normal.jpg\", \"profile_link_color\": \"1DA1F2\", \"profile_sidebar_border_color\": \"C0DEED\", \"profile_sidebar_fill_color\": \"DDEEF6\", \"profile_text_color\": \"333333\", \"profile_use_background_image\": true, \"screen_name\": \"dev_modi_\", \"statuses_count\": 2070}, \"user_mentions\": [{\"id\": 989227837906399233, \"id_str\": \"989227837906399233\", \"name\": \"\\ud83d\\ude4f\\u0930\\u093e\\u091c \\u0924\\u093f\\u0935\\u093e\\u0930\\u0940 \\ud83d\\ude4f\", \"screen_name\": \"RajTiwa56444261\"}]}\n",
      "{\"created_at\": \"Thu Sep 10 10:44:35 +0000 2020\", \"hashtags\": [], \"id\": 1304007859655630848, \"id_str\": \"1304007859655630848\", \"in_reply_to_screen_name\": \"saahilmenghani\", \"in_reply_to_status_id\": 1304004359533948928, \"in_reply_to_user_id\": 79178279, \"lang\": \"en\", \"source\": \"<a href=\\\"http://twitter.com/download/iphone\\\" rel=\\\"nofollow\\\">Twitter for iPhone</a>\", \"text\": \"@saahilmenghani @narendramodi She is Modi Bhakt and she believes his decision. She needs to see more than this. No sympathy.\", \"urls\": [], \"user\": {\"created_at\": \"Mon Feb 27 17:19:15 +0000 2017\", \"default_profile\": true, \"description\": \"I support AAP or any Govt that gives quality health and education.\", \"favourites_count\": 174944, \"followers_count\": 930, \"friends_count\": 657, \"id\": 836264444921511936, \"id_str\": \"836264444921511936\", \"listed_count\": 1, \"location\": \"London, England\", \"name\": \"Aman Jhutty\", \"profile_background_color\": \"F5F8FA\", \"profile_banner_url\": \"https://pbs.twimg.com/profile_banners/836264444921511936/1548605128\", \"profile_image_url\": \"http://pbs.twimg.com/profile_images/1297240740142223366/zv1l0voG_normal.jpg\", \"profile_image_url_https\": \"https://pbs.twimg.com/profile_images/1297240740142223366/zv1l0voG_normal.jpg\", \"profile_link_color\": \"1DA1F2\", \"profile_sidebar_border_color\": \"C0DEED\", \"profile_sidebar_fill_color\": \"DDEEF6\", \"profile_text_color\": \"333333\", \"profile_use_background_image\": true, \"screen_name\": \"AmanKJhooti\", \"statuses_count\": 36958}, \"user_mentions\": [{\"id\": 79178279, \"id_str\": \"79178279\", \"name\": \"Saahil Murli Menghani\", \"screen_name\": \"saahilmenghani\"}, {\"id\": 18839785, \"id_str\": \"18839785\", \"name\": \"Narendra Modi\", \"screen_name\": \"narendramodi\"}]}\n",
      "{\"created_at\": \"Thu Sep 10 10:44:35 +0000 2020\", \"hashtags\": [], \"id\": 1304007858204278784, \"id_str\": \"1304007858204278784\", \"lang\": \"en\", \"retweet_count\": 50, \"retweeted_status\": {\"created_at\": \"Thu Sep 10 10:39:46 +0000 2020\", \"favorite_count\": 124, \"hashtags\": [], \"id\": 1304006647912644609, \"id_str\": \"1304006647912644609\", \"lang\": \"en\", \"retweet_count\": 50, \"source\": \"<a href=\\\"http://twitter.com/download/iphone\\\" rel=\\\"nofollow\\\">Twitter for iPhone</a>\", \"text\": \"Exams during Corona pandemic is MasterStroke of Modi Ji, they want to make India number one in terms of total cases \\ud83c\\udf1a\", \"urls\": [], \"user\": {\"created_at\": \"Tue Oct 20 11:12:08 +0000 2009\", \"description\": \"Socio-Political Activist\\u0964National Convenor @DalitArmy_ |RTs & Likes Are NOT Endorsements\\u0964 Views Personal\\u0964Connecting with Secular People\", \"favourites_count\": 671, \"followers_count\": 113494, \"friends_count\": 57043, \"geo_enabled\": true, \"id\": 83821511, \"id_str\": \"83821511\", \"listed_count\": 34, \"location\": \"London\\u0964\\u092d\\u093e\\u0930\\u0924\", \"name\": \"Yash Meghwal\", \"profile_background_color\": \"000000\", \"profile_background_image_url\": \"http://abs.twimg.com/images/themes/theme1/bg.png\", \"profile_background_image_url_https\": \"https://abs.twimg.com/images/themes/theme1/bg.png\", \"profile_image_url\": \"http://pbs.twimg.com/profile_images/1247941495295840259/0LHV_EoP_normal.jpg\", \"profile_image_url_https\": \"https://pbs.twimg.com/profile_images/1247941495295840259/0LHV_EoP_normal.jpg\", \"profile_link_color\": \"1B95E0\", \"profile_sidebar_border_color\": \"000000\", \"profile_sidebar_fill_color\": \"000000\", \"profile_text_color\": \"000000\", \"screen_name\": \"YashMeghwal\", \"statuses_count\": 2740, \"url\": \"https://t.co/o286sPq5Lh\", \"verified\": true}, \"user_mentions\": []}, \"source\": \"<a href=\\\"https://mobile.twitter.com\\\" rel=\\\"nofollow\\\">Twitter Web App</a>\", \"text\": \"RT @YashMeghwal: Exams during Corona pandemic is MasterStroke of Modi Ji, they want to make India number one in terms of total cases \\ud83c\\udf1a\", \"urls\": [], \"user\": {\"created_at\": \"Sat Aug 07 02:52:25 +0000 2010\", \"default_profile\": true, \"default_profile_image\": true, \"favourites_count\": 45260, \"followers_count\": 767, \"friends_count\": 3325, \"id\": 175612701, \"id_str\": \"175612701\", \"listed_count\": 26, \"name\": \"ASHWANI KUMAR GOYAL\", \"profile_background_color\": \"C0DEED\", \"profile_background_image_url\": \"http://abs.twimg.com/images/themes/theme1/bg.png\", \"profile_background_image_url_https\": \"https://abs.twimg.com/images/themes/theme1/bg.png\", \"profile_image_url\": \"http://abs.twimg.com/sticky/default_profile_images/default_profile_normal.png\", \"profile_image_url_https\": \"https://abs.twimg.com/sticky/default_profile_images/default_profile_normal.png\", \"profile_link_color\": \"1DA1F2\", \"profile_sidebar_border_color\": \"C0DEED\", \"profile_sidebar_fill_color\": \"DDEEF6\", \"profile_text_color\": \"333333\", \"profile_use_background_image\": true, \"screen_name\": \"18AKGOYAL\", \"statuses_count\": 552271}, \"user_mentions\": [{\"id\": 83821511, \"id_str\": \"83821511\", \"name\": \"Yash Meghwal\", \"screen_name\": \"YashMeghwal\"}]}\n",
      "{\"created_at\": \"Thu Sep 10 10:44:34 +0000 2020\", \"hashtags\": [{\"text\": \"SupremeCourtOfIndia\"}], \"id\": 1304007853439549440, \"id_str\": \"1304007853439549440\", \"lang\": \"en\", \"retweet_count\": 222, \"retweeted_status\": {\"created_at\": \"Thu Sep 10 08:51:50 +0000 2020\", \"favorite_count\": 422, \"hashtags\": [{\"text\": \"SupremeCourtOfIndia\"}], \"id\": 1303979483246915584, \"id_str\": \"1303979483246915584\", \"lang\": \"en\", \"retweet_count\": 222, \"source\": \"<a href=\\\"http://twitter.com/#!/download/ipad\\\" rel=\\\"nofollow\\\">Twitter for iPad</a>\", \"text\": \"So, a retired #SupremeCourtOfIndia judge, @mkatju shall testify before a UK court that Indian judiciary is \\u201ccommitt\\u2026 https://t.co/APy8cMkeYe\", \"truncated\": true, \"urls\": [{\"expanded_url\": \"https://twitter.com/i/web/status/1303979483246915584\", \"url\": \"https://t.co/APy8cMkeYe\"}], \"user\": {\"created_at\": \"Sun Jun 14 12:33:08 +0000 2009\", \"default_profile\": true, \"description\": \"Writer, Op-ed columnist. Eclectic interests. Contrarian. RIGHT of centre, not always politically correct. Views PERSONAL, not of EMPLOYER. RTs not endorsement.\", \"favourites_count\": 50483, \"followers_count\": 21397, \"friends_count\": 974, \"geo_enabled\": true, \"id\": 47083884, \"id_str\": \"47083884\", \"listed_count\": 236, \"location\": \"Locked-Down\", \"name\": \"GhoseSpot\", \"profile_background_color\": \"C0DEED\", \"profile_background_image_url\": \"http://abs.twimg.com/images/themes/theme1/bg.png\", \"profile_background_image_url_https\": \"https://abs.twimg.com/images/themes/theme1/bg.png\", \"profile_banner_url\": \"https://pbs.twimg.com/profile_banners/47083884/1593919782\", \"profile_image_url\": \"http://pbs.twimg.com/profile_images/1224023400781234178/S7oQoQuZ_normal.jpg\", \"profile_image_url_https\": \"https://pbs.twimg.com/profile_images/1224023400781234178/S7oQoQuZ_normal.jpg\", \"profile_link_color\": \"1DA1F2\", \"profile_sidebar_border_color\": \"C0DEED\", \"profile_sidebar_fill_color\": \"DDEEF6\", \"profile_text_color\": \"333333\", \"profile_use_background_image\": true, \"screen_name\": \"SandipGhose\", \"statuses_count\": 118991, \"url\": \"https://t.co/i0g2OGxZcB\", \"verified\": true}, \"user_mentions\": [{\"id\": 561335546, \"id_str\": \"561335546\", \"name\": \"Markandey Katju\", \"screen_name\": \"mkatju\"}]}, \"source\": \"<a href=\\\"http://twitter.com/download/android\\\" rel=\\\"nofollow\\\">Twitter for Android</a>\", \"text\": \"RT @SandipGhose: So, a retired #SupremeCourtOfIndia judge, @mkatju shall testify before a UK court that Indian judiciary is \\u201ccommitted\\u201d to\\u2026\", \"urls\": [], \"user\": {\"created_at\": \"Sun Jan 20 17:48:03 +0000 2019\", \"default_profile\": true, \"description\": \"Cricket Lover, A Proud \\ud83c\\uddee\\ud83c\\uddf3, Political Commentator\\nFollow me on Instagram @NamoNamay1\", \"favourites_count\": 136077, \"followers_count\": 126, \"friends_count\": 701, \"id\": 1087044095233613824, \"id_str\": \"1087044095233613824\", \"location\": \"India\", \"name\": \"Max Fury\", \"profile_background_color\": \"F5F8FA\", \"profile_image_url\": \"http://pbs.twimg.com/profile_images/1248511239203905537/g0qWhGRx_normal.jpg\", \"profile_image_url_https\": \"https://pbs.twimg.com/profile_images/1248511239203905537/g0qWhGRx_normal.jpg\", \"profile_link_color\": \"1DA1F2\", \"profile_sidebar_border_color\": \"C0DEED\", \"profile_sidebar_fill_color\": \"DDEEF6\", \"profile_text_color\": \"333333\", \"profile_use_background_image\": true, \"screen_name\": \"NamoNamay1\", \"statuses_count\": 12533}, \"user_mentions\": [{\"id\": 47083884, \"id_str\": \"47083884\", \"name\": \"GhoseSpot\", \"screen_name\": \"SandipGhose\"}, {\"id\": 561335546, \"id_str\": \"561335546\", \"name\": \"Markandey Katju\", \"screen_name\": \"mkatju\"}]}\n",
      "{\"created_at\": \"Thu Sep 10 10:44:33 +0000 2020\", \"hashtags\": [], \"id\": 1304007852046954498, \"id_str\": \"1304007852046954498\", \"lang\": \"en\", \"retweet_count\": 763, \"retweeted_status\": {\"created_at\": \"Thu Sep 10 08:09:44 +0000 2020\", \"favorite_count\": 2630, \"hashtags\": [], \"id\": 1303968889437642752, \"id_str\": \"1303968889437642752\", \"lang\": \"en\", \"retweet_count\": 763, \"source\": \"<a href=\\\"https://mobile.twitter.com\\\" rel=\\\"nofollow\\\">Twitter Web App</a>\", \"text\": \"As satellite images suggest China has made massive troops deployment &amp; set up new camps between Finger 4 &amp;5. Intell\\u2026 https://t.co/QWqq0Vcrqr\", \"truncated\": true, \"urls\": [{\"expanded_url\": \"https://twitter.com/i/web/status/1303968889437642752\", \"url\": \"https://t.co/QWqq0Vcrqr\"}], \"user\": {\"created_at\": \"Mon Aug 31 09:42:29 +0000 2009\", \"description\": \"Professor of Peace and Conflict Research, Uppsala University, Sweden. @UU_Peace Views are My Own.\", \"favourites_count\": 30469, \"followers_count\": 289378, \"friends_count\": 1829, \"id\": 70355674, \"id_str\": \"70355674\", \"listed_count\": 467, \"location\": \"Uppsala, Sweden\", \"name\": \"Ashok Swain\", \"profile_background_color\": \"000000\", \"profile_background_image_url\": \"http://abs.twimg.com/images/themes/theme1/bg.png\", \"profile_background_image_url_https\": \"https://abs.twimg.com/images/themes/theme1/bg.png\", \"profile_banner_url\": \"https://pbs.twimg.com/profile_banners/70355674/1525348824\", \"profile_image_url\": \"http://pbs.twimg.com/profile_images/1111360132783489024/gXWDvVZW_normal.png\", \"profile_image_url_https\": \"https://pbs.twimg.com/profile_images/1111360132783489024/gXWDvVZW_normal.png\", \"profile_link_color\": \"91D2FA\", \"profile_sidebar_border_color\": \"000000\", \"profile_sidebar_fill_color\": \"000000\", \"profile_text_color\": \"000000\", \"screen_name\": \"ashoswai\", \"statuses_count\": 50581, \"url\": \"https://t.co/GIPEZH1S5Y\", \"verified\": true}, \"user_mentions\": []}, \"source\": \"<a href=\\\"https://mobile.twitter.com\\\" rel=\\\"nofollow\\\">Twitter Web App</a>\", \"text\": \"RT @ashoswai: As satellite images suggest China has made massive troops deployment &amp; set up new camps between Finger 4 &amp;5. Intelligence rep\\u2026\", \"urls\": [], \"user\": {\"created_at\": \"Tue Nov 25 04:06:55 +0000 2008\", \"description\": \"Hard Core \\\"Bhakt\\\"\\nDon't B L I N K \\n'tis True \\n\\\"I proud to follow like minded Bhakts\\\"\", \"favourites_count\": 79634, \"followers_count\": 2723, \"friends_count\": 4951, \"geo_enabled\": true, \"id\": 17611642, \"id_str\": \"17611642\", \"listed_count\": 20, \"location\": \"Shangri-La\", \"name\": \"Terence\", \"profile_background_color\": \"000000\", \"profile_background_image_url\": \"http://abs.twimg.com/images/themes/theme1/bg.png\", \"profile_background_image_url_https\": \"https://abs.twimg.com/images/themes/theme1/bg.png\", \"profile_banner_url\": \"https://pbs.twimg.com/profile_banners/17611642/1538838082\", \"profile_image_url\": \"http://pbs.twimg.com/profile_images/1053700139/Terry002_normal.jpg\", \"profile_image_url_https\": \"https://pbs.twimg.com/profile_images/1053700139/Terry002_normal.jpg\", \"profile_link_color\": \"981CEB\", \"profile_sidebar_border_color\": \"000000\", \"profile_sidebar_fill_color\": \"000000\", \"profile_text_color\": \"000000\", \"screen_name\": \"terence_fdes\", \"statuses_count\": 139754}, \"user_mentions\": [{\"id\": 70355674, \"id_str\": \"70355674\", \"name\": \"Ashok Swain\", \"screen_name\": \"ashoswai\"}]}\n",
      "{\"created_at\": \"Thu Sep 10 10:44:33 +0000 2020\", \"hashtags\": [], \"id\": 1304007851094884352, \"id_str\": \"1304007851094884352\", \"lang\": \"en\", \"source\": \"<a href=\\\"https://www.modi2.com/\\\" rel=\\\"nofollow\\\">modi2news</a>\", \"text\": \"MODI 2,\\nIndian-origin Senator Kamala Harris for US vice president? Joe Biden's notes fuels speculation\\u2026 https://t.co/eCDOsm1s3S\", \"truncated\": true, \"urls\": [{\"expanded_url\": \"https://twitter.com/i/web/status/1304007851094884352\", \"url\": \"https://t.co/eCDOsm1s3S\"}], \"user\": {\"created_at\": \"Sun Jun 02 19:18:35 +0000 2019\", \"description\": \"Latest news from all over the world\\n\\n#indiannews #newsforindia #modi2 #india #indianpm #pm #narendramodi #namo #indianprimeminister #modi2.0\", \"favourites_count\": 770, \"followers_count\": 37, \"friends_count\": 20, \"id\": 1135264465174388736, \"id_str\": \"1135264465174388736\", \"name\": \"modi 2\", \"profile_background_color\": \"000000\", \"profile_background_image_url\": \"http://abs.twimg.com/images/themes/theme1/bg.png\", \"profile_background_image_url_https\": \"https://abs.twimg.com/images/themes/theme1/bg.png\", \"profile_banner_url\": \"https://pbs.twimg.com/profile_banners/1135264465174388736/1559506356\", \"profile_image_url\": \"http://pbs.twimg.com/profile_images/1144473613308817409/_l82-WQ6_normal.jpg\", \"profile_image_url_https\": \"https://pbs.twimg.com/profile_images/1144473613308817409/_l82-WQ6_normal.jpg\", \"profile_link_color\": \"FF691F\", \"profile_sidebar_border_color\": \"000000\", \"profile_sidebar_fill_color\": \"000000\", \"profile_text_color\": \"000000\", \"screen_name\": \"modi_2_\", \"statuses_count\": 44450, \"url\": \"https://t.co/fKPK3ooQra\"}, \"user_mentions\": []}\n",
      "{\"created_at\": \"Thu Sep 10 10:44:33 +0000 2020\", \"hashtags\": [{\"text\": \"China\"}, {\"text\": \"Ladhak\"}, {\"text\": \"PangongLake\"}, {\"text\": \"Modi\"}], \"id\": 1304007850184773635, \"id_str\": \"1304007850184773635\", \"lang\": \"en\", \"retweet_count\": 2, \"retweeted_status\": {\"created_at\": \"Thu Sep 10 08:17:02 +0000 2020\", \"favorite_count\": 1, \"hashtags\": [{\"text\": \"China\"}, {\"text\": \"Ladhak\"}, {\"text\": \"PangongLake\"}], \"id\": 1303970724629983232, \"id_str\": \"1303970724629983232\", \"in_reply_to_screen_name\": \"sudhirchaudhary\", \"in_reply_to_status_id\": 1303963481100685313, \"in_reply_to_user_id\": 75246346, \"lang\": \"en\", \"retweet_count\": 2, \"source\": \"<a href=\\\"http://twitter.com/download/android\\\" rel=\\\"nofollow\\\">Twitter for Android</a>\", \"text\": \"@sudhirchaudhary I think #China shouldn't interfere any further in #Ladhak  or #PangongLake . It's a New India of\\u2026 https://t.co/V8mqWFPz4T\", \"truncated\": true, \"urls\": [{\"expanded_url\": \"https://twitter.com/i/web/status/1303970724629983232\", \"url\": \"https://t.co/V8mqWFPz4T\"}], \"user\": {\"created_at\": \"Sat Jul 20 14:04:00 +0000 2013\", \"default_profile\": true, \"description\": \"Believe in diversity, peace,non -violence,economic & gender equality. Consider World as a Family. Like Modi for  Sabka Saath Sabka Vikas Sabka Vishwas.\", \"favourites_count\": 2139, \"followers_count\": 282, \"friends_count\": 213, \"geo_enabled\": true, \"id\": 1608340135, \"id_str\": \"1608340135\", \"listed_count\": 8, \"name\": \"A M GOYAL\", \"profile_background_color\": \"C0DEED\", \"profile_background_image_url\": \"http://abs.twimg.com/images/themes/theme1/bg.png\", \"profile_background_image_url_https\": \"https://abs.twimg.com/images/themes/theme1/bg.png\", \"profile_image_url\": \"http://pbs.twimg.com/profile_images/721343292206657541/U538nSC-_normal.jpg\", \"profile_image_url_https\": \"https://pbs.twimg.com/profile_images/721343292206657541/U538nSC-_normal.jpg\", \"profile_link_color\": \"1DA1F2\", \"profile_sidebar_border_color\": \"C0DEED\", \"profile_sidebar_fill_color\": \"DDEEF6\", \"profile_text_color\": \"333333\", \"profile_use_background_image\": true, \"screen_name\": \"amgoyal57\", \"statuses_count\": 10861}, \"user_mentions\": [{\"id\": 75246346, \"id_str\": \"75246346\", \"name\": \"Sudhir Chaudhary\", \"screen_name\": \"sudhirchaudhary\"}]}, \"source\": \"<a href=\\\"http://twitter.com/download/android\\\" rel=\\\"nofollow\\\">Twitter for Android</a>\", \"text\": \"RT @amgoyal57: @sudhirchaudhary I think #China shouldn't interfere any further in #Ladhak  or #PangongLake . It's a New India of #Modi and\\u2026\", \"urls\": [], \"user\": {\"created_at\": \"Sat Jul 20 14:04:00 +0000 2013\", \"default_profile\": true, \"description\": \"Believe in diversity, peace,non -violence,economic & gender equality. Consider World as a Family. Like Modi for  Sabka Saath Sabka Vikas Sabka Vishwas.\", \"favourites_count\": 2139, \"followers_count\": 282, \"friends_count\": 213, \"geo_enabled\": true, \"id\": 1608340135, \"id_str\": \"1608340135\", \"listed_count\": 8, \"name\": \"A M GOYAL\", \"profile_background_color\": \"C0DEED\", \"profile_background_image_url\": \"http://abs.twimg.com/images/themes/theme1/bg.png\", \"profile_background_image_url_https\": \"https://abs.twimg.com/images/themes/theme1/bg.png\", \"profile_image_url\": \"http://pbs.twimg.com/profile_images/721343292206657541/U538nSC-_normal.jpg\", \"profile_image_url_https\": \"https://pbs.twimg.com/profile_images/721343292206657541/U538nSC-_normal.jpg\", \"profile_link_color\": \"1DA1F2\", \"profile_sidebar_border_color\": \"C0DEED\", \"profile_sidebar_fill_color\": \"DDEEF6\", \"profile_text_color\": \"333333\", \"profile_use_background_image\": true, \"screen_name\": \"amgoyal57\", \"statuses_count\": 10861}, \"user_mentions\": [{\"id\": 1608340135, \"id_str\": \"1608340135\", \"name\": \"A M GOYAL\", \"screen_name\": \"amgoyal57\"}, {\"id\": 75246346, \"id_str\": \"75246346\", \"name\": \"Sudhir Chaudhary\", \"screen_name\": \"sudhirchaudhary\"}]}\n",
      "{\"created_at\": \"Thu Sep 10 10:44:31 +0000 2020\", \"hashtags\": [], \"id\": 1304007843951988736, \"id_str\": \"1304007843951988736\", \"lang\": \"en\", \"retweet_count\": 1229, \"retweeted_status\": {\"created_at\": \"Thu Sep 10 08:02:22 +0000 2020\", \"favorite_count\": 2818, \"hashtags\": [], \"id\": 1303967034120658944, \"id_str\": \"1303967034120658944\", \"lang\": \"en\", \"retweet_count\": 1229, \"source\": \"<a href=\\\"http://twitter.com/download/android\\\" rel=\\\"nofollow\\\">Twitter for Android</a>\", \"text\": \"Modi yesterday reduced PF rate to 8.15%, the lowest rate in 43 yrs!\\n\\nModi had cut PPF, Senior Citizens Savings Rate\\u2026 https://t.co/yAZydG2Mos\", \"truncated\": true, \"urls\": [{\"expanded_url\": \"https://twitter.com/i/web/status/1303967034120658944\", \"url\": \"https://t.co/yAZydG2Mos\"}], \"user\": {\"created_at\": \"Sun Jun 07 02:00:29 +0000 2009\", \"description\": \"Congressman | Politics | Karnataka | \\u0c95\\u0ca8\\u0ccd\\u0ca8\\u0ca1 | Patriot | Former Karnataka Congress Social Media Head | National Campaign In-charge, Youth Congress\", \"favourites_count\": 77207, \"followers_count\": 174584, \"friends_count\": 4057, \"geo_enabled\": true, \"id\": 45261768, \"id_str\": \"45261768\", \"listed_count\": 251, \"location\": \"Bengaluru\", \"name\": \"Srivatsa\", \"profile_background_color\": \"000000\", \"profile_background_image_url\": \"http://abs.twimg.com/images/themes/theme9/bg.gif\", \"profile_background_image_url_https\": \"https://abs.twimg.com/images/themes/theme9/bg.gif\", \"profile_banner_url\": \"https://pbs.twimg.com/profile_banners/45261768/1570360210\", \"profile_image_url\": \"http://pbs.twimg.com/profile_images/1231230013019578369/r0LS1csf_normal.jpg\", \"profile_image_url_https\": \"https://pbs.twimg.com/profile_images/1231230013019578369/r0LS1csf_normal.jpg\", \"profile_link_color\": \"DD2E44\", \"profile_sidebar_border_color\": \"000000\", \"profile_sidebar_fill_color\": \"000000\", \"profile_text_color\": \"000000\", \"screen_name\": \"srivatsayb\", \"statuses_count\": 84138, \"url\": \"https://t.co/hCiy7I1RIN\", \"verified\": true}, \"user_mentions\": []}, \"source\": \"<a href=\\\"http://twitter.com/download/android\\\" rel=\\\"nofollow\\\">Twitter for Android</a>\", \"text\": \"RT @srivatsayb: Modi yesterday reduced PF rate to 8.15%, the lowest rate in 43 yrs!\\n\\nModi had cut PPF, Senior Citizens Savings Rate to 7.1\\u2026\", \"urls\": [], \"user\": {\"created_at\": \"Wed Nov 21 05:46:33 +0000 2018\", \"default_profile\": true, \"favourites_count\": 2558, \"followers_count\": 94, \"friends_count\": 452, \"id\": 1065119254041612288, \"id_str\": \"1065119254041612288\", \"location\": \"\\u0938\\u094b\\u0932\\u093e\\u092a\\u0942\\u0930\\u091a\\u093e \\u0939\\u093e\\u092f \\u092c\\u0947 \\u092e\\u0940.\", \"name\": \"soham patil\", \"profile_background_color\": \"F5F8FA\", \"profile_banner_url\": \"https://pbs.twimg.com/profile_banners/1065119254041612288/1582964341\", \"profile_image_url\": \"http://pbs.twimg.com/profile_images/1242478169673748480/vqPFoQRW_normal.jpg\", \"profile_image_url_https\": \"https://pbs.twimg.com/profile_images/1242478169673748480/vqPFoQRW_normal.jpg\", \"profile_link_color\": \"1DA1F2\", \"profile_sidebar_border_color\": \"C0DEED\", \"profile_sidebar_fill_color\": \"DDEEF6\", \"profile_text_color\": \"333333\", \"profile_use_background_image\": true, \"screen_name\": \"2151Soham\", \"statuses_count\": 1512}, \"user_mentions\": [{\"id\": 45261768, \"id_str\": \"45261768\", \"name\": \"Srivatsa\", \"screen_name\": \"srivatsayb\"}]}\n",
      "{\"created_at\": \"Thu Sep 10 10:44:31 +0000 2020\", \"hashtags\": [], \"id\": 1304007842198937600, \"id_str\": \"1304007842198937600\", \"lang\": \"en\", \"retweet_count\": 216, \"retweeted_status\": {\"created_at\": \"Thu Sep 10 04:43:02 +0000 2020\", \"favorite_count\": 289, \"hashtags\": [], \"id\": 1303916873000468480, \"id_str\": \"1303916873000468480\", \"lang\": \"en\", \"retweet_count\": 216, \"source\": \"<a href=\\\"http://twitter.com/download/android\\\" rel=\\\"nofollow\\\">Twitter for Android</a>\", \"text\": \"We are not only in the middle of a pandemic but also in the middle of a job epidemic as well because the job crisis\\u2026 https://t.co/RLlvja2olP\", \"truncated\": true, \"urls\": [{\"expanded_url\": \"https://twitter.com/i/web/status/1303916873000468480\", \"url\": \"https://t.co/RLlvja2olP\"}], \"user\": {\"created_at\": \"Tue Jun 12 13:07:20 +0000 2012\", \"description\": \"I am the master of my fate, I am the captain of my soul | National Co-Coordinator Social Media Department Indian National Congress\", \"favourites_count\": 33127, \"followers_count\": 12503, \"friends_count\": 1395, \"id\": 606307360, \"id_str\": \"606307360\", \"listed_count\": 45, \"location\": \"Mumbai, India\", \"name\": \"Maanmohan Singh Pahujaa\", \"profile_background_color\": \"000000\", \"profile_background_image_url\": \"http://abs.twimg.com/images/themes/theme1/bg.png\", \"profile_background_image_url_https\": \"https://abs.twimg.com/images/themes/theme1/bg.png\", \"profile_banner_url\": \"https://pbs.twimg.com/profile_banners/606307360/1598187858\", \"profile_image_url\": \"http://pbs.twimg.com/profile_images/1293610743141502977/lwFJVwcC_normal.jpg\", \"profile_image_url_https\": \"https://pbs.twimg.com/profile_images/1293610743141502977/lwFJVwcC_normal.jpg\", \"profile_link_color\": \"3B94D9\", \"profile_sidebar_border_color\": \"000000\", \"profile_sidebar_fill_color\": \"000000\", \"profile_text_color\": \"000000\", \"screen_name\": \"msgpahujaa\", \"statuses_count\": 85808, \"url\": \"https://t.co/tU2MuipxAY\"}, \"user_mentions\": []}, \"source\": \"<a href=\\\"https://mobile.twitter.com\\\" rel=\\\"nofollow\\\">Twitter Web App</a>\", \"text\": \"RT @msgpahujaa: We are not only in the middle of a pandemic but also in the middle of a job epidemic as well because the job crisis in Modi\\u2026\", \"urls\": [], \"user\": {\"created_at\": \"Thu Oct 27 22:46:16 +0000 2011\", \"default_profile\": true, \"description\": \"#SavePangong\", \"favourites_count\": 76377, \"followers_count\": 1332, \"friends_count\": 2011, \"id\": 399714333, \"id_str\": \"399714333\", \"listed_count\": 1, \"location\": \"USA\", \"name\": \"mverdoux\", \"profile_background_color\": \"C0DEED\", \"profile_background_image_url\": \"http://abs.twimg.com/images/themes/theme1/bg.png\", \"profile_background_image_url_https\": \"https://abs.twimg.com/images/themes/theme1/bg.png\", \"profile_image_url\": \"http://pbs.twimg.com/profile_images/1293226867592433665/p93yqcPe_normal.jpg\", \"profile_image_url_https\": \"https://pbs.twimg.com/profile_images/1293226867592433665/p93yqcPe_normal.jpg\", \"profile_link_color\": \"1DA1F2\", \"profile_sidebar_border_color\": \"C0DEED\", \"profile_sidebar_fill_color\": \"DDEEF6\", \"profile_text_color\": \"333333\", \"profile_use_background_image\": true, \"screen_name\": \"mverdoux\", \"statuses_count\": 56001}, \"user_mentions\": [{\"id\": 606307360, \"id_str\": \"606307360\", \"name\": \"Maanmohan Singh Pahujaa\", \"screen_name\": \"msgpahujaa\"}]}\n"
     ]
    }
   ],
   "source": [
    "import json\n",
    "import time\n",
    "#Load the tweets into a directory for every 20 seconds and load all the tweets as a file\n",
    "\n",
    "fileno = 0\n",
    "while fileno < 3:  #:(1):\n",
    "    file = open(\"/home/aselezn/tweeterdata/tweets_{}\".format(fileno),\"w\")\n",
    "    tweets = api_auth.GetSearch(\"modi\")\n",
    "    for tweet in tweets:    \n",
    "        tweet_json = json.loads((str)(tweet))\n",
    "        print(tweet)\n",
    "        file.write((str)(tweet_json))\n",
    "        file.write(\"\\n\")\n",
    "    fileno = fileno+1 \n",
    "    time.sleep(20)"
   ]
  },
  {
   "cell_type": "code",
   "execution_count": 16,
   "metadata": {},
   "outputs": [],
   "source": [
    "twitter_stream = ssc.textFileStream(\"/home/aselezn/tweeterdata/\")\n",
    "\n",
    "def f1(rdd):\n",
    "    rdd.count()\n",
    "    \n",
    "    \n",
    "twitter_stream.foreachRDD(f1)"
   ]
  },
  {
   "cell_type": "code",
   "execution_count": 17,
   "metadata": {},
   "outputs": [],
   "source": [
    "twitter_stream.pprint()"
   ]
  },
  {
   "cell_type": "code",
   "execution_count": 18,
   "metadata": {},
   "outputs": [
    {
     "name": "stdout",
     "output_type": "stream",
     "text": [
      "-------------------------------------------\n",
      "Time: 2020-09-10 12:50:45\n",
      "-------------------------------------------\n",
      "\n",
      "-------------------------------------------\n",
      "Time: 2020-09-10 12:51:00\n",
      "-------------------------------------------\n",
      "\n"
     ]
    }
   ],
   "source": [
    "ssc.start()"
   ]
  },
  {
   "cell_type": "code",
   "execution_count": 19,
   "metadata": {},
   "outputs": [],
   "source": [
    "ssc.stop(False)"
   ]
  }
 ],
 "metadata": {
  "kernelspec": {
   "display_name": "Python3.6 + Pyspark(Spark 2.4)",
   "language": "python",
   "name": "pyspark2"
  },
  "language_info": {
   "codemirror_mode": {
    "name": "ipython",
    "version": 3
   },
   "file_extension": ".py",
   "mimetype": "text/x-python",
   "name": "python",
   "nbconvert_exporter": "python",
   "pygments_lexer": "ipython3",
   "version": "3.6.8"
  }
 },
 "nbformat": 4,
 "nbformat_minor": 4
}
