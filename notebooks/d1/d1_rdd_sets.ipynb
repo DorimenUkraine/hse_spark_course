{
 "cells": [
  {
   "cell_type": "code",
   "execution_count": 1,
   "metadata": {},
   "outputs": [],
   "source": [
    "import os\n",
    "import glob\n",
    "import sys\n",
    "\n",
    "\n",
    "os.environ['SPARK_DIST_CLASSPATH']=\"\"\"/opt/spark2/conf/yarn-conf:/opt/hadoop2/share/hadoop/common/lib/*:/opt/hadoop2/share/hadoop/common/*:/opt/hadoop2/share/hadoop/hdfs:/opt/hadoop2/share/hadoop/hdfs/lib/*:/opt/hadoop2/share/hadoop/hdfs/*:/opt/hadoop2/share/hadoop/yarn/lib/*:/opt/hadoop2/share/hadoop/yarn/*:/opt/hadoop2/share/hadoop/mapreduce/lib/*:/opt/hadoop2/share/hadoop/mapreduce/*\"\"\"\n",
    "\n",
    "\n",
    "import pyspark\n",
    "from pyspark import SparkContext, SparkConf\n",
    "from pyspark.sql import SparkSession\n"
   ]
  },
  {
   "cell_type": "code",
   "execution_count": 2,
   "metadata": {},
   "outputs": [],
   "source": [
    "if not 'sc' in globals():\n",
    "    conf = SparkConf().setAppName(\"TestName\")\n",
    "    sc = SparkContext(conf=conf)"
   ]
  },
  {
   "cell_type": "code",
   "execution_count": 4,
   "metadata": {},
   "outputs": [
    {
     "data": {
      "text/plain": [
       "['Lion', 'Dolphin', 'Whale', 'Shark', 'Dolphin', 'Whale']"
      ]
     },
     "execution_count": 4,
     "metadata": {},
     "output_type": "execute_result"
    }
   ],
   "source": [
    "mammals = sc.parallelize([\"Lion\", \"Dolphin\", \"Whale\"])\n",
    "aquatics = sc.parallelize([\"Shark\", \"Dolphin\", \"Whale\"])\n",
    "zoo = mammals.union(aquatics)\n",
    "zoo.collect()"
   ]
  },
  {
   "cell_type": "code",
   "execution_count": 5,
   "metadata": {},
   "outputs": [
    {
     "data": {
      "text/plain": [
       "['Dolphin', 'Whale']"
      ]
     },
     "execution_count": 5,
     "metadata": {},
     "output_type": "execute_result"
    }
   ],
   "source": [
    "mammals = sc.parallelize([\"Lion\", \"Dolphin\", \"Whale\"])\n",
    "aquatics = sc.parallelize([\"Shark\", \"Dolphin\", \"Whale\"])\n",
    "aquaticMammals = mammals.intersection(aquatics)\n",
    "aquaticMammals.collect()"
   ]
  },
  {
   "cell_type": "code",
   "execution_count": 6,
   "metadata": {},
   "outputs": [
    {
     "data": {
      "text/plain": [
       "[]"
      ]
     },
     "execution_count": 6,
     "metadata": {},
     "output_type": "execute_result"
    }
   ],
   "source": [
    "mammals = sc.parallelize([\"Lion\", \"Dolphin\", \"Whale\"])\n",
    "aquatics =sc.parallelize([])\n",
    "fishes = aquatics.subtract(mammals)\n",
    "fishes.collect()"
   ]
  },
  {
   "cell_type": "code",
   "execution_count": 7,
   "metadata": {},
   "outputs": [
    {
     "data": {
      "text/plain": [
       "['Dolphin', 'Shark', 'Lion', 'Whale']"
      ]
     },
     "execution_count": 7,
     "metadata": {},
     "output_type": "execute_result"
    }
   ],
   "source": [
    "sc.parallelize([\"Lion\", \"Dolphin\", \"Whale\",\"Shark\", \"Dolphin\", \"Whale\"]).distinct().collect()"
   ]
  },
  {
   "cell_type": "code",
   "execution_count": null,
   "metadata": {},
   "outputs": [],
   "source": []
  }
 ],
 "metadata": {
  "kernelspec": {
   "display_name": "Python3.6 + Pyspark(Spark 2.2.0)",
   "language": "python",
   "name": "pyspark2"
  },
  "language_info": {
   "codemirror_mode": {
    "name": "ipython",
    "version": 3
   },
   "file_extension": ".py",
   "mimetype": "text/x-python",
   "name": "python",
   "nbconvert_exporter": "python",
   "pygments_lexer": "ipython3",
   "version": "3.6.8"
  }
 },
 "nbformat": 4,
 "nbformat_minor": 4
}
